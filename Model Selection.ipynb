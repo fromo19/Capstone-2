{
 "cells": [
  {
   "cell_type": "code",
   "execution_count": 1,
   "metadata": {},
   "outputs": [],
   "source": [
    "import pandas as pd\n",
    "import numpy as np\n",
    "import matplotlib.pyplot as plt\n",
    "import seaborn as sns\n",
    "import sklearn\n",
    "from sklearn.pipeline import Pipeline\n",
    "from sklearn.preprocessing import StandardScaler\n",
    "from sklearn.linear_model import Ridge, Lasso\n",
    "from sklearn.ensemble import RandomForestRegressor\n",
    "import xgboost as xgb\n",
    "from sklearn.metrics import mean_squared_error\n",
    "from sklearn.model_selection import RandomizedSearchCV, cross_val_score, GridSearchCV"
   ]
  },
  {
   "cell_type": "code",
   "execution_count": 2,
   "metadata": {},
   "outputs": [],
   "source": [
    "rand_state = 19"
   ]
  },
  {
   "cell_type": "markdown",
   "metadata": {},
   "source": [
    "Load train and test data"
   ]
  },
  {
   "cell_type": "code",
   "execution_count": 3,
   "metadata": {},
   "outputs": [],
   "source": [
    "hold_out = pd.read_csv('/Users/coleromanyk/Documents/GitHub/Capstone 2/hold_out_data300.csv')\n",
    "train_data= pd.read_csv('/Users/coleromanyk/Documents/GitHub/Capstone 2/SMOTE300_data.csv')"
   ]
  },
  {
   "cell_type": "code",
   "execution_count": 4,
   "metadata": {},
   "outputs": [
    {
     "name": "stdout",
     "output_type": "stream",
     "text": [
      "<class 'pandas.core.frame.DataFrame'>\n",
      "RangeIndex: 300 entries, 0 to 299\n",
      "Data columns (total 13 columns):\n",
      " #   Column                                   Non-Null Count  Dtype  \n",
      "---  ------                                   --------------  -----  \n",
      " 0   Year                                     300 non-null    int64  \n",
      " 1   Per Acre Emissions                       300 non-null    float64\n",
      " 2   N                                        300 non-null    float64\n",
      " 3   P                                        300 non-null    float64\n",
      " 4   Potash                                   300 non-null    float64\n",
      " 5   IN Corn Yield per Acre                   300 non-null    int64  \n",
      " 6   Precipitation                            300 non-null    float64\n",
      " 7   Average Temperature                      300 non-null    float64\n",
      " 8   IN No Till Corn (Thousands of acres)     300 non-null    float64\n",
      " 9   IN Con Till Corn (Thousands of acres)    300 non-null    float64\n",
      " 10  IN Corn Cover Crop (Thousands of acres)  300 non-null    float64\n",
      " 11  Conventional Till                        300 non-null    float64\n",
      " 12  efficiency                               300 non-null    float64\n",
      "dtypes: float64(11), int64(2)\n",
      "memory usage: 30.6 KB\n",
      "None\n"
     ]
    },
    {
     "data": {
      "text/html": [
       "<div>\n",
       "<style scoped>\n",
       "    .dataframe tbody tr th:only-of-type {\n",
       "        vertical-align: middle;\n",
       "    }\n",
       "\n",
       "    .dataframe tbody tr th {\n",
       "        vertical-align: top;\n",
       "    }\n",
       "\n",
       "    .dataframe thead th {\n",
       "        text-align: right;\n",
       "    }\n",
       "</style>\n",
       "<table border=\"1\" class=\"dataframe\">\n",
       "  <thead>\n",
       "    <tr style=\"text-align: right;\">\n",
       "      <th></th>\n",
       "      <th>Year</th>\n",
       "      <th>Per Acre Emissions</th>\n",
       "      <th>N</th>\n",
       "      <th>P</th>\n",
       "      <th>Potash</th>\n",
       "      <th>IN Corn Yield per Acre</th>\n",
       "      <th>Precipitation</th>\n",
       "      <th>Average Temperature</th>\n",
       "      <th>IN No Till Corn (Thousands of acres)</th>\n",
       "      <th>IN Con Till Corn (Thousands of acres)</th>\n",
       "      <th>IN Corn Cover Crop (Thousands of acres)</th>\n",
       "      <th>Conventional Till</th>\n",
       "      <th>efficiency</th>\n",
       "    </tr>\n",
       "  </thead>\n",
       "  <tbody>\n",
       "    <tr>\n",
       "      <th>0</th>\n",
       "      <td>1993</td>\n",
       "      <td>2.860590</td>\n",
       "      <td>134.0</td>\n",
       "      <td>68.0</td>\n",
       "      <td>114.0</td>\n",
       "      <td>132</td>\n",
       "      <td>50.78</td>\n",
       "      <td>52.0</td>\n",
       "      <td>1211.769</td>\n",
       "      <td>1536.438</td>\n",
       "      <td>0.0</td>\n",
       "      <td>2651.793</td>\n",
       "      <td>46.144325</td>\n",
       "    </tr>\n",
       "    <tr>\n",
       "      <th>1</th>\n",
       "      <td>2007</td>\n",
       "      <td>3.367331</td>\n",
       "      <td>149.0</td>\n",
       "      <td>69.0</td>\n",
       "      <td>124.0</td>\n",
       "      <td>154</td>\n",
       "      <td>36.75</td>\n",
       "      <td>55.0</td>\n",
       "      <td>1542.152</td>\n",
       "      <td>2202.153</td>\n",
       "      <td>0.0</td>\n",
       "      <td>2625.695</td>\n",
       "      <td>45.733543</td>\n",
       "    </tr>\n",
       "    <tr>\n",
       "      <th>2</th>\n",
       "      <td>1999</td>\n",
       "      <td>3.341237</td>\n",
       "      <td>154.0</td>\n",
       "      <td>56.0</td>\n",
       "      <td>116.0</td>\n",
       "      <td>132</td>\n",
       "      <td>32.40</td>\n",
       "      <td>54.5</td>\n",
       "      <td>1044.103</td>\n",
       "      <td>1548.732</td>\n",
       "      <td>0.0</td>\n",
       "      <td>3077.165</td>\n",
       "      <td>39.506327</td>\n",
       "    </tr>\n",
       "    <tr>\n",
       "      <th>3</th>\n",
       "      <td>2001</td>\n",
       "      <td>2.929382</td>\n",
       "      <td>140.0</td>\n",
       "      <td>66.0</td>\n",
       "      <td>121.0</td>\n",
       "      <td>156</td>\n",
       "      <td>41.91</td>\n",
       "      <td>54.2</td>\n",
       "      <td>1092.997</td>\n",
       "      <td>1532.988</td>\n",
       "      <td>0.0</td>\n",
       "      <td>3044.015</td>\n",
       "      <td>53.253548</td>\n",
       "    </tr>\n",
       "    <tr>\n",
       "      <th>4</th>\n",
       "      <td>1990</td>\n",
       "      <td>3.306718</td>\n",
       "      <td>139.0</td>\n",
       "      <td>75.0</td>\n",
       "      <td>111.0</td>\n",
       "      <td>129</td>\n",
       "      <td>50.44</td>\n",
       "      <td>54.4</td>\n",
       "      <td>479.255</td>\n",
       "      <td>824.200</td>\n",
       "      <td>0.0</td>\n",
       "      <td>4146.545</td>\n",
       "      <td>39.011486</td>\n",
       "    </tr>\n",
       "  </tbody>\n",
       "</table>\n",
       "</div>"
      ],
      "text/plain": [
       "   Year  Per Acre Emissions      N     P  Potash  IN Corn Yield per Acre  \\\n",
       "0  1993            2.860590  134.0  68.0   114.0                     132   \n",
       "1  2007            3.367331  149.0  69.0   124.0                     154   \n",
       "2  1999            3.341237  154.0  56.0   116.0                     132   \n",
       "3  2001            2.929382  140.0  66.0   121.0                     156   \n",
       "4  1990            3.306718  139.0  75.0   111.0                     129   \n",
       "\n",
       "   Precipitation  Average Temperature  IN No Till Corn (Thousands of acres)  \\\n",
       "0          50.78                 52.0                              1211.769   \n",
       "1          36.75                 55.0                              1542.152   \n",
       "2          32.40                 54.5                              1044.103   \n",
       "3          41.91                 54.2                              1092.997   \n",
       "4          50.44                 54.4                               479.255   \n",
       "\n",
       "   IN Con Till Corn (Thousands of acres)  \\\n",
       "0                               1536.438   \n",
       "1                               2202.153   \n",
       "2                               1548.732   \n",
       "3                               1532.988   \n",
       "4                                824.200   \n",
       "\n",
       "   IN Corn Cover Crop (Thousands of acres)  Conventional Till  efficiency  \n",
       "0                                      0.0           2651.793   46.144325  \n",
       "1                                      0.0           2625.695   45.733543  \n",
       "2                                      0.0           3077.165   39.506327  \n",
       "3                                      0.0           3044.015   53.253548  \n",
       "4                                      0.0           4146.545   39.011486  "
      ]
     },
     "execution_count": 4,
     "metadata": {},
     "output_type": "execute_result"
    }
   ],
   "source": [
    "print(train_data.info())\n",
    "train_data.head()"
   ]
  },
  {
   "cell_type": "code",
   "execution_count": 5,
   "metadata": {
    "scrolled": true
   },
   "outputs": [
    {
     "name": "stdout",
     "output_type": "stream",
     "text": [
      "<class 'pandas.core.frame.DataFrame'>\n",
      "RangeIndex: 6 entries, 0 to 5\n",
      "Data columns (total 13 columns):\n",
      " #   Column                                   Non-Null Count  Dtype  \n",
      "---  ------                                   --------------  -----  \n",
      " 0   Year                                     6 non-null      int64  \n",
      " 1   Per Acre Emissions                       6 non-null      float64\n",
      " 2   N                                        6 non-null      float64\n",
      " 3   P                                        6 non-null      float64\n",
      " 4   Potash                                   6 non-null      float64\n",
      " 5   IN Corn Yield per Acre                   6 non-null      int64  \n",
      " 6   Precipitation                            6 non-null      float64\n",
      " 7   Average Temperature                      6 non-null      float64\n",
      " 8   IN No Till Corn (Thousands of acres)     6 non-null      float64\n",
      " 9   IN Con Till Corn (Thousands of acres)    6 non-null      float64\n",
      " 10  IN Corn Cover Crop (Thousands of acres)  6 non-null      float64\n",
      " 11  Conventional Till                        6 non-null      float64\n",
      " 12  efficiency                               6 non-null      float64\n",
      "dtypes: float64(11), int64(2)\n",
      "memory usage: 752.0 bytes\n",
      "None\n"
     ]
    },
    {
     "data": {
      "text/html": [
       "<div>\n",
       "<style scoped>\n",
       "    .dataframe tbody tr th:only-of-type {\n",
       "        vertical-align: middle;\n",
       "    }\n",
       "\n",
       "    .dataframe tbody tr th {\n",
       "        vertical-align: top;\n",
       "    }\n",
       "\n",
       "    .dataframe thead th {\n",
       "        text-align: right;\n",
       "    }\n",
       "</style>\n",
       "<table border=\"1\" class=\"dataframe\">\n",
       "  <thead>\n",
       "    <tr style=\"text-align: right;\">\n",
       "      <th></th>\n",
       "      <th>Year</th>\n",
       "      <th>Per Acre Emissions</th>\n",
       "      <th>N</th>\n",
       "      <th>P</th>\n",
       "      <th>Potash</th>\n",
       "      <th>IN Corn Yield per Acre</th>\n",
       "      <th>Precipitation</th>\n",
       "      <th>Average Temperature</th>\n",
       "      <th>IN No Till Corn (Thousands of acres)</th>\n",
       "      <th>IN Con Till Corn (Thousands of acres)</th>\n",
       "      <th>IN Corn Cover Crop (Thousands of acres)</th>\n",
       "      <th>Conventional Till</th>\n",
       "      <th>efficiency</th>\n",
       "    </tr>\n",
       "  </thead>\n",
       "  <tbody>\n",
       "    <tr>\n",
       "      <th>0</th>\n",
       "      <td>2006</td>\n",
       "      <td>2.758260</td>\n",
       "      <td>148.0</td>\n",
       "      <td>69.0</td>\n",
       "      <td>122.0</td>\n",
       "      <td>157</td>\n",
       "      <td>51.06</td>\n",
       "      <td>54.5</td>\n",
       "      <td>1365.257</td>\n",
       "      <td>1953.378</td>\n",
       "      <td>0.000</td>\n",
       "      <td>2061.365</td>\n",
       "      <td>56.919946</td>\n",
       "    </tr>\n",
       "    <tr>\n",
       "      <th>1</th>\n",
       "      <td>2017</td>\n",
       "      <td>2.802987</td>\n",
       "      <td>166.0</td>\n",
       "      <td>72.0</td>\n",
       "      <td>114.0</td>\n",
       "      <td>180</td>\n",
       "      <td>47.45</td>\n",
       "      <td>55.6</td>\n",
       "      <td>1134.432</td>\n",
       "      <td>1816.156</td>\n",
       "      <td>362.494</td>\n",
       "      <td>2249.412</td>\n",
       "      <td>64.217218</td>\n",
       "    </tr>\n",
       "    <tr>\n",
       "      <th>2</th>\n",
       "      <td>2005</td>\n",
       "      <td>3.096088</td>\n",
       "      <td>147.0</td>\n",
       "      <td>77.0</td>\n",
       "      <td>124.0</td>\n",
       "      <td>154</td>\n",
       "      <td>43.74</td>\n",
       "      <td>53.9</td>\n",
       "      <td>1188.362</td>\n",
       "      <td>1704.603</td>\n",
       "      <td>0.000</td>\n",
       "      <td>2877.035</td>\n",
       "      <td>49.740185</td>\n",
       "    </tr>\n",
       "    <tr>\n",
       "      <th>3</th>\n",
       "      <td>2008</td>\n",
       "      <td>2.802926</td>\n",
       "      <td>149.0</td>\n",
       "      <td>70.0</td>\n",
       "      <td>126.0</td>\n",
       "      <td>160</td>\n",
       "      <td>49.04</td>\n",
       "      <td>52.7</td>\n",
       "      <td>1393.276</td>\n",
       "      <td>2095.076</td>\n",
       "      <td>0.000</td>\n",
       "      <td>1971.648</td>\n",
       "      <td>57.083199</td>\n",
       "    </tr>\n",
       "    <tr>\n",
       "      <th>4</th>\n",
       "      <td>1994</td>\n",
       "      <td>3.331703</td>\n",
       "      <td>147.0</td>\n",
       "      <td>74.0</td>\n",
       "      <td>112.0</td>\n",
       "      <td>144</td>\n",
       "      <td>31.63</td>\n",
       "      <td>53.3</td>\n",
       "      <td>1131.817</td>\n",
       "      <td>1534.523</td>\n",
       "      <td>0.000</td>\n",
       "      <td>3293.660</td>\n",
       "      <td>43.221141</td>\n",
       "    </tr>\n",
       "  </tbody>\n",
       "</table>\n",
       "</div>"
      ],
      "text/plain": [
       "   Year  Per Acre Emissions      N     P  Potash  IN Corn Yield per Acre  \\\n",
       "0  2006            2.758260  148.0  69.0   122.0                     157   \n",
       "1  2017            2.802987  166.0  72.0   114.0                     180   \n",
       "2  2005            3.096088  147.0  77.0   124.0                     154   \n",
       "3  2008            2.802926  149.0  70.0   126.0                     160   \n",
       "4  1994            3.331703  147.0  74.0   112.0                     144   \n",
       "\n",
       "   Precipitation  Average Temperature  IN No Till Corn (Thousands of acres)  \\\n",
       "0          51.06                 54.5                              1365.257   \n",
       "1          47.45                 55.6                              1134.432   \n",
       "2          43.74                 53.9                              1188.362   \n",
       "3          49.04                 52.7                              1393.276   \n",
       "4          31.63                 53.3                              1131.817   \n",
       "\n",
       "   IN Con Till Corn (Thousands of acres)  \\\n",
       "0                               1953.378   \n",
       "1                               1816.156   \n",
       "2                               1704.603   \n",
       "3                               2095.076   \n",
       "4                               1534.523   \n",
       "\n",
       "   IN Corn Cover Crop (Thousands of acres)  Conventional Till  efficiency  \n",
       "0                                    0.000           2061.365   56.919946  \n",
       "1                                  362.494           2249.412   64.217218  \n",
       "2                                    0.000           2877.035   49.740185  \n",
       "3                                    0.000           1971.648   57.083199  \n",
       "4                                    0.000           3293.660   43.221141  "
      ]
     },
     "execution_count": 5,
     "metadata": {},
     "output_type": "execute_result"
    }
   ],
   "source": [
    "print(hold_out.info())\n",
    "hold_out.head()"
   ]
  },
  {
   "cell_type": "markdown",
   "metadata": {},
   "source": [
    "Drop components features of efficiency"
   ]
  },
  {
   "cell_type": "code",
   "execution_count": 6,
   "metadata": {},
   "outputs": [],
   "source": [
    "X_train = train_data.drop(['Per Acre Emissions', 'efficiency', 'IN Corn Yield per Acre'], axis=1)\n",
    "y_train = train_data['efficiency']"
   ]
  },
  {
   "cell_type": "code",
   "execution_count": 7,
   "metadata": {},
   "outputs": [],
   "source": [
    "X_test = hold_out.drop(['Per Acre Emissions','efficiency','IN Corn Yield per Acre'], axis=1)\n",
    "y_test = hold_out['efficiency']"
   ]
  },
  {
   "cell_type": "markdown",
   "metadata": {},
   "source": [
    "Define XGBoost parameters"
   ]
  },
  {
   "cell_type": "code",
   "execution_count": 8,
   "metadata": {},
   "outputs": [],
   "source": [
    "xgb_params = {\"objective\":\"reg:squarederror\"}"
   ]
  },
  {
   "cell_type": "markdown",
   "metadata": {},
   "source": [
    "Define models for comparison"
   ]
  },
  {
   "cell_type": "code",
   "execution_count": 9,
   "metadata": {},
   "outputs": [],
   "source": [
    "ridge = Ridge()\n",
    "lasso = Lasso()\n",
    "rf = RandomForestRegressor()\n",
    "xg = xgb.XGBRegressor(objective='reg:squarederror')"
   ]
  },
  {
   "cell_type": "markdown",
   "metadata": {},
   "source": [
    "Define scaler varible and scaler parameter for pipelines"
   ]
  },
  {
   "cell_type": "code",
   "execution_count": 10,
   "metadata": {},
   "outputs": [],
   "source": [
    "scaler = StandardScaler()\n",
    "scaler_param = ('Scale', scaler)"
   ]
  },
  {
   "cell_type": "markdown",
   "metadata": {},
   "source": [
    "Create and run model pipelines, printing the score to compare RMSE and R^2 returned by each model"
   ]
  },
  {
   "cell_type": "code",
   "execution_count": 11,
   "metadata": {},
   "outputs": [],
   "source": [
    "ridge_pipe = Pipeline([scaler_param, ('Ridge', ridge)])\n",
    "lasso_pipe = Pipeline([scaler_param, ('Lasso', lasso)])\n",
    "rf_pipe = Pipeline([scaler_param, ('Random Forrest', rf)])\n",
    "xgb_pipe = Pipeline([scaler_param, ('XGB Regressor', xg)])"
   ]
  },
  {
   "cell_type": "code",
   "execution_count": 12,
   "metadata": {
    "scrolled": true
   },
   "outputs": [
    {
     "name": "stdout",
     "output_type": "stream",
     "text": [
      "('Ridge()', 2.0057402482621467)\n",
      "('Lasso()', 2.554191519073999)\n",
      "('RandomForestRegressor()', 0.2388542652931794)\n",
      "(\"XGBRegressor(base_score=None, booster=None, colsample_bylevel=None,\\n             colsample_bynode=None, colsample_bytree=None, gamma=None,\\n             gpu_id=None, importance_type='gain', interaction_constraints=None,\\n             learning_rate=None, max_delta_step=None, max_depth=None,\\n             min_child_weight=None, missing=nan, monotone_constraints=None,\\n             n_estimators=100, n_jobs=None, num_parallel_tree=None,\\n             random_state=None, reg_alpha=None, reg_lambda=None,\\n             scale_pos_weight=None, subsample=None, tree_method=None,\\n             validate_parameters=None, verbosity=None)\", 0.016081008550200053)\n"
     ]
    }
   ],
   "source": [
    "pipes = [ridge_pipe, lasso_pipe, rf_pipe, xgb_pipe]\n",
    "for pipe in pipes:\n",
    "    cv_score = cross_val_score(pipe, X_train, y_train, scoring='neg_root_mean_squared_error', cv=5)\n",
    "    score = (str(pipe[1]), np.mean(np.sqrt(np.abs(cv_score))))\n",
    "    print(score)"
   ]
  },
  {
   "cell_type": "code",
   "execution_count": 13,
   "metadata": {},
   "outputs": [
    {
     "name": "stdout",
     "output_type": "stream",
     "text": [
      "('Ridge()', 0.8808323706773148)\n",
      "('Lasso()', 0.64316329997135)\n",
      "('RandomForestRegressor()', 0.9999425179012738)\n",
      "(\"XGBRegressor(base_score=None, booster=None, colsample_bylevel=None,\\n             colsample_bynode=None, colsample_bytree=None, gamma=None,\\n             gpu_id=None, importance_type='gain', interaction_constraints=None,\\n             learning_rate=None, max_delta_step=None, max_depth=None,\\n             min_child_weight=None, missing=nan, monotone_constraints=None,\\n             n_estimators=100, n_jobs=None, num_parallel_tree=None,\\n             random_state=None, reg_alpha=None, reg_lambda=None,\\n             scale_pos_weight=None, subsample=None, tree_method=None,\\n             validate_parameters=None, verbosity=None)\", 0.9999999995138392)\n"
     ]
    }
   ],
   "source": [
    "pipes = [ridge_pipe, lasso_pipe, rf_pipe, xgb_pipe]\n",
    "for pipe in pipes:\n",
    "    cv_score = cross_val_score(pipe, X_train, y_train, scoring='r2', cv=5)\n",
    "    score = (str(pipe[1]), np.mean(np.sqrt(np.abs(cv_score))))\n",
    "    print(score)"
   ]
  },
  {
   "cell_type": "markdown",
   "metadata": {},
   "source": [
    "Perform Grid and Randomized Search Params for XG Boost"
   ]
  },
  {
   "cell_type": "code",
   "execution_count": 14,
   "metadata": {
    "scrolled": false
   },
   "outputs": [],
   "source": [
    "X_scaled = scaler.fit_transform(X_train)\n",
    "y_scaled = scaler.fit_transform(np.array(y_train).reshape(-1, 1))"
   ]
  },
  {
   "cell_type": "code",
   "execution_count": 15,
   "metadata": {
    "scrolled": true
   },
   "outputs": [
    {
     "name": "stdout",
     "output_type": "stream",
     "text": [
      "0.0002097349741801132\n"
     ]
    }
   ],
   "source": [
    "cv_score = cross_val_score(xgb.XGBRegressor(objective=\"reg:squarederror\"), X_scaled, y_scaled, scoring='neg_mean_squared_error', cv=5)\n",
    "print(np.mean(np.sqrt(np.abs(cv_score))))"
   ]
  },
  {
   "cell_type": "code",
   "execution_count": 16,
   "metadata": {},
   "outputs": [],
   "source": [
    "#params subsample removed \n",
    "params = {'n_estimators':range(15,51,2), 'max_depth':range(3,8), 'learning_rate':[ .1, .3, .5, .7], 'colsample_bytree':[.7, .8, .9, 1], 'reg_lambda':[.001 ,.01, 1, 10, 100]}"
   ]
  },
  {
   "cell_type": "code",
   "execution_count": 17,
   "metadata": {
    "scrolled": true
   },
   "outputs": [],
   "source": [
    "X_dmatrix = xgb.DMatrix(data=X_scaled, label=y_scaled)"
   ]
  },
  {
   "cell_type": "code",
   "execution_count": 18,
   "metadata": {
    "scrolled": true
   },
   "outputs": [],
   "source": [
    "# grid_mse = GridSearchCV(estimator=xgb.XGBRegressor(objective=\"reg:squarederror\"), param_grid=params, scoring='neg_root_mean_squared_error', cv=5, verbose=1)"
   ]
  },
  {
   "cell_type": "code",
   "execution_count": 19,
   "metadata": {
    "scrolled": true
   },
   "outputs": [],
   "source": [
    "# grid_mse.fit(X_train, y_train)"
   ]
  },
  {
   "cell_type": "code",
   "execution_count": 20,
   "metadata": {},
   "outputs": [],
   "source": [
    "randomized_mse = RandomizedSearchCV(estimator=xgb.XGBRegressor(objective=\"reg:squarederror\"), param_distributions=params, scoring='neg_root_mean_squared_error', n_iter=86, cv=5, verbose=1)"
   ]
  },
  {
   "cell_type": "code",
   "execution_count": 21,
   "metadata": {
    "scrolled": true
   },
   "outputs": [
    {
     "name": "stdout",
     "output_type": "stream",
     "text": [
      "Fitting 5 folds for each of 86 candidates, totalling 430 fits\n"
     ]
    },
    {
     "data": {
      "text/plain": [
       "RandomizedSearchCV(cv=5,\n",
       "                   estimator=XGBRegressor(base_score=None, booster=None,\n",
       "                                          colsample_bylevel=None,\n",
       "                                          colsample_bynode=None,\n",
       "                                          colsample_bytree=None, gamma=None,\n",
       "                                          gpu_id=None, importance_type='gain',\n",
       "                                          interaction_constraints=None,\n",
       "                                          learning_rate=None,\n",
       "                                          max_delta_step=None, max_depth=None,\n",
       "                                          min_child_weight=None, missing=nan,\n",
       "                                          monotone_constraints=None,\n",
       "                                          n_estimators=100, n...\n",
       "                                          random_state=None, reg_alpha=None,\n",
       "                                          reg_lambda=None,\n",
       "                                          scale_pos_weight=None, subsample=None,\n",
       "                                          tree_method=None,\n",
       "                                          validate_parameters=None,\n",
       "                                          verbosity=None),\n",
       "                   n_iter=86,\n",
       "                   param_distributions={'colsample_bytree': [0.7, 0.8, 0.9, 1],\n",
       "                                        'learning_rate': [0.1, 0.3, 0.5, 0.7],\n",
       "                                        'max_depth': range(3, 8),\n",
       "                                        'n_estimators': range(15, 51, 2),\n",
       "                                        'reg_lambda': [0.001, 0.01, 1, 10,\n",
       "                                                       100]},\n",
       "                   scoring='neg_root_mean_squared_error', verbose=1)"
      ]
     },
     "execution_count": 21,
     "metadata": {},
     "output_type": "execute_result"
    }
   ],
   "source": [
    "randomized_mse.fit(X_train, y_train)"
   ]
  },
  {
   "cell_type": "code",
   "execution_count": 22,
   "metadata": {
    "scrolled": true
   },
   "outputs": [],
   "source": [
    "# print(\"Best Grid parameters found: \", grid_mse.best_params_)\n",
    "# print(\"Lowest Grid RMSE found: \", np.sqrt(np.abs(grid_mse.best_score_)))"
   ]
  },
  {
   "cell_type": "markdown",
   "metadata": {},
   "source": [
    "Best Grid parameters found:  {'learning_rate': 0.7, 'max_depth': 4, 'n_estimators': 50, 'subsample': 0.7}\n",
    "Lowest Grid RMSE found:  1.014475142385794"
   ]
  },
  {
   "cell_type": "code",
   "execution_count": 23,
   "metadata": {
    "scrolled": true
   },
   "outputs": [
    {
     "name": "stdout",
     "output_type": "stream",
     "text": [
      "Best Random parameters found:  {'reg_lambda': 0.001, 'n_estimators': 23, 'max_depth': 7, 'learning_rate': 0.7, 'colsample_bytree': 0.7}\n",
      "Lowest Random RMSE found:  0.01210545182262746\n"
     ]
    }
   ],
   "source": [
    "print(\"Best Random parameters found: \", randomized_mse.best_params_)\n",
    "print(\"Lowest Random RMSE found: \", np.sqrt(np.abs(randomized_mse.best_score_)))"
   ]
  },
  {
   "cell_type": "code",
   "execution_count": 24,
   "metadata": {
    "scrolled": true
   },
   "outputs": [],
   "source": [
    "predictions = randomized_mse.predict(X_test)"
   ]
  },
  {
   "cell_type": "code",
   "execution_count": 25,
   "metadata": {},
   "outputs": [
    {
     "data": {
      "text/plain": [
       "-1.2729728349673923"
      ]
     },
     "execution_count": 25,
     "metadata": {},
     "output_type": "execute_result"
    }
   ],
   "source": [
    "sklearn.metrics.r2_score(y_test, predictions)"
   ]
  },
  {
   "cell_type": "code",
   "execution_count": 26,
   "metadata": {},
   "outputs": [
    {
     "data": {
      "text/plain": [
       "0.9999999998731693"
      ]
     },
     "execution_count": 26,
     "metadata": {},
     "output_type": "execute_result"
    }
   ],
   "source": [
    "train_preds = randomized_mse.predict(X_train)\n",
    "sklearn.metrics.r2_score(y_train, train_preds)"
   ]
  },
  {
   "cell_type": "code",
   "execution_count": 27,
   "metadata": {},
   "outputs": [
    {
     "name": "stdout",
     "output_type": "stream",
     "text": [
      "0    56.919946\n",
      "1    64.217218\n",
      "2    49.740185\n",
      "3    57.083199\n",
      "4    43.221141\n",
      "5    68.275487\n",
      "Name: efficiency, dtype: float64\n",
      "[49.21711, 50.55482, 60.342876, 62.019394, 33.48726, 46.394806]\n"
     ]
    }
   ],
   "source": [
    "print(y_test)\n",
    "print(list(predictions))"
   ]
  },
  {
   "cell_type": "code",
   "execution_count": 28,
   "metadata": {
    "scrolled": true
   },
   "outputs": [
    {
     "data": {
      "text/plain": [
       "Year                                       2017.000\n",
       "N                                           166.000\n",
       "P                                            72.000\n",
       "Potash                                      114.000\n",
       "Precipitation                                47.450\n",
       "Average Temperature                          55.600\n",
       "IN No Till Corn (Thousands of acres)       1134.432\n",
       "IN Con Till Corn (Thousands of acres)      1816.156\n",
       "IN Corn Cover Crop (Thousands of acres)     362.494\n",
       "Conventional Till                          2249.412\n",
       "Name: 1, dtype: float64"
      ]
     },
     "execution_count": 28,
     "metadata": {},
     "output_type": "execute_result"
    }
   ],
   "source": [
    "X_test.iloc[1,:]"
   ]
  },
  {
   "cell_type": "code",
   "execution_count": 29,
   "metadata": {
    "scrolled": true
   },
   "outputs": [
    {
     "data": {
      "text/plain": [
       "Year                                       2014.000\n",
       "N                                           156.000\n",
       "P                                            74.000\n",
       "Potash                                      114.000\n",
       "Precipitation                                41.620\n",
       "Average Temperature                          50.000\n",
       "IN No Till Corn (Thousands of acres)       1443.850\n",
       "IN Con Till Corn (Thousands of acres)      2297.250\n",
       "IN Corn Cover Crop (Thousands of acres)     461.081\n",
       "Conventional Till                          2028.900\n",
       "Name: 5, dtype: float64"
      ]
     },
     "execution_count": 29,
     "metadata": {},
     "output_type": "execute_result"
    }
   ],
   "source": [
    "X_test.iloc[5,:]"
   ]
  },
  {
   "cell_type": "code",
   "execution_count": 30,
   "metadata": {},
   "outputs": [
    {
     "data": {
      "text/html": [
       "<div>\n",
       "<style scoped>\n",
       "    .dataframe tbody tr th:only-of-type {\n",
       "        vertical-align: middle;\n",
       "    }\n",
       "\n",
       "    .dataframe tbody tr th {\n",
       "        vertical-align: top;\n",
       "    }\n",
       "\n",
       "    .dataframe thead th {\n",
       "        text-align: right;\n",
       "    }\n",
       "</style>\n",
       "<table border=\"1\" class=\"dataframe\">\n",
       "  <thead>\n",
       "    <tr style=\"text-align: right;\">\n",
       "      <th></th>\n",
       "      <th>Year</th>\n",
       "      <th>N</th>\n",
       "      <th>P</th>\n",
       "      <th>Potash</th>\n",
       "      <th>Precipitation</th>\n",
       "      <th>Average Temperature</th>\n",
       "      <th>IN No Till Corn (Thousands of acres)</th>\n",
       "      <th>IN Con Till Corn (Thousands of acres)</th>\n",
       "      <th>IN Corn Cover Crop (Thousands of acres)</th>\n",
       "      <th>Conventional Till</th>\n",
       "    </tr>\n",
       "  </thead>\n",
       "  <tbody>\n",
       "    <tr>\n",
       "      <th>0</th>\n",
       "      <td>2006</td>\n",
       "      <td>148.0</td>\n",
       "      <td>69.0</td>\n",
       "      <td>122.0</td>\n",
       "      <td>51.06</td>\n",
       "      <td>54.5</td>\n",
       "      <td>1365.257</td>\n",
       "      <td>1953.378</td>\n",
       "      <td>0.000</td>\n",
       "      <td>2061.365</td>\n",
       "    </tr>\n",
       "    <tr>\n",
       "      <th>1</th>\n",
       "      <td>2017</td>\n",
       "      <td>166.0</td>\n",
       "      <td>72.0</td>\n",
       "      <td>114.0</td>\n",
       "      <td>47.45</td>\n",
       "      <td>55.6</td>\n",
       "      <td>1134.432</td>\n",
       "      <td>1816.156</td>\n",
       "      <td>362.494</td>\n",
       "      <td>2249.412</td>\n",
       "    </tr>\n",
       "    <tr>\n",
       "      <th>2</th>\n",
       "      <td>2005</td>\n",
       "      <td>147.0</td>\n",
       "      <td>77.0</td>\n",
       "      <td>124.0</td>\n",
       "      <td>43.74</td>\n",
       "      <td>53.9</td>\n",
       "      <td>1188.362</td>\n",
       "      <td>1704.603</td>\n",
       "      <td>0.000</td>\n",
       "      <td>2877.035</td>\n",
       "    </tr>\n",
       "    <tr>\n",
       "      <th>3</th>\n",
       "      <td>2008</td>\n",
       "      <td>149.0</td>\n",
       "      <td>70.0</td>\n",
       "      <td>126.0</td>\n",
       "      <td>49.04</td>\n",
       "      <td>52.7</td>\n",
       "      <td>1393.276</td>\n",
       "      <td>2095.076</td>\n",
       "      <td>0.000</td>\n",
       "      <td>1971.648</td>\n",
       "    </tr>\n",
       "    <tr>\n",
       "      <th>4</th>\n",
       "      <td>1994</td>\n",
       "      <td>147.0</td>\n",
       "      <td>74.0</td>\n",
       "      <td>112.0</td>\n",
       "      <td>31.63</td>\n",
       "      <td>53.3</td>\n",
       "      <td>1131.817</td>\n",
       "      <td>1534.523</td>\n",
       "      <td>0.000</td>\n",
       "      <td>3293.660</td>\n",
       "    </tr>\n",
       "    <tr>\n",
       "      <th>5</th>\n",
       "      <td>2014</td>\n",
       "      <td>156.0</td>\n",
       "      <td>74.0</td>\n",
       "      <td>114.0</td>\n",
       "      <td>41.62</td>\n",
       "      <td>50.0</td>\n",
       "      <td>1443.850</td>\n",
       "      <td>2297.250</td>\n",
       "      <td>461.081</td>\n",
       "      <td>2028.900</td>\n",
       "    </tr>\n",
       "  </tbody>\n",
       "</table>\n",
       "</div>"
      ],
      "text/plain": [
       "   Year      N     P  Potash  Precipitation  Average Temperature  \\\n",
       "0  2006  148.0  69.0   122.0          51.06                 54.5   \n",
       "1  2017  166.0  72.0   114.0          47.45                 55.6   \n",
       "2  2005  147.0  77.0   124.0          43.74                 53.9   \n",
       "3  2008  149.0  70.0   126.0          49.04                 52.7   \n",
       "4  1994  147.0  74.0   112.0          31.63                 53.3   \n",
       "5  2014  156.0  74.0   114.0          41.62                 50.0   \n",
       "\n",
       "   IN No Till Corn (Thousands of acres)  \\\n",
       "0                              1365.257   \n",
       "1                              1134.432   \n",
       "2                              1188.362   \n",
       "3                              1393.276   \n",
       "4                              1131.817   \n",
       "5                              1443.850   \n",
       "\n",
       "   IN Con Till Corn (Thousands of acres)  \\\n",
       "0                               1953.378   \n",
       "1                               1816.156   \n",
       "2                               1704.603   \n",
       "3                               2095.076   \n",
       "4                               1534.523   \n",
       "5                               2297.250   \n",
       "\n",
       "   IN Corn Cover Crop (Thousands of acres)  Conventional Till  \n",
       "0                                    0.000           2061.365  \n",
       "1                                  362.494           2249.412  \n",
       "2                                    0.000           2877.035  \n",
       "3                                    0.000           1971.648  \n",
       "4                                    0.000           3293.660  \n",
       "5                                  461.081           2028.900  "
      ]
     },
     "execution_count": 30,
     "metadata": {},
     "output_type": "execute_result"
    }
   ],
   "source": [
    "X_test"
   ]
  },
  {
   "cell_type": "code",
   "execution_count": 36,
   "metadata": {},
   "outputs": [
    {
     "data": {
      "text/plain": [
       "0    56.919946\n",
       "1    64.217218\n",
       "2    49.740185\n",
       "3    57.083199\n",
       "4    43.221141\n",
       "5    68.275487\n",
       "Name: efficiency, dtype: float64"
      ]
     },
     "execution_count": 36,
     "metadata": {},
     "output_type": "execute_result"
    }
   ],
   "source": [
    "y_test"
   ]
  },
  {
   "cell_type": "code",
   "execution_count": 31,
   "metadata": {
    "scrolled": false
   },
   "outputs": [
    {
     "data": {
      "text/plain": [
       "0.000000      150\n",
       "101.306920     16\n",
       "183.100000     13\n",
       "337.053736     13\n",
       "99.579287      13\n",
       "215.818193     11\n",
       "96.200000      11\n",
       "518.654239      9\n",
       "510.925000      8\n",
       "454.867976      7\n",
       "493.952277      7\n",
       "518.808000      7\n",
       "361.470466      7\n",
       "269.414649      6\n",
       "177.326218      6\n",
       "380.858499      6\n",
       "285.303682      5\n",
       "139.650000      5\n",
       "Name: IN Corn Cover Crop (Thousands of acres), dtype: int64"
      ]
     },
     "execution_count": 31,
     "metadata": {},
     "output_type": "execute_result"
    }
   ],
   "source": [
    "X_train['IN Corn Cover Crop (Thousands of acres)'].value_counts()"
   ]
  },
  {
   "cell_type": "code",
   "execution_count": 32,
   "metadata": {},
   "outputs": [
    {
     "data": {
      "text/plain": [
       "42.394908    16\n",
       "56.881743    13\n",
       "58.459442    13\n",
       "44.828239    13\n",
       "39.833918    12\n",
       "45.733543    12\n",
       "39.506327    11\n",
       "46.242512    11\n",
       "44.701618    11\n",
       "62.054280    10\n",
       "43.946950    10\n",
       "58.430428    10\n",
       "43.539021    10\n",
       "26.224166     9\n",
       "50.342477     9\n",
       "53.253548     9\n",
       "47.439772     9\n",
       "39.901958     8\n",
       "60.241253     8\n",
       "45.903862     7\n",
       "46.144325     7\n",
       "60.067319     7\n",
       "46.085684     7\n",
       "54.931818     7\n",
       "47.680263     7\n",
       "37.912083     7\n",
       "50.145556     7\n",
       "52.655287     6\n",
       "39.011486     6\n",
       "58.908347     6\n",
       "35.708221     6\n",
       "57.766285     6\n",
       "25.075985     5\n",
       "51.787283     5\n",
       "Name: efficiency, dtype: int64"
      ]
     },
     "execution_count": 32,
     "metadata": {},
     "output_type": "execute_result"
    }
   ],
   "source": [
    "y_train.value_counts()"
   ]
  },
  {
   "cell_type": "code",
   "execution_count": 33,
   "metadata": {},
   "outputs": [
    {
     "data": {
      "text/plain": [
       "300"
      ]
     },
     "execution_count": 33,
     "metadata": {},
     "output_type": "execute_result"
    }
   ],
   "source": [
    "len(X_train)"
   ]
  },
  {
   "cell_type": "code",
   "execution_count": 34,
   "metadata": {
    "scrolled": true
   },
   "outputs": [
    {
     "name": "stderr",
     "output_type": "stream",
     "text": [
      "/opt/anaconda3/lib/python3.8/site-packages/seaborn/_decorators.py:36: FutureWarning: Pass the following variables as keyword args: x, y. From version 0.12, the only valid positional argument will be `data`, and passing other arguments without an explicit keyword will result in an error or misinterpretation.\n",
      "  warnings.warn(\n"
     ]
    },
    {
     "data": {
      "text/plain": [
       "<AxesSubplot:xlabel='efficiency'>"
      ]
     },
     "execution_count": 34,
     "metadata": {},
     "output_type": "execute_result"
    },
    {
     "data": {
      "image/png": "[encoded data removed]",
      "text/plain": [
       "<Figure size 432x288 with 1 Axes>"
      ]
     },
     "metadata": {
      "needs_background": "light"
     },
     "output_type": "display_data"
    }
   ],
   "source": [
    "sns.scatterplot(y_test, predictions)"
   ]
  },
  {
   "cell_type": "code",
   "execution_count": 35,
   "metadata": {},
   "outputs": [
    {
     "name": "stderr",
     "output_type": "stream",
     "text": [
      "/opt/anaconda3/lib/python3.8/site-packages/seaborn/_decorators.py:36: FutureWarning: Pass the following variables as keyword args: x, y. From version 0.12, the only valid positional argument will be `data`, and passing other arguments without an explicit keyword will result in an error or misinterpretation.\n",
      "  warnings.warn(\n"
     ]
    },
    {
     "data": {
      "text/plain": [
       "<AxesSubplot:xlabel='efficiency'>"
      ]
     },
     "execution_count": 35,
     "metadata": {},
     "output_type": "execute_result"
    },
    {
     "data": {
      "image/png": "[encoded data removed]",
      "text/plain": [
       "<Figure size 432x288 with 1 Axes>"
      ]
     },
     "metadata": {
      "needs_background": "light"
     },
     "output_type": "display_data"
    }
   ],
   "source": [
    "sns.scatterplot(y_train, train_preds)"
   ]
  }
 ],
 "metadata": {
  "kernelspec": {
   "display_name": "Python 3",
   "language": "python",
   "name": "python3"
  },
  "language_info": {
   "codemirror_mode": {
    "name": "ipython",
    "version": 3
   },
   "file_extension": ".py",
   "mimetype": "text/x-python",
   "name": "python",
   "nbconvert_exporter": "python",
   "pygments_lexer": "ipython3",
   "version": "3.8.5"
  }
 },
 "nbformat": 4,
 "nbformat_minor": 4
}
