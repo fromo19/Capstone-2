{
 "cells": [
  {
   "cell_type": "markdown",
   "metadata": {},
   "source": [
    "Import relevant packages"
   ]
  },
  {
   "cell_type": "code",
   "execution_count": 1,
   "metadata": {},
   "outputs": [],
   "source": [
    "import glob\n",
    "import pandas as pd\n",
    "import tabula\n",
    "from urllib.request import urlretrieve"
   ]
  },
  {
   "cell_type": "markdown",
   "metadata": {},
   "source": [
    "Define functions for wrangling raw data into processable format"
   ]
  },
  {
   "cell_type": "code",
   "execution_count": 2,
   "metadata": {},
   "outputs": [],
   "source": [
    "def add_year_column(tableidx):  \n",
    "  table = pd.DataFrame(TABLES[landuse_tables[tableidx]])\n",
    "  table['Year'] = table.iloc[:,0].str.strip('Estimate')\n",
    "  estimates = table[table.index % 2 == 0]\n",
    "  return estimates\n",
    "\n",
    "def pdf_df(dataframe_list):  \n",
    "  dataframe_df = dataframe_list[2]\n",
    "  dataframe_df.iloc[1,0] = 'Year'\n",
    "  dataframe_acres = dataframe_df.iloc[1:3,:].T\n",
    "  dataframe_acres2 = dataframe_acres.iloc[1:]\n",
    "  dataframe_acres2.columns = dataframe_acres.iloc[0,:]\n",
    "  dataframe_acres2['Year'] = dataframe_acres2['Year'].astype('int')\n",
    "  dataframe_acres2['Corn'] = [float(str(i).replace(\",\", \"\")) for i in dataframe_acres2['Corn']]\n",
    "  dataframe_acres2['Corn (Thousands of acres)'] = dataframe_acres2['Corn'] /1000\n",
    "  dataframe_acres2.reset_index(drop=True, inplace=True)\n",
    "  return dataframe_acres2\n",
    "\n",
    "\n",
    "def relevant_series_selection():\n",
    "  seriesindex1 = int(input('Provide the column index of the first series: '))\n",
    "  seriesindex2 = int(input('Provide the column index of the second series: '))\n",
    "  relevant_table = estimates.iloc[:,[seriesindex1,seriesindex2]]\n",
    "  series1_name = estimates.iloc[:,seriesindex1].name\n",
    "  series2_name = estimates.iloc[:,seriesindex2].name\n",
    "  relevant_table.reset_index(drop=True,inplace=True)\n",
    "  relevant_table[series1_name] = relevant_table[series1_name].astype('float')\n",
    "  relevant_table[series2_name] = relevant_table[series2_name].astype('int')\n",
    "  relevant_table = relevant_table[[series2_name,series1_name]]\n",
    "\n",
    "  return relevant_table\n",
    "\n",
    "def observed_change_timeperiod(dataframe):\n",
    "  differences = []\n",
    "  years = []\n",
    "  yearly_diff = []\n",
    "  for row in dataframe.itertuples():\n",
    "    if row[0] == min(range(len(dataframe))):\n",
    "      prior_row = row\n",
    "      continue\n",
    "    else:\n",
    "      differences.append(row[2] - prior_row[2])\n",
    "      years.append(int(row[1]) - int(prior_row[1]))\n",
    "      prior_row = row\n",
    "\n",
    "  for diff,year in zip(differences,years):\n",
    "    for yr in range(year-1):\n",
    "      yearly_diff.append(diff/year)\n",
    "  return yearly_diff\n",
    "\n",
    "def create_missing_df(dataframe, series1, series2):\n",
    "  miss_years = []\n",
    "  for start in series1:\n",
    "    for year in range(len(series1)):\n",
    "      if (start + year) == start:\n",
    "        continue\n",
    "      elif (start + year) in list(series1) or (start + year) > max(series1):\n",
    "        break\n",
    "      else:\n",
    "        miss_years.append(start + year)\n",
    "\n",
    "  missing_df = pd.DataFrame()\n",
    "  missing_df[series1.name] = miss_years\n",
    "  missing_df[series2.name] = 0\n",
    "  missing_df['Differences'] = observed_change_timeperiod(dataframe)\n",
    "  return missing_df\n",
    "\n",
    "def create_missing_practices(dataframe, series1, series2):\n",
    "  miss_years = []\n",
    "  for start in no_till_df['Year']:\n",
    "    for year in range(len(no_till_df[no_till_df['Year'] < 2008])):\n",
    "      if (start + year) == start:\n",
    "        continue\n",
    "      elif (start + year) in list(no_till_df['Year']) or (start + year) > max(no_till_df['Year']):\n",
    "        break\n",
    "      else:\n",
    "        miss_years.append(start + year)\n",
    "\n",
    "  missing_df = pd.DataFrame()\n",
    "  missing_df[series1.name] = miss_years\n",
    "  missing_df[series2.name] = 0\n",
    "  missing_df['Differences'] = observed_change_timeperiod(dataframe)\n",
    "  return missing_df\n",
    "\n",
    "def parse_table(dataframe,miss_df): \n",
    "  dataframe['differences'] = 0\n",
    "  relevant_table_parsed = dataframe.append(miss_df)\n",
    "  relevant_table_parsed.sort_values(by='Year',inplace=True)\n",
    "  relevant_table_parsed.reset_index(drop=True,inplace=True)\n",
    "  return relevant_table_parsed\n",
    "\n",
    "def calc_total_land_change(dataframe):\n",
    "  TotalLand = []\n",
    "  for row in dataframe.itertuples():\n",
    "    if row[3] == 0:\n",
    "      TotalLand.append(row[2])\n",
    "      prior_row = row[2]\n",
    "    else:\n",
    "      TotalLand.append((prior_row + row[4]))\n",
    "      prior_row = prior_row + row[4]\n",
    "  \n",
    "  return TotalLand\n",
    "\n",
    "def fert_df_creation(df):\n",
    "    IN_fert = df.iloc[[1,12],:]\n",
    "    IN_fert = IN_fert.T\n",
    "    IN_fert.iloc[0,0] = 'Year'\n",
    "    IN_fert.iloc[0,1] = input('What fertilizer type? ')\n",
    "    IN_fert.columns = IN_fert.iloc[0,:]\n",
    "    IN_fert = IN_fert.iloc[1:]\n",
    "    IN_fert.reset_index(drop=True,inplace=True)\n",
    "    return IN_fert\n"
   ]
  },
  {
   "cell_type": "markdown",
   "metadata": {},
   "source": [
    "Retrieve landuse data from USDA website"
   ]
  },
  {
   "cell_type": "code",
   "execution_count": 3,
   "metadata": {},
   "outputs": [],
   "source": [
    "url = 'https://www.nrcs.usda.gov/Internet/NRCS_RCA/csv/nri_download_in.csv'"
   ]
  },
  {
   "cell_type": "code",
   "execution_count": 4,
   "metadata": {},
   "outputs": [
    {
     "data": {
      "text/plain": [
       "('IN_landuse.csv', <http.client.HTTPMessage at 0x7f8840b99070>)"
      ]
     },
     "execution_count": 4,
     "metadata": {},
     "output_type": "execute_result"
    }
   ],
   "source": [
    "urlretrieve(url,'IN_landuse.csv')"
   ]
  },
  {
   "cell_type": "markdown",
   "metadata": {},
   "source": [
    "Iterate through each line of the USDA file and assign it to the tableslist"
   ]
  },
  {
   "cell_type": "code",
   "execution_count": 5,
   "metadata": {},
   "outputs": [],
   "source": [
    "fileList = []\n",
    "table = []\n",
    "with open('IN_landuse.csv', 'rb') as file:\n",
    "  for line in file:\n",
    "    if len(line) < 6:\n",
    "      if table != []:\n",
    "        fileList.append(table)\n",
    "        table = []\n",
    "      continue\n",
    "    else:\n",
    "      table.append(line)"
   ]
  },
  {
   "cell_type": "code",
   "execution_count": 6,
   "metadata": {},
   "outputs": [],
   "source": [
    "tableslist = fileList[1:23]"
   ]
  },
  {
   "cell_type": "markdown",
   "metadata": {},
   "source": [
    "Create a list of tables as dicts from the tables in tableslist and strip any formating charcters from the string of the table name, from table_list_dict and table_names lists create accessable dictionary TABLES where the keys are the names of the tables and the values are dictionaries containing all of the relevant landuse data. "
   ]
  },
  {
   "cell_type": "code",
   "execution_count": 7,
   "metadata": {},
   "outputs": [],
   "source": [
    "table_names = []\n",
    "for table in tableslist:\n",
    "  if tableslist.index(table) == 0:\n",
    "    table_names.append(str(table[1]).strip(\"b'\").strip('\\\\r\\\\n'))\n",
    "  elif (tableslist.index(table))%2 == 0:\n",
    "    table_names.append(str(table[0]).strip(\"b'\").strip('\\\\r\\\\n'))"
   ]
  },
  {
   "cell_type": "code",
   "execution_count": 8,
   "metadata": {},
   "outputs": [],
   "source": [
    "table_raw = [table for table in tableslist if tableslist.index(table)%2 != 0]"
   ]
  },
  {
   "cell_type": "code",
   "execution_count": 9,
   "metadata": {},
   "outputs": [],
   "source": [
    "list_table_dict = []\n",
    "for table in table_raw:\n",
    "  table_dict = {}\n",
    "  for row in table:\n",
    "    listrow = str(row).split(',')\n",
    "    striprow = []\n",
    "    for element in listrow:\n",
    "      striprow.append(element.strip(\"b'\").strip(\"\\\\r\\\\n\"))\n",
    "    column_name = striprow[0]\n",
    "    if striprow[-1] == '':\n",
    "      values = striprow[1:-1]\n",
    "    else:\n",
    "      values = striprow[1:]\n",
    "    table_dict[column_name] = values\n",
    "  list_table_dict.append(table_dict)\n"
   ]
  },
  {
   "cell_type": "code",
   "execution_count": 10,
   "metadata": {},
   "outputs": [],
   "source": [
    "TABLES = {}\n",
    "for name, table in zip(table_names, list_table_dict):\n",
    "  TABLES[name] = table"
   ]
  },
  {
   "cell_type": "code",
   "execution_count": 11,
   "metadata": {},
   "outputs": [],
   "source": [
    "landuse_tables = [key for key in TABLES.keys()]"
   ]
  },
  {
   "cell_type": "code",
   "execution_count": 12,
   "metadata": {},
   "outputs": [
    {
     "data": {
      "text/plain": [
       "['Total Surface Area by Land Cover/Use',\n",
       " 'Non-Federal Rural Land by Land Cover/Use',\n",
       " 'Prime Farmland by Land Cover/Use',\n",
       " 'Indiana Cropland Use',\n",
       " 'Indiana  Erosio',\n",
       " 'Indiana  Non-Federal Grazing Land',\n",
       " 'Indiana  Non-Federal Forest Land',\n",
       " 'Indiana  Developed Land',\n",
       " 'Sources of Developed Land',\n",
       " 'Indiana  Wetlands',\n",
       " 'Palustrine and Estuarine Wetlands on Water Areas and Non-Federal Land by Land Cover/Use']"
      ]
     },
     "execution_count": 12,
     "metadata": {},
     "output_type": "execute_result"
    }
   ],
   "source": [
    "landuse_tables"
   ]
  },
  {
   "cell_type": "markdown",
   "metadata": {},
   "source": [
    "Call the table at index position 7, which contains IN landuse by development level, in the add_year_column function to strip only the integer of the year from the index."
   ]
  },
  {
   "cell_type": "code",
   "execution_count": 13,
   "metadata": {},
   "outputs": [
    {
     "name": "stdout",
     "output_type": "stream",
     "text": [
      "Enter the desired table index: 7\n"
     ]
    },
    {
     "data": {
      "text/plain": [
       "Index(['Developed Land Type', 'Large Urban and Built-Up Areas ',\n",
       "       'Small Built-Up Areas ', 'Rural Transportation ',\n",
       "       'Total Developed Land ', 'Year'],\n",
       "      dtype='object')"
      ]
     },
     "execution_count": 13,
     "metadata": {},
     "output_type": "execute_result"
    }
   ],
   "source": [
    "estimates = add_year_column(int(input('Enter the desired table index: ')))\n",
    "estimates.columns"
   ]
  },
  {
   "cell_type": "markdown",
   "metadata": {},
   "source": [
    "create relevant table from the appropriate series of landuse data, index positions 4 and 5."
   ]
  },
  {
   "cell_type": "code",
   "execution_count": 14,
   "metadata": {},
   "outputs": [
    {
     "name": "stdout",
     "output_type": "stream",
     "text": [
      "Provide the column index of the first series: 4\n",
      "Provide the column index of the second series: 5\n"
     ]
    },
    {
     "name": "stderr",
     "output_type": "stream",
     "text": [
      "<ipython-input-2-1ebbe04b62a3>:27: SettingWithCopyWarning: \n",
      "A value is trying to be set on a copy of a slice from a DataFrame.\n",
      "Try using .loc[row_indexer,col_indexer] = value instead\n",
      "\n",
      "See the caveats in the documentation: https://pandas.pydata.org/pandas-docs/stable/user_guide/indexing.html#returning-a-view-versus-a-copy\n",
      "  relevant_table[series1_name] = relevant_table[series1_name].astype('float')\n",
      "<ipython-input-2-1ebbe04b62a3>:28: SettingWithCopyWarning: \n",
      "A value is trying to be set on a copy of a slice from a DataFrame.\n",
      "Try using .loc[row_indexer,col_indexer] = value instead\n",
      "\n",
      "See the caveats in the documentation: https://pandas.pydata.org/pandas-docs/stable/user_guide/indexing.html#returning-a-view-versus-a-copy\n",
      "  relevant_table[series2_name] = relevant_table[series2_name].astype('int')\n"
     ]
    }
   ],
   "source": [
    "relevant_table = relevant_series_selection()"
   ]
  },
  {
   "cell_type": "markdown",
   "metadata": {},
   "source": [
    "Create a new dataframe (Dev_Land_Final), by calling the create_missing_df and parse_table functions on the previously defined relevant table"
   ]
  },
  {
   "cell_type": "code",
   "execution_count": 15,
   "metadata": {},
   "outputs": [],
   "source": [
    "missing_df = create_missing_df(relevant_table,relevant_table.iloc[:,0],relevant_table.iloc[:,1])"
   ]
  },
  {
   "cell_type": "code",
   "execution_count": 16,
   "metadata": {},
   "outputs": [],
   "source": [
    "relevant_table_parsed = parse_table(relevant_table,missing_df)"
   ]
  },
  {
   "cell_type": "code",
   "execution_count": 17,
   "metadata": {},
   "outputs": [],
   "source": [
    "relevant_table_parsed['Total Dev Land (Thousands of acres)'] = calc_total_land_change(relevant_table_parsed)\n",
    "Final_table = relevant_table_parsed[['Year','Total Dev Land (Thousands of acres)']]\n",
    "Dev_Land_Final = Final_table"
   ]
  },
  {
   "cell_type": "markdown",
   "metadata": {},
   "source": [
    "Repeat the above steps on the table in the TABLES dictionary at index position 1"
   ]
  },
  {
   "cell_type": "code",
   "execution_count": 18,
   "metadata": {},
   "outputs": [
    {
     "name": "stdout",
     "output_type": "stream",
     "text": [
      "Enter the desired table index: 1\n"
     ]
    },
    {
     "data": {
      "text/plain": [
       "Index(['Land Cover/Use', 'Cropland ', 'CRP Land ', 'Pastureland ',\n",
       "       'Rangeland ', 'Forest Land ', 'Other Rural Land ',\n",
       "       'Total Non-Federal Rural Land ', 'Year'],\n",
       "      dtype='object')"
      ]
     },
     "execution_count": 18,
     "metadata": {},
     "output_type": "execute_result"
    }
   ],
   "source": [
    "estimates = add_year_column(int(input('Enter the desired table index: ')))\n",
    "estimates.columns"
   ]
  },
  {
   "cell_type": "markdown",
   "metadata": {},
   "source": [
    "create relevant_table dataframe from the series at positions 1 and 8. And call the create_missing_df and parse_table functions on it to produce Crop_Land_Final table."
   ]
  },
  {
   "cell_type": "code",
   "execution_count": 19,
   "metadata": {},
   "outputs": [
    {
     "name": "stdout",
     "output_type": "stream",
     "text": [
      "Provide the column index of the first series: 1\n",
      "Provide the column index of the second series: 8\n"
     ]
    },
    {
     "name": "stderr",
     "output_type": "stream",
     "text": [
      "<ipython-input-2-1ebbe04b62a3>:27: SettingWithCopyWarning: \n",
      "A value is trying to be set on a copy of a slice from a DataFrame.\n",
      "Try using .loc[row_indexer,col_indexer] = value instead\n",
      "\n",
      "See the caveats in the documentation: https://pandas.pydata.org/pandas-docs/stable/user_guide/indexing.html#returning-a-view-versus-a-copy\n",
      "  relevant_table[series1_name] = relevant_table[series1_name].astype('float')\n",
      "<ipython-input-2-1ebbe04b62a3>:28: SettingWithCopyWarning: \n",
      "A value is trying to be set on a copy of a slice from a DataFrame.\n",
      "Try using .loc[row_indexer,col_indexer] = value instead\n",
      "\n",
      "See the caveats in the documentation: https://pandas.pydata.org/pandas-docs/stable/user_guide/indexing.html#returning-a-view-versus-a-copy\n",
      "  relevant_table[series2_name] = relevant_table[series2_name].astype('int')\n"
     ]
    }
   ],
   "source": [
    "relevant_table = relevant_series_selection()"
   ]
  },
  {
   "cell_type": "code",
   "execution_count": 20,
   "metadata": {},
   "outputs": [],
   "source": [
    "missing_df = create_missing_df(relevant_table,relevant_table.iloc[:,0],relevant_table.iloc[:,1])"
   ]
  },
  {
   "cell_type": "code",
   "execution_count": 21,
   "metadata": {},
   "outputs": [],
   "source": [
    "relevant_table_parsed = parse_table(relevant_table,missing_df)"
   ]
  },
  {
   "cell_type": "code",
   "execution_count": 22,
   "metadata": {},
   "outputs": [],
   "source": [
    "relevant_table_parsed['Total Crop Land (Thousands of acres)'] = calc_total_land_change(relevant_table_parsed)\n",
    "Final_table = relevant_table_parsed[['Year','Total Crop Land (Thousands of acres)']]\n",
    "Crop_Land_Final = Final_table"
   ]
  },
  {
   "cell_type": "markdown",
   "metadata": {},
   "source": [
    "Create the final_landuse table by merging the Dev_Land_Final dataframe to the Crop_Land_Final dataframe on year."
   ]
  },
  {
   "cell_type": "code",
   "execution_count": 23,
   "metadata": {},
   "outputs": [],
   "source": [
    "final_landuse = Crop_Land_Final.merge(Dev_Land_Final)"
   ]
  },
  {
   "cell_type": "markdown",
   "metadata": {},
   "source": [
    "Create the crop_emissions_final dataframe using glob to process all the tables from the csv files in emissions_path."
   ]
  },
  {
   "cell_type": "code",
   "execution_count": 24,
   "metadata": {
    "scrolled": true
   },
   "outputs": [],
   "source": [
    "emissions_path = '/Users/coleromanyk/Downloads/Chapter Text 2/Ch 5 - Agriculture/*.*'"
   ]
  },
  {
   "cell_type": "code",
   "execution_count": 25,
   "metadata": {},
   "outputs": [],
   "source": [
    "file_list = []\n",
    "table_list = []\n",
    "for file in glob.glob(emissions_path):\n",
    "    file_list.append(str(file))\n",
    "    table = pd.read_csv(file, encoding= 'unicode_escape').T\n",
    "    table_idx = table.index\n",
    "    table_name = table_idx[0].split(':  ')[1]\n",
    "    table_list.append(table_name)"
   ]
  },
  {
   "cell_type": "code",
   "execution_count": 26,
   "metadata": {},
   "outputs": [],
   "source": [
    "GHG_tables = {name:file for name,file in zip(table_list,file_list)}"
   ]
  },
  {
   "cell_type": "code",
   "execution_count": 27,
   "metadata": {},
   "outputs": [],
   "source": [
    "ghgtables = list(GHG_tables.keys())"
   ]
  },
  {
   "cell_type": "code",
   "execution_count": 28,
   "metadata": {},
   "outputs": [],
   "source": [
    "corn_files = ['Agricultural Crop Production (kt of Product)','CH4, N2O, CO, and NOx Emissions from Field Burning of Agricultural Residues (kt)','Direct N2O Emissions from Agricultural Soils by Land Use Type and N Input Type (MMT CO2 Eq.)','Greenhouse Gas Emission Ratios and Conversion Factors','Quantitative Uncertainty Estimates of N2O Emissions from Agricultural Soil Management in 2018 (MMT CO2 Eq. and Percent)','Emissions from Agriculture (kt)','N2O Emissions from Agricultural Soils (MMT CO2 Eq.)','N2O Emissions from Agricultural Soils (kt)','Emissions from Agriculture (MMT CO2 Eq.)']"
   ]
  },
  {
   "cell_type": "code",
   "execution_count": 29,
   "metadata": {
    "scrolled": false
   },
   "outputs": [],
   "source": [
    "raw_table = pd.read_csv(GHG_tables[str(corn_files[8])])"
   ]
  },
  {
   "cell_type": "code",
   "execution_count": 30,
   "metadata": {},
   "outputs": [],
   "source": [
    "raw_table = raw_table.iloc[1:,1:]\n",
    "raw_table.iloc[0,0] = 'Year'"
   ]
  },
  {
   "cell_type": "code",
   "execution_count": 31,
   "metadata": {
    "scrolled": true
   },
   "outputs": [],
   "source": [
    "raw_table2 = raw_table.T"
   ]
  },
  {
   "cell_type": "code",
   "execution_count": 32,
   "metadata": {},
   "outputs": [],
   "source": [
    "raw_table2.reset_index(drop=True,inplace=True)\n",
    "raw_table2.columns = raw_table2.iloc[0,:]"
   ]
  },
  {
   "cell_type": "code",
   "execution_count": 33,
   "metadata": {},
   "outputs": [],
   "source": [
    "raw_table2 = raw_table2.iloc[1:]"
   ]
  },
  {
   "cell_type": "code",
   "execution_count": 34,
   "metadata": {},
   "outputs": [],
   "source": [
    "crop_emissions = raw_table2.loc[:,['Year','CO2']]\n",
    "crop_emissions['N2O'] = raw_table2.loc[:,'N2O'] - raw_table2.iloc[:,11]\n",
    "crop_emissions['CH4'] = raw_table2.iloc[:,8]\n",
    "crop_emissions['Total (MMT CO2 Eq.)'] = crop_emissions.loc[:,'CO2'] + crop_emissions.loc[:,'N2O'] + crop_emissions.loc[:,'CH4'] "
   ]
  },
  {
   "cell_type": "code",
   "execution_count": 35,
   "metadata": {},
   "outputs": [],
   "source": [
    "crop_emissions_final = crop_emissions[['Year','Total (MMT CO2 Eq.)']]"
   ]
  },
  {
   "cell_type": "markdown",
   "metadata": {},
   "source": [
    "Create the emissions_landuse dataframe by merging the dataframes containing the emissions data and the landuse data merging on year."
   ]
  },
  {
   "cell_type": "code",
   "execution_count": 36,
   "metadata": {},
   "outputs": [],
   "source": [
    "emissions_landuse = crop_emissions_final.merge(final_landuse)"
   ]
  },
  {
   "cell_type": "markdown",
   "metadata": {},
   "source": [
    "Creat the IN_fert_final dataframe from the historical fertilzer data for IN by selecting the data from the nitrogen, phosphate, potash fertilizer use for corn sheets in the fertilizeruse workbook merging on on year."
   ]
  },
  {
   "cell_type": "code",
   "execution_count": 37,
   "metadata": {},
   "outputs": [],
   "source": [
    "fert_path = '/Users/coleromanyk/Downloads/fertilizeruse.xls'"
   ]
  },
  {
   "cell_type": "code",
   "execution_count": 38,
   "metadata": {},
   "outputs": [],
   "source": [
    "corn_tables = ['Table10','Table12','Table14']"
   ]
  },
  {
   "cell_type": "code",
   "execution_count": 39,
   "metadata": {},
   "outputs": [],
   "source": [
    "raw_nitrogen = pd.read_excel(fert_path,sheet_name=corn_tables[0])"
   ]
  },
  {
   "cell_type": "code",
   "execution_count": 40,
   "metadata": {},
   "outputs": [
    {
     "name": "stdout",
     "output_type": "stream",
     "text": [
      "What fertilizer type? N\n"
     ]
    }
   ],
   "source": [
    "IN_N = fert_df_creation(raw_nitrogen)"
   ]
  },
  {
   "cell_type": "code",
   "execution_count": 41,
   "metadata": {},
   "outputs": [],
   "source": [
    "raw_phosphate = pd.read_excel(fert_path,sheet_name=corn_tables[1])"
   ]
  },
  {
   "cell_type": "code",
   "execution_count": 42,
   "metadata": {},
   "outputs": [
    {
     "name": "stdout",
     "output_type": "stream",
     "text": [
      "What fertilizer type? PO4\n"
     ]
    }
   ],
   "source": [
    "IN_PH = fert_df_creation(raw_phosphate)"
   ]
  },
  {
   "cell_type": "code",
   "execution_count": 43,
   "metadata": {},
   "outputs": [],
   "source": [
    "raw_potash = pd.read_excel(fert_path,sheet_name=corn_tables[2])"
   ]
  },
  {
   "cell_type": "code",
   "execution_count": 44,
   "metadata": {},
   "outputs": [
    {
     "name": "stdout",
     "output_type": "stream",
     "text": [
      "What fertilizer type? Potash\n"
     ]
    }
   ],
   "source": [
    "IN_PO = fert_df_creation(raw_potash)"
   ]
  },
  {
   "cell_type": "code",
   "execution_count": 45,
   "metadata": {},
   "outputs": [],
   "source": [
    "fert1 = IN_N.merge(IN_PH)\n",
    "IN_fert_final = fert1.merge(IN_PO)"
   ]
  },
  {
   "cell_type": "code",
   "execution_count": 46,
   "metadata": {},
   "outputs": [],
   "source": [
    "IN_fert_final.fillna(round(IN_fert_final.rolling(10,min_periods=1).mean(),),inplace=True)"
   ]
  },
  {
   "cell_type": "markdown",
   "metadata": {},
   "source": [
    "Combine the fertilizer use data for IN with the US emissions and IN landuse data merging on year."
   ]
  },
  {
   "cell_type": "code",
   "execution_count": 47,
   "metadata": {},
   "outputs": [],
   "source": [
    "Emissions_landuse_fertilizer = emissions_landuse.merge(IN_fert_final)"
   ]
  },
  {
   "cell_type": "markdown",
   "metadata": {},
   "source": [
    "Download and read the appropriate production practice data from the in.gov site. Then format the dataframes appropriately prior to merging on year."
   ]
  },
  {
   "cell_type": "code",
   "execution_count": 48,
   "metadata": {
    "scrolled": true
   },
   "outputs": [],
   "source": [
    "pdf = 'https://www.in.gov/isda/files/No-Till-Trends-1990-2019-Statewide.pdf'\n",
    "urlretrieve(pdf,'no_till.pdf')\n",
    "no_till = tabula.read_pdf('no_till.pdf', lattice=True, multiple_tables=True)"
   ]
  },
  {
   "cell_type": "code",
   "execution_count": 49,
   "metadata": {},
   "outputs": [],
   "source": [
    "pdf = 'https://www.in.gov/isda/files/Cover-Crop-Trends-2011-2019-Statewide.pdf'\n",
    "urlretrieve(pdf,'cover_crop.pdf')\n",
    "cover_crop = tabula.read_pdf('cover_crop.pdf', lattice=True, multiple_tables=True)"
   ]
  },
  {
   "cell_type": "code",
   "execution_count": 50,
   "metadata": {
    "scrolled": true
   },
   "outputs": [
    {
     "name": "stderr",
     "output_type": "stream",
     "text": [
      "<ipython-input-2-1ebbe04b62a3>:13: SettingWithCopyWarning: \n",
      "A value is trying to be set on a copy of a slice from a DataFrame.\n",
      "Try using .loc[row_indexer,col_indexer] = value instead\n",
      "\n",
      "See the caveats in the documentation: https://pandas.pydata.org/pandas-docs/stable/user_guide/indexing.html#returning-a-view-versus-a-copy\n",
      "  dataframe_acres2['Year'] = dataframe_acres2['Year'].astype('int')\n",
      "<ipython-input-2-1ebbe04b62a3>:14: SettingWithCopyWarning: \n",
      "A value is trying to be set on a copy of a slice from a DataFrame.\n",
      "Try using .loc[row_indexer,col_indexer] = value instead\n",
      "\n",
      "See the caveats in the documentation: https://pandas.pydata.org/pandas-docs/stable/user_guide/indexing.html#returning-a-view-versus-a-copy\n",
      "  dataframe_acres2['Corn'] = [float(str(i).replace(\",\", \"\")) for i in dataframe_acres2['Corn']]\n",
      "<ipython-input-2-1ebbe04b62a3>:15: SettingWithCopyWarning: \n",
      "A value is trying to be set on a copy of a slice from a DataFrame.\n",
      "Try using .loc[row_indexer,col_indexer] = value instead\n",
      "\n",
      "See the caveats in the documentation: https://pandas.pydata.org/pandas-docs/stable/user_guide/indexing.html#returning-a-view-versus-a-copy\n",
      "  dataframe_acres2['Corn (Thousands of acres)'] = dataframe_acres2['Corn'] /1000\n"
     ]
    }
   ],
   "source": [
    "cover_crop_df = pdf_df(cover_crop)"
   ]
  },
  {
   "cell_type": "code",
   "execution_count": 51,
   "metadata": {},
   "outputs": [],
   "source": [
    "cover_crop_2012 = cover_crop_df.loc[cover_crop_df['Year'] == 2011, 'Corn'].array + observed_change_timeperiod(cover_crop_df)\n",
    "cover_crop_df = cover_crop_df.append({'Year':2012,'Corn':cover_crop_2012[0], 'Corn (Thousands of acres)':(cover_crop_2012[0]/1000)}, ignore_index=True)\n",
    "cover_crop_df.sort_values('Year', inplace=True, ignore_index=True)\n",
    "cover_crop_df.columns = ['Year', 'Corn', 'IN Corn Cover Crop (Thousands of acres)']"
   ]
  },
  {
   "cell_type": "code",
   "execution_count": 52,
   "metadata": {},
   "outputs": [],
   "source": [
    "cover_crop_final = cover_crop_df.loc[:, ['Year', 'IN Corn Cover Crop (Thousands of acres)']]"
   ]
  },
  {
   "cell_type": "code",
   "execution_count": 53,
   "metadata": {},
   "outputs": [
    {
     "name": "stderr",
     "output_type": "stream",
     "text": [
      "<ipython-input-2-1ebbe04b62a3>:13: SettingWithCopyWarning: \n",
      "A value is trying to be set on a copy of a slice from a DataFrame.\n",
      "Try using .loc[row_indexer,col_indexer] = value instead\n",
      "\n",
      "See the caveats in the documentation: https://pandas.pydata.org/pandas-docs/stable/user_guide/indexing.html#returning-a-view-versus-a-copy\n",
      "  dataframe_acres2['Year'] = dataframe_acres2['Year'].astype('int')\n",
      "<ipython-input-2-1ebbe04b62a3>:14: SettingWithCopyWarning: \n",
      "A value is trying to be set on a copy of a slice from a DataFrame.\n",
      "Try using .loc[row_indexer,col_indexer] = value instead\n",
      "\n",
      "See the caveats in the documentation: https://pandas.pydata.org/pandas-docs/stable/user_guide/indexing.html#returning-a-view-versus-a-copy\n",
      "  dataframe_acres2['Corn'] = [float(str(i).replace(\",\", \"\")) for i in dataframe_acres2['Corn']]\n",
      "<ipython-input-2-1ebbe04b62a3>:15: SettingWithCopyWarning: \n",
      "A value is trying to be set on a copy of a slice from a DataFrame.\n",
      "Try using .loc[row_indexer,col_indexer] = value instead\n",
      "\n",
      "See the caveats in the documentation: https://pandas.pydata.org/pandas-docs/stable/user_guide/indexing.html#returning-a-view-versus-a-copy\n",
      "  dataframe_acres2['Corn (Thousands of acres)'] = dataframe_acres2['Corn'] /1000\n"
     ]
    }
   ],
   "source": [
    "no_till_df = pdf_df(no_till)"
   ]
  },
  {
   "cell_type": "code",
   "execution_count": 54,
   "metadata": {},
   "outputs": [],
   "source": [
    "missing_df = create_missing_practices(no_till_df, no_till_df['Year'], no_till_df['Corn'])"
   ]
  },
  {
   "cell_type": "code",
   "execution_count": 55,
   "metadata": {},
   "outputs": [],
   "source": [
    "parsed_till = parse_table(no_till_df,missing_df)\n",
    "parsed_till.pop('Corn (Thousands of acres)')\n",
    "parsed_till['Total Corn Acres'] = calc_total_land_change(parsed_till)\n",
    "parsed_till['Total Corn Acres'] = round(parsed_till['Total Corn Acres'],)"
   ]
  },
  {
   "cell_type": "code",
   "execution_count": 56,
   "metadata": {},
   "outputs": [],
   "source": [
    "year_till = parsed_till.loc[:, ['Year','Total Corn Acres']]\n",
    "year_till['IN No Till Corn (Thousands of acres)'] = year_till['Total Corn Acres']/1000\n",
    "final_no_till = year_till.loc[:, ['Year','IN No Till Corn (Thousands of acres)']]"
   ]
  },
  {
   "cell_type": "code",
   "execution_count": 57,
   "metadata": {},
   "outputs": [],
   "source": [
    "crop_practices_df = final_no_till.merge(cover_crop_final,how='left')\n",
    "crop_practices_df.fillna(0, inplace=True)\n",
    "final_crop_practices = crop_practices_df[(crop_practices_df['Year'] < 2018)]"
   ]
  },
  {
   "cell_type": "markdown",
   "metadata": {},
   "source": [
    "Read and create the dataframes for US Corn acerage, US Total acerage, and IN Corn acerage."
   ]
  },
  {
   "cell_type": "code",
   "execution_count": 58,
   "metadata": {},
   "outputs": [
    {
     "name": "stdout",
     "output_type": "stream",
     "text": [
      "Provide file name: US Corn\n"
     ]
    }
   ],
   "source": [
    "filename = input('Provide file name: ')\n",
    "data = f'/Users/coleromanyk/Downloads/{filename}.csv'\n",
    "US_corn_raw = pd.read_csv(data)\n",
    "US_corn_raw = US_corn_raw.reset_index(drop=True)\n",
    "US_corn_raw['Year'] = US_corn_raw.iloc[:,1].astype('int')\n",
    "US_corn_raw['Total US Corn Acres (Thousands of acres)'] = US_corn_raw.iloc[:,19].str.replace(\",\", \"\").astype('float')//1000"
   ]
  },
  {
   "cell_type": "code",
   "execution_count": 59,
   "metadata": {},
   "outputs": [],
   "source": [
    "US_corn = US_corn_raw.loc[:,['Year','Total US Corn Acres (Thousands of acres)']]"
   ]
  },
  {
   "cell_type": "code",
   "execution_count": 60,
   "metadata": {},
   "outputs": [
    {
     "name": "stdout",
     "output_type": "stream",
     "text": [
      "Provide file name: IN Corn\n"
     ]
    }
   ],
   "source": [
    "filename = input('Provide file name: ')\n",
    "data = f'/Users/coleromanyk/Downloads/{filename}.csv'\n",
    "IN_corn_raw = pd.read_csv(data)\n",
    "IN_corn_raw = IN_corn_raw.reset_index(drop=True)\n",
    "IN_corn_raw['Year'] = IN_corn_raw.iloc[:,1].astype('int')\n",
    "IN_corn_raw['Total IN Corn Acres (Thousands of acres)'] = IN_corn_raw.iloc[:,19].str.replace(\",\", \"\").astype('float')//1000"
   ]
  },
  {
   "cell_type": "code",
   "execution_count": 61,
   "metadata": {},
   "outputs": [],
   "source": [
    "IN_corn = IN_corn_raw.loc[:,['Year','Total IN Corn Acres (Thousands of acres)']]"
   ]
  },
  {
   "cell_type": "code",
   "execution_count": 62,
   "metadata": {},
   "outputs": [
    {
     "name": "stdout",
     "output_type": "stream",
     "text": [
      "Provide file name: US Total\n"
     ]
    }
   ],
   "source": [
    "filename = input('Provide file name: ')\n",
    "data = f'/Users/coleromanyk/Downloads/{filename}.csv'\n",
    "US_total_raw = pd.read_csv(data,)\n",
    "US_total_raw = US_total_raw.T\n",
    "US_total_raw.iloc[0,0] = 'Year'\n",
    "US_total_raw.iloc[0,1] = 'US Total (Thousands of acres)'\n",
    "US_total_raw.reset_index(drop=True,inplace=True)\n",
    "US_total_raw.columns = US_total_raw.iloc[0,:]\n",
    "US_year_total = US_total_raw.loc[1:,['Year','US Total (Thousands of acres)']].reset_index(drop=True)\n",
    "US_year_total['Year'] = US_year_total['Year'].astype('int')\n",
    "US_year_total['US Total (Thousands of acres)'] = US_year_total['US Total (Thousands of acres)'].str.replace(\",\", \"\").astype('int')"
   ]
  },
  {
   "cell_type": "code",
   "execution_count": 63,
   "metadata": {},
   "outputs": [],
   "source": [
    "missing_US_total = create_missing_df(US_year_total, US_year_total['Year'], US_year_total['US Total (Thousands of acres)'])\n",
    "parse_US_total = parse_table(US_year_total,missing_US_total)\n",
    "parse_US_total['US Total (Thousands of acres)'] = calc_total_land_change(parse_US_total)\n",
    "parse_US_total['US Total (Thousands of acres)'] = round(parse_US_total['US Total (Thousands of acres)'],)\n",
    "US_total = parse_US_total.loc[:,['Year','US Total (Thousands of acres)']]\n",
    "final_US_total = US_total[(US_total['Year'] >= 1990)]"
   ]
  },
  {
   "cell_type": "markdown",
   "metadata": {},
   "source": [
    "Merge the the acerage dfs with the practices dfs to create acres_and_practices df on year."
   ]
  },
  {
   "cell_type": "code",
   "execution_count": 64,
   "metadata": {},
   "outputs": [],
   "source": [
    "acres_df = final_US_total.merge(US_corn)\n",
    "final_acres = acres_df.merge(IN_corn)\n",
    "acres_and_practices = final_acres.merge(final_crop_practices)"
   ]
  },
  {
   "cell_type": "markdown",
   "metadata": {},
   "source": [
    "Merge all of the data into a single dataframe Cleaned_data on year."
   ]
  },
  {
   "cell_type": "code",
   "execution_count": 65,
   "metadata": {},
   "outputs": [],
   "source": [
    "Cleaned_data = Emissions_landuse_fertilizer.merge(acres_and_practices)"
   ]
  },
  {
   "cell_type": "code",
   "execution_count": 66,
   "metadata": {},
   "outputs": [],
   "source": [
    "Cleaned_data['Emissions per Acre of Corn IN (MMT CO2 Eq.)'] = (Cleaned_data['Total (MMT CO2 Eq.)']*Cleaned_data['Total IN Corn Acres (Thousands of acres)'])/Cleaned_data['Total US Corn Acres (Thousands of acres)']"
   ]
  },
  {
   "cell_type": "markdown",
   "metadata": {},
   "source": [
    "Create the IN_emission_data_clean df. 1st calculate the emissions in MMT CO2 eq. per acre of corn in IN. Then join only the appropriate series to the final table."
   ]
  },
  {
   "cell_type": "code",
   "execution_count": 67,
   "metadata": {},
   "outputs": [],
   "source": [
    "years = Cleaned_data.iloc[:,0]\n",
    "IN_emissions = Cleaned_data.iloc[:,-1]\n",
    "IN_land_fert = Cleaned_data.iloc[:,2:7]\n",
    "IN_practices = Cleaned_data.iloc[:,9:12]\n",
    "IN_emissions_data_clean = pd.DataFrame(years)\n",
    "IN_emissions_data_clean = IN_emissions_data_clean.join(IN_emissions,how='left') \n",
    "IN_emissions_data_clean = IN_emissions_data_clean.join(IN_land_fert,how='left')\n",
    "IN_emissions_data_clean = IN_emissions_data_clean.join(IN_practices,how='left')"
   ]
  },
  {
   "cell_type": "code",
   "execution_count": 68,
   "metadata": {},
   "outputs": [
    {
     "data": {
      "text/html": [
       "<div>\n",
       "<style scoped>\n",
       "    .dataframe tbody tr th:only-of-type {\n",
       "        vertical-align: middle;\n",
       "    }\n",
       "\n",
       "    .dataframe tbody tr th {\n",
       "        vertical-align: top;\n",
       "    }\n",
       "\n",
       "    .dataframe thead th {\n",
       "        text-align: right;\n",
       "    }\n",
       "</style>\n",
       "<table border=\"1\" class=\"dataframe\">\n",
       "  <thead>\n",
       "    <tr style=\"text-align: right;\">\n",
       "      <th></th>\n",
       "      <th>Year</th>\n",
       "      <th>Emissions per Acre of Corn IN (MMT CO2 Eq.)</th>\n",
       "      <th>Total Crop Land (Thousands of acres)</th>\n",
       "      <th>Total Dev Land (Thousands of acres)</th>\n",
       "      <th>N</th>\n",
       "      <th>PO4</th>\n",
       "      <th>Potash</th>\n",
       "      <th>Total IN Corn Acres (Thousands of acres)</th>\n",
       "      <th>IN No Till Corn (Thousands of acres)</th>\n",
       "      <th>IN Corn Cover Crop (Thousands of acres)</th>\n",
       "    </tr>\n",
       "  </thead>\n",
       "  <tbody>\n",
       "    <tr>\n",
       "      <th>0</th>\n",
       "      <td>1990</td>\n",
       "      <td>23.7426</td>\n",
       "      <td>13686.96</td>\n",
       "      <td>1967.36</td>\n",
       "      <td>139</td>\n",
       "      <td>75</td>\n",
       "      <td>111</td>\n",
       "      <td>5450.0</td>\n",
       "      <td>479.255</td>\n",
       "      <td>0.000</td>\n",
       "    </tr>\n",
       "    <tr>\n",
       "      <th>1</th>\n",
       "      <td>1991</td>\n",
       "      <td>22.8044</td>\n",
       "      <td>13618.98</td>\n",
       "      <td>1988.58</td>\n",
       "      <td>135</td>\n",
       "      <td>78</td>\n",
       "      <td>112</td>\n",
       "      <td>5550.0</td>\n",
       "      <td>723.426</td>\n",
       "      <td>0.000</td>\n",
       "    </tr>\n",
       "    <tr>\n",
       "      <th>2</th>\n",
       "      <td>1992</td>\n",
       "      <td>23.2971</td>\n",
       "      <td>13551.00</td>\n",
       "      <td>2009.80</td>\n",
       "      <td>143</td>\n",
       "      <td>66</td>\n",
       "      <td>107</td>\n",
       "      <td>5970.0</td>\n",
       "      <td>967.598</td>\n",
       "      <td>0.000</td>\n",
       "    </tr>\n",
       "    <tr>\n",
       "      <th>3</th>\n",
       "      <td>1993</td>\n",
       "      <td>24.523</td>\n",
       "      <td>13527.82</td>\n",
       "      <td>2047.96</td>\n",
       "      <td>134</td>\n",
       "      <td>68</td>\n",
       "      <td>114</td>\n",
       "      <td>5400.0</td>\n",
       "      <td>1211.769</td>\n",
       "      <td>0.000</td>\n",
       "    </tr>\n",
       "    <tr>\n",
       "      <th>4</th>\n",
       "      <td>1994</td>\n",
       "      <td>23.7204</td>\n",
       "      <td>13504.64</td>\n",
       "      <td>2086.12</td>\n",
       "      <td>147</td>\n",
       "      <td>74</td>\n",
       "      <td>112</td>\n",
       "      <td>5960.0</td>\n",
       "      <td>1131.817</td>\n",
       "      <td>0.000</td>\n",
       "    </tr>\n",
       "    <tr>\n",
       "      <th>5</th>\n",
       "      <td>1995</td>\n",
       "      <td>23.7421</td>\n",
       "      <td>13481.46</td>\n",
       "      <td>2124.28</td>\n",
       "      <td>132</td>\n",
       "      <td>68</td>\n",
       "      <td>107</td>\n",
       "      <td>5300.0</td>\n",
       "      <td>1051.866</td>\n",
       "      <td>0.000</td>\n",
       "    </tr>\n",
       "    <tr>\n",
       "      <th>6</th>\n",
       "      <td>1996</td>\n",
       "      <td>22.6519</td>\n",
       "      <td>13458.28</td>\n",
       "      <td>2162.44</td>\n",
       "      <td>138</td>\n",
       "      <td>64</td>\n",
       "      <td>110</td>\n",
       "      <td>5450.0</td>\n",
       "      <td>971.914</td>\n",
       "      <td>0.000</td>\n",
       "    </tr>\n",
       "    <tr>\n",
       "      <th>7</th>\n",
       "      <td>1997</td>\n",
       "      <td>23.1483</td>\n",
       "      <td>13435.10</td>\n",
       "      <td>2200.60</td>\n",
       "      <td>146</td>\n",
       "      <td>72</td>\n",
       "      <td>107</td>\n",
       "      <td>5750.0</td>\n",
       "      <td>891.962</td>\n",
       "      <td>0.000</td>\n",
       "    </tr>\n",
       "    <tr>\n",
       "      <th>8</th>\n",
       "      <td>1998</td>\n",
       "      <td>22.4589</td>\n",
       "      <td>13418.76</td>\n",
       "      <td>2228.64</td>\n",
       "      <td>146</td>\n",
       "      <td>61</td>\n",
       "      <td>118</td>\n",
       "      <td>5550.0</td>\n",
       "      <td>968.033</td>\n",
       "      <td>0.000</td>\n",
       "    </tr>\n",
       "    <tr>\n",
       "      <th>9</th>\n",
       "      <td>1999</td>\n",
       "      <td>23.175</td>\n",
       "      <td>13402.42</td>\n",
       "      <td>2256.68</td>\n",
       "      <td>154</td>\n",
       "      <td>56</td>\n",
       "      <td>116</td>\n",
       "      <td>5670.0</td>\n",
       "      <td>1044.103</td>\n",
       "      <td>0.000</td>\n",
       "    </tr>\n",
       "    <tr>\n",
       "      <th>10</th>\n",
       "      <td>2000</td>\n",
       "      <td>21.0695</td>\n",
       "      <td>13386.08</td>\n",
       "      <td>2284.72</td>\n",
       "      <td>153</td>\n",
       "      <td>72</td>\n",
       "      <td>129</td>\n",
       "      <td>5550.0</td>\n",
       "      <td>1120.174</td>\n",
       "      <td>0.000</td>\n",
       "    </tr>\n",
       "    <tr>\n",
       "      <th>11</th>\n",
       "      <td>2001</td>\n",
       "      <td>24.2897</td>\n",
       "      <td>13369.74</td>\n",
       "      <td>2312.76</td>\n",
       "      <td>140</td>\n",
       "      <td>66</td>\n",
       "      <td>121</td>\n",
       "      <td>5670.0</td>\n",
       "      <td>1092.997</td>\n",
       "      <td>0.000</td>\n",
       "    </tr>\n",
       "    <tr>\n",
       "      <th>12</th>\n",
       "      <td>2002</td>\n",
       "      <td>21.3447</td>\n",
       "      <td>13353.40</td>\n",
       "      <td>2340.80</td>\n",
       "      <td>148</td>\n",
       "      <td>70</td>\n",
       "      <td>125</td>\n",
       "      <td>5220.0</td>\n",
       "      <td>1065.820</td>\n",
       "      <td>0.000</td>\n",
       "    </tr>\n",
       "    <tr>\n",
       "      <th>13</th>\n",
       "      <td>2003</td>\n",
       "      <td>22.1969</td>\n",
       "      <td>13328.26</td>\n",
       "      <td>2363.50</td>\n",
       "      <td>154</td>\n",
       "      <td>79</td>\n",
       "      <td>138</td>\n",
       "      <td>5390.0</td>\n",
       "      <td>1038.644</td>\n",
       "      <td>0.000</td>\n",
       "    </tr>\n",
       "    <tr>\n",
       "      <th>14</th>\n",
       "      <td>2004</td>\n",
       "      <td>22.9457</td>\n",
       "      <td>13303.12</td>\n",
       "      <td>2386.20</td>\n",
       "      <td>146</td>\n",
       "      <td>68</td>\n",
       "      <td>119</td>\n",
       "      <td>5530.0</td>\n",
       "      <td>1011.467</td>\n",
       "      <td>0.000</td>\n",
       "    </tr>\n",
       "    <tr>\n",
       "      <th>15</th>\n",
       "      <td>2005</td>\n",
       "      <td>22.6555</td>\n",
       "      <td>13277.98</td>\n",
       "      <td>2408.90</td>\n",
       "      <td>147</td>\n",
       "      <td>77</td>\n",
       "      <td>124</td>\n",
       "      <td>5770.0</td>\n",
       "      <td>1188.362</td>\n",
       "      <td>0.000</td>\n",
       "    </tr>\n",
       "    <tr>\n",
       "      <th>16</th>\n",
       "      <td>2006</td>\n",
       "      <td>21.7049</td>\n",
       "      <td>13252.84</td>\n",
       "      <td>2431.60</td>\n",
       "      <td>148</td>\n",
       "      <td>69</td>\n",
       "      <td>122</td>\n",
       "      <td>5380.0</td>\n",
       "      <td>1365.257</td>\n",
       "      <td>0.000</td>\n",
       "    </tr>\n",
       "    <tr>\n",
       "      <th>17</th>\n",
       "      <td>2007</td>\n",
       "      <td>22.292</td>\n",
       "      <td>13227.70</td>\n",
       "      <td>2454.30</td>\n",
       "      <td>149</td>\n",
       "      <td>69</td>\n",
       "      <td>124</td>\n",
       "      <td>6370.0</td>\n",
       "      <td>1542.152</td>\n",
       "      <td>0.000</td>\n",
       "    </tr>\n",
       "    <tr>\n",
       "      <th>18</th>\n",
       "      <td>2008</td>\n",
       "      <td>20.5999</td>\n",
       "      <td>13237.02</td>\n",
       "      <td>2465.62</td>\n",
       "      <td>149</td>\n",
       "      <td>70</td>\n",
       "      <td>126</td>\n",
       "      <td>5460.0</td>\n",
       "      <td>1393.276</td>\n",
       "      <td>0.000</td>\n",
       "    </tr>\n",
       "    <tr>\n",
       "      <th>19</th>\n",
       "      <td>2009</td>\n",
       "      <td>20.7131</td>\n",
       "      <td>13246.34</td>\n",
       "      <td>2476.94</td>\n",
       "      <td>148</td>\n",
       "      <td>73</td>\n",
       "      <td>127</td>\n",
       "      <td>5460.0</td>\n",
       "      <td>1244.400</td>\n",
       "      <td>0.000</td>\n",
       "    </tr>\n",
       "    <tr>\n",
       "      <th>20</th>\n",
       "      <td>2010</td>\n",
       "      <td>21.5849</td>\n",
       "      <td>13255.66</td>\n",
       "      <td>2488.26</td>\n",
       "      <td>178</td>\n",
       "      <td>69</td>\n",
       "      <td>119</td>\n",
       "      <td>5720.0</td>\n",
       "      <td>1270.350</td>\n",
       "      <td>0.000</td>\n",
       "    </tr>\n",
       "    <tr>\n",
       "      <th>21</th>\n",
       "      <td>2011</td>\n",
       "      <td>19.9701</td>\n",
       "      <td>13264.98</td>\n",
       "      <td>2499.58</td>\n",
       "      <td>157</td>\n",
       "      <td>74</td>\n",
       "      <td>126</td>\n",
       "      <td>5750.0</td>\n",
       "      <td>1296.300</td>\n",
       "      <td>96.200</td>\n",
       "    </tr>\n",
       "    <tr>\n",
       "      <th>22</th>\n",
       "      <td>2012</td>\n",
       "      <td>18.7301</td>\n",
       "      <td>13274.30</td>\n",
       "      <td>2510.90</td>\n",
       "      <td>160</td>\n",
       "      <td>75</td>\n",
       "      <td>127</td>\n",
       "      <td>6030.0</td>\n",
       "      <td>1281.500</td>\n",
       "      <td>139.650</td>\n",
       "    </tr>\n",
       "    <tr>\n",
       "      <th>23</th>\n",
       "      <td>2013</td>\n",
       "      <td>21.2561</td>\n",
       "      <td>13284.24</td>\n",
       "      <td>2520.56</td>\n",
       "      <td>162</td>\n",
       "      <td>73</td>\n",
       "      <td>122</td>\n",
       "      <td>5830.0</td>\n",
       "      <td>1266.700</td>\n",
       "      <td>183.100</td>\n",
       "    </tr>\n",
       "    <tr>\n",
       "      <th>24</th>\n",
       "      <td>2014</td>\n",
       "      <td>22.756</td>\n",
       "      <td>13294.18</td>\n",
       "      <td>2530.22</td>\n",
       "      <td>156</td>\n",
       "      <td>74</td>\n",
       "      <td>114</td>\n",
       "      <td>5770.0</td>\n",
       "      <td>1443.850</td>\n",
       "      <td>461.081</td>\n",
       "    </tr>\n",
       "    <tr>\n",
       "      <th>25</th>\n",
       "      <td>2015</td>\n",
       "      <td>22.1954</td>\n",
       "      <td>13304.12</td>\n",
       "      <td>2539.88</td>\n",
       "      <td>167</td>\n",
       "      <td>72</td>\n",
       "      <td>116</td>\n",
       "      <td>5480.0</td>\n",
       "      <td>1621.000</td>\n",
       "      <td>518.808</td>\n",
       "    </tr>\n",
       "    <tr>\n",
       "      <th>26</th>\n",
       "      <td>2016</td>\n",
       "      <td>19.6388</td>\n",
       "      <td>13314.06</td>\n",
       "      <td>2549.54</td>\n",
       "      <td>163</td>\n",
       "      <td>74</td>\n",
       "      <td>109</td>\n",
       "      <td>5470.0</td>\n",
       "      <td>1377.716</td>\n",
       "      <td>510.925</td>\n",
       "    </tr>\n",
       "    <tr>\n",
       "      <th>27</th>\n",
       "      <td>2017</td>\n",
       "      <td>19.3485</td>\n",
       "      <td>13324.00</td>\n",
       "      <td>2559.20</td>\n",
       "      <td>166</td>\n",
       "      <td>72</td>\n",
       "      <td>114</td>\n",
       "      <td>5200.0</td>\n",
       "      <td>1134.432</td>\n",
       "      <td>362.494</td>\n",
       "    </tr>\n",
       "  </tbody>\n",
       "</table>\n",
       "</div>"
      ],
      "text/plain": [
       "    Year Emissions per Acre of Corn IN (MMT CO2 Eq.)  \\\n",
       "0   1990                                     23.7426   \n",
       "1   1991                                     22.8044   \n",
       "2   1992                                     23.2971   \n",
       "3   1993                                      24.523   \n",
       "4   1994                                     23.7204   \n",
       "5   1995                                     23.7421   \n",
       "6   1996                                     22.6519   \n",
       "7   1997                                     23.1483   \n",
       "8   1998                                     22.4589   \n",
       "9   1999                                      23.175   \n",
       "10  2000                                     21.0695   \n",
       "11  2001                                     24.2897   \n",
       "12  2002                                     21.3447   \n",
       "13  2003                                     22.1969   \n",
       "14  2004                                     22.9457   \n",
       "15  2005                                     22.6555   \n",
       "16  2006                                     21.7049   \n",
       "17  2007                                      22.292   \n",
       "18  2008                                     20.5999   \n",
       "19  2009                                     20.7131   \n",
       "20  2010                                     21.5849   \n",
       "21  2011                                     19.9701   \n",
       "22  2012                                     18.7301   \n",
       "23  2013                                     21.2561   \n",
       "24  2014                                      22.756   \n",
       "25  2015                                     22.1954   \n",
       "26  2016                                     19.6388   \n",
       "27  2017                                     19.3485   \n",
       "\n",
       "    Total Crop Land (Thousands of acres)  Total Dev Land (Thousands of acres)  \\\n",
       "0                               13686.96                              1967.36   \n",
       "1                               13618.98                              1988.58   \n",
       "2                               13551.00                              2009.80   \n",
       "3                               13527.82                              2047.96   \n",
       "4                               13504.64                              2086.12   \n",
       "5                               13481.46                              2124.28   \n",
       "6                               13458.28                              2162.44   \n",
       "7                               13435.10                              2200.60   \n",
       "8                               13418.76                              2228.64   \n",
       "9                               13402.42                              2256.68   \n",
       "10                              13386.08                              2284.72   \n",
       "11                              13369.74                              2312.76   \n",
       "12                              13353.40                              2340.80   \n",
       "13                              13328.26                              2363.50   \n",
       "14                              13303.12                              2386.20   \n",
       "15                              13277.98                              2408.90   \n",
       "16                              13252.84                              2431.60   \n",
       "17                              13227.70                              2454.30   \n",
       "18                              13237.02                              2465.62   \n",
       "19                              13246.34                              2476.94   \n",
       "20                              13255.66                              2488.26   \n",
       "21                              13264.98                              2499.58   \n",
       "22                              13274.30                              2510.90   \n",
       "23                              13284.24                              2520.56   \n",
       "24                              13294.18                              2530.22   \n",
       "25                              13304.12                              2539.88   \n",
       "26                              13314.06                              2549.54   \n",
       "27                              13324.00                              2559.20   \n",
       "\n",
       "      N PO4 Potash  Total IN Corn Acres (Thousands of acres)  \\\n",
       "0   139  75    111                                    5450.0   \n",
       "1   135  78    112                                    5550.0   \n",
       "2   143  66    107                                    5970.0   \n",
       "3   134  68    114                                    5400.0   \n",
       "4   147  74    112                                    5960.0   \n",
       "5   132  68    107                                    5300.0   \n",
       "6   138  64    110                                    5450.0   \n",
       "7   146  72    107                                    5750.0   \n",
       "8   146  61    118                                    5550.0   \n",
       "9   154  56    116                                    5670.0   \n",
       "10  153  72    129                                    5550.0   \n",
       "11  140  66    121                                    5670.0   \n",
       "12  148  70    125                                    5220.0   \n",
       "13  154  79    138                                    5390.0   \n",
       "14  146  68    119                                    5530.0   \n",
       "15  147  77    124                                    5770.0   \n",
       "16  148  69    122                                    5380.0   \n",
       "17  149  69    124                                    6370.0   \n",
       "18  149  70    126                                    5460.0   \n",
       "19  148  73    127                                    5460.0   \n",
       "20  178  69    119                                    5720.0   \n",
       "21  157  74    126                                    5750.0   \n",
       "22  160  75    127                                    6030.0   \n",
       "23  162  73    122                                    5830.0   \n",
       "24  156  74    114                                    5770.0   \n",
       "25  167  72    116                                    5480.0   \n",
       "26  163  74    109                                    5470.0   \n",
       "27  166  72    114                                    5200.0   \n",
       "\n",
       "    IN No Till Corn (Thousands of acres)  \\\n",
       "0                                479.255   \n",
       "1                                723.426   \n",
       "2                                967.598   \n",
       "3                               1211.769   \n",
       "4                               1131.817   \n",
       "5                               1051.866   \n",
       "6                                971.914   \n",
       "7                                891.962   \n",
       "8                                968.033   \n",
       "9                               1044.103   \n",
       "10                              1120.174   \n",
       "11                              1092.997   \n",
       "12                              1065.820   \n",
       "13                              1038.644   \n",
       "14                              1011.467   \n",
       "15                              1188.362   \n",
       "16                              1365.257   \n",
       "17                              1542.152   \n",
       "18                              1393.276   \n",
       "19                              1244.400   \n",
       "20                              1270.350   \n",
       "21                              1296.300   \n",
       "22                              1281.500   \n",
       "23                              1266.700   \n",
       "24                              1443.850   \n",
       "25                              1621.000   \n",
       "26                              1377.716   \n",
       "27                              1134.432   \n",
       "\n",
       "    IN Corn Cover Crop (Thousands of acres)  \n",
       "0                                     0.000  \n",
       "1                                     0.000  \n",
       "2                                     0.000  \n",
       "3                                     0.000  \n",
       "4                                     0.000  \n",
       "5                                     0.000  \n",
       "6                                     0.000  \n",
       "7                                     0.000  \n",
       "8                                     0.000  \n",
       "9                                     0.000  \n",
       "10                                    0.000  \n",
       "11                                    0.000  \n",
       "12                                    0.000  \n",
       "13                                    0.000  \n",
       "14                                    0.000  \n",
       "15                                    0.000  \n",
       "16                                    0.000  \n",
       "17                                    0.000  \n",
       "18                                    0.000  \n",
       "19                                    0.000  \n",
       "20                                    0.000  \n",
       "21                                   96.200  \n",
       "22                                  139.650  \n",
       "23                                  183.100  \n",
       "24                                  461.081  \n",
       "25                                  518.808  \n",
       "26                                  510.925  \n",
       "27                                  362.494  "
      ]
     },
     "execution_count": 68,
     "metadata": {},
     "output_type": "execute_result"
    }
   ],
   "source": [
    "IN_emissions_data_clean"
   ]
  }
 ],
 "metadata": {
  "kernelspec": {
   "display_name": "Python 3",
   "language": "python",
   "name": "python3"
  },
  "language_info": {
   "codemirror_mode": {
    "name": "ipython",
    "version": 3
   },
   "file_extension": ".py",
   "mimetype": "text/x-python",
   "name": "python",
   "nbconvert_exporter": "python",
   "pygments_lexer": "ipython3",
   "version": "3.8.5"
  }
 },
 "nbformat": 4,
 "nbformat_minor": 4
}
