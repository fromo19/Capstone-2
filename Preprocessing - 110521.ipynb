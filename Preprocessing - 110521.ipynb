{
 "cells": [
  {
   "cell_type": "code",
   "execution_count": 1,
   "metadata": {},
   "outputs": [],
   "source": [
    "import pandas as pd\n",
    "import numpy as np\n",
    "import matplotlib.pyplot as plt\n",
    "import seaborn as sns\n",
    "from sklearn.preprocessing import StandardScaler"
   ]
  },
  {
   "cell_type": "code",
   "execution_count": 2,
   "metadata": {},
   "outputs": [],
   "source": [
    "rand_state = 19"
   ]
  },
  {
   "cell_type": "markdown",
   "metadata": {},
   "source": [
    "Load Data"
   ]
  },
  {
   "cell_type": "code",
   "execution_count": 3,
   "metadata": {},
   "outputs": [],
   "source": [
    "data = pd.read_csv('IN_emissions_data.csv')"
   ]
  },
  {
   "cell_type": "code",
   "execution_count": 4,
   "metadata": {
    "scrolled": true
   },
   "outputs": [
    {
     "data": {
      "text/html": [
       "<div>\n",
       "<style scoped>\n",
       "    .dataframe tbody tr th:only-of-type {\n",
       "        vertical-align: middle;\n",
       "    }\n",
       "\n",
       "    .dataframe tbody tr th {\n",
       "        vertical-align: top;\n",
       "    }\n",
       "\n",
       "    .dataframe thead th {\n",
       "        text-align: right;\n",
       "    }\n",
       "</style>\n",
       "<table border=\"1\" class=\"dataframe\">\n",
       "  <thead>\n",
       "    <tr style=\"text-align: right;\">\n",
       "      <th></th>\n",
       "      <th>Year</th>\n",
       "      <th>Per Acre Emissions</th>\n",
       "      <th>N</th>\n",
       "      <th>P</th>\n",
       "      <th>Potash</th>\n",
       "      <th>IN Corn Yield per Acre</th>\n",
       "      <th>Precipitation</th>\n",
       "      <th>Average Temperature</th>\n",
       "      <th>IN No Till Corn (Thousands of acres)</th>\n",
       "      <th>IN Con Till Corn (Thousands of acres)</th>\n",
       "      <th>IN Corn Cover Crop (Thousands of acres)</th>\n",
       "      <th>Conventional Till</th>\n",
       "      <th>efficiency</th>\n",
       "    </tr>\n",
       "  </thead>\n",
       "  <tbody>\n",
       "    <tr>\n",
       "      <th>0</th>\n",
       "      <td>1990</td>\n",
       "      <td>3.306718</td>\n",
       "      <td>139.0</td>\n",
       "      <td>75.0</td>\n",
       "      <td>111.0</td>\n",
       "      <td>129</td>\n",
       "      <td>50.44</td>\n",
       "      <td>54.4</td>\n",
       "      <td>479.255</td>\n",
       "      <td>824.200</td>\n",
       "      <td>0.0</td>\n",
       "      <td>4146.545</td>\n",
       "      <td>39.011486</td>\n",
       "    </tr>\n",
       "    <tr>\n",
       "      <th>1</th>\n",
       "      <td>1991</td>\n",
       "      <td>3.508214</td>\n",
       "      <td>135.0</td>\n",
       "      <td>78.0</td>\n",
       "      <td>112.0</td>\n",
       "      <td>92</td>\n",
       "      <td>37.56</td>\n",
       "      <td>54.8</td>\n",
       "      <td>723.426</td>\n",
       "      <td>1061.613</td>\n",
       "      <td>0.0</td>\n",
       "      <td>3764.961</td>\n",
       "      <td>26.224166</td>\n",
       "    </tr>\n",
       "    <tr>\n",
       "      <th>2</th>\n",
       "      <td>1992</td>\n",
       "      <td>3.376282</td>\n",
       "      <td>143.0</td>\n",
       "      <td>66.0</td>\n",
       "      <td>107.0</td>\n",
       "      <td>147</td>\n",
       "      <td>44.22</td>\n",
       "      <td>52.6</td>\n",
       "      <td>967.598</td>\n",
       "      <td>1299.025</td>\n",
       "      <td>0.0</td>\n",
       "      <td>3703.377</td>\n",
       "      <td>43.539021</td>\n",
       "    </tr>\n",
       "    <tr>\n",
       "      <th>3</th>\n",
       "      <td>1993</td>\n",
       "      <td>2.860590</td>\n",
       "      <td>134.0</td>\n",
       "      <td>68.0</td>\n",
       "      <td>114.0</td>\n",
       "      <td>132</td>\n",
       "      <td>50.78</td>\n",
       "      <td>52.0</td>\n",
       "      <td>1211.769</td>\n",
       "      <td>1536.438</td>\n",
       "      <td>0.0</td>\n",
       "      <td>2651.793</td>\n",
       "      <td>46.144325</td>\n",
       "    </tr>\n",
       "    <tr>\n",
       "      <th>4</th>\n",
       "      <td>1994</td>\n",
       "      <td>3.331703</td>\n",
       "      <td>147.0</td>\n",
       "      <td>74.0</td>\n",
       "      <td>112.0</td>\n",
       "      <td>144</td>\n",
       "      <td>31.63</td>\n",
       "      <td>53.3</td>\n",
       "      <td>1131.817</td>\n",
       "      <td>1534.523</td>\n",
       "      <td>0.0</td>\n",
       "      <td>3293.660</td>\n",
       "      <td>43.221141</td>\n",
       "    </tr>\n",
       "  </tbody>\n",
       "</table>\n",
       "</div>"
      ],
      "text/plain": [
       "   Year  Per Acre Emissions      N     P  Potash  IN Corn Yield per Acre  \\\n",
       "0  1990            3.306718  139.0  75.0   111.0                     129   \n",
       "1  1991            3.508214  135.0  78.0   112.0                      92   \n",
       "2  1992            3.376282  143.0  66.0   107.0                     147   \n",
       "3  1993            2.860590  134.0  68.0   114.0                     132   \n",
       "4  1994            3.331703  147.0  74.0   112.0                     144   \n",
       "\n",
       "   Precipitation  Average Temperature  IN No Till Corn (Thousands of acres)  \\\n",
       "0          50.44                 54.4                               479.255   \n",
       "1          37.56                 54.8                               723.426   \n",
       "2          44.22                 52.6                               967.598   \n",
       "3          50.78                 52.0                              1211.769   \n",
       "4          31.63                 53.3                              1131.817   \n",
       "\n",
       "   IN Con Till Corn (Thousands of acres)  \\\n",
       "0                                824.200   \n",
       "1                               1061.613   \n",
       "2                               1299.025   \n",
       "3                               1536.438   \n",
       "4                               1534.523   \n",
       "\n",
       "   IN Corn Cover Crop (Thousands of acres)  Conventional Till  efficiency  \n",
       "0                                      0.0           4146.545   39.011486  \n",
       "1                                      0.0           3764.961   26.224166  \n",
       "2                                      0.0           3703.377   43.539021  \n",
       "3                                      0.0           2651.793   46.144325  \n",
       "4                                      0.0           3293.660   43.221141  "
      ]
     },
     "execution_count": 4,
     "metadata": {},
     "output_type": "execute_result"
    }
   ],
   "source": [
    "data.head()"
   ]
  },
  {
   "cell_type": "markdown",
   "metadata": {},
   "source": [
    "Split data into train and test sets prior to Smote and bootstrap sample growth"
   ]
  },
  {
   "cell_type": "code",
   "execution_count": 5,
   "metadata": {},
   "outputs": [],
   "source": [
    "from sklearn.model_selection import train_test_split"
   ]
  },
  {
   "cell_type": "code",
   "execution_count": 6,
   "metadata": {
    "scrolled": true
   },
   "outputs": [],
   "source": [
    "data['cover_crop_dummy'] = data['IN Corn Cover Crop (Thousands of acres)'] != 0"
   ]
  },
  {
   "cell_type": "code",
   "execution_count": 7,
   "metadata": {},
   "outputs": [],
   "source": [
    "y = data.pop('cover_crop_dummy')\n",
    "X = data"
   ]
  },
  {
   "cell_type": "code",
   "execution_count": 8,
   "metadata": {
    "scrolled": true
   },
   "outputs": [
    {
     "data": {
      "text/plain": [
       "28"
      ]
     },
     "execution_count": 8,
     "metadata": {},
     "output_type": "execute_result"
    }
   ],
   "source": [
    "len(X)"
   ]
  },
  {
   "cell_type": "code",
   "execution_count": 9,
   "metadata": {},
   "outputs": [],
   "source": [
    "X_train, X_test, y_train, y_test = train_test_split(X, y, test_size=.2, random_state=rand_state)"
   ]
  },
  {
   "cell_type": "markdown",
   "metadata": {},
   "source": [
    "Establish hold out set from test data"
   ]
  },
  {
   "cell_type": "code",
   "execution_count": 10,
   "metadata": {},
   "outputs": [],
   "source": [
    "hold_out = X_test.join(y_test).drop('cover_crop_dummy', axis=1)"
   ]
  },
  {
   "cell_type": "code",
   "execution_count": 11,
   "metadata": {},
   "outputs": [
    {
     "data": {
      "text/html": [
       "<div>\n",
       "<style scoped>\n",
       "    .dataframe tbody tr th:only-of-type {\n",
       "        vertical-align: middle;\n",
       "    }\n",
       "\n",
       "    .dataframe tbody tr th {\n",
       "        vertical-align: top;\n",
       "    }\n",
       "\n",
       "    .dataframe thead th {\n",
       "        text-align: right;\n",
       "    }\n",
       "</style>\n",
       "<table border=\"1\" class=\"dataframe\">\n",
       "  <thead>\n",
       "    <tr style=\"text-align: right;\">\n",
       "      <th></th>\n",
       "      <th>Year</th>\n",
       "      <th>Per Acre Emissions</th>\n",
       "      <th>N</th>\n",
       "      <th>P</th>\n",
       "      <th>Potash</th>\n",
       "      <th>IN Corn Yield per Acre</th>\n",
       "      <th>Precipitation</th>\n",
       "      <th>Average Temperature</th>\n",
       "      <th>IN No Till Corn (Thousands of acres)</th>\n",
       "      <th>IN Con Till Corn (Thousands of acres)</th>\n",
       "      <th>IN Corn Cover Crop (Thousands of acres)</th>\n",
       "      <th>Conventional Till</th>\n",
       "      <th>efficiency</th>\n",
       "    </tr>\n",
       "  </thead>\n",
       "  <tbody>\n",
       "    <tr>\n",
       "      <th>16</th>\n",
       "      <td>2006</td>\n",
       "      <td>2.758260</td>\n",
       "      <td>148.0</td>\n",
       "      <td>69.0</td>\n",
       "      <td>122.0</td>\n",
       "      <td>157</td>\n",
       "      <td>51.06</td>\n",
       "      <td>54.5</td>\n",
       "      <td>1365.257</td>\n",
       "      <td>1953.378</td>\n",
       "      <td>0.000</td>\n",
       "      <td>2061.365</td>\n",
       "      <td>56.919946</td>\n",
       "    </tr>\n",
       "    <tr>\n",
       "      <th>27</th>\n",
       "      <td>2017</td>\n",
       "      <td>2.802987</td>\n",
       "      <td>166.0</td>\n",
       "      <td>72.0</td>\n",
       "      <td>114.0</td>\n",
       "      <td>180</td>\n",
       "      <td>47.45</td>\n",
       "      <td>55.6</td>\n",
       "      <td>1134.432</td>\n",
       "      <td>1816.156</td>\n",
       "      <td>362.494</td>\n",
       "      <td>2249.412</td>\n",
       "      <td>64.217218</td>\n",
       "    </tr>\n",
       "    <tr>\n",
       "      <th>15</th>\n",
       "      <td>2005</td>\n",
       "      <td>3.096088</td>\n",
       "      <td>147.0</td>\n",
       "      <td>77.0</td>\n",
       "      <td>124.0</td>\n",
       "      <td>154</td>\n",
       "      <td>43.74</td>\n",
       "      <td>53.9</td>\n",
       "      <td>1188.362</td>\n",
       "      <td>1704.603</td>\n",
       "      <td>0.000</td>\n",
       "      <td>2877.035</td>\n",
       "      <td>49.740185</td>\n",
       "    </tr>\n",
       "    <tr>\n",
       "      <th>18</th>\n",
       "      <td>2008</td>\n",
       "      <td>2.802926</td>\n",
       "      <td>149.0</td>\n",
       "      <td>70.0</td>\n",
       "      <td>126.0</td>\n",
       "      <td>160</td>\n",
       "      <td>49.04</td>\n",
       "      <td>52.7</td>\n",
       "      <td>1393.276</td>\n",
       "      <td>2095.076</td>\n",
       "      <td>0.000</td>\n",
       "      <td>1971.648</td>\n",
       "      <td>57.083199</td>\n",
       "    </tr>\n",
       "    <tr>\n",
       "      <th>4</th>\n",
       "      <td>1994</td>\n",
       "      <td>3.331703</td>\n",
       "      <td>147.0</td>\n",
       "      <td>74.0</td>\n",
       "      <td>112.0</td>\n",
       "      <td>144</td>\n",
       "      <td>31.63</td>\n",
       "      <td>53.3</td>\n",
       "      <td>1131.817</td>\n",
       "      <td>1534.523</td>\n",
       "      <td>0.000</td>\n",
       "      <td>3293.660</td>\n",
       "      <td>43.221141</td>\n",
       "    </tr>\n",
       "    <tr>\n",
       "      <th>24</th>\n",
       "      <td>2014</td>\n",
       "      <td>2.753550</td>\n",
       "      <td>156.0</td>\n",
       "      <td>74.0</td>\n",
       "      <td>114.0</td>\n",
       "      <td>188</td>\n",
       "      <td>41.62</td>\n",
       "      <td>50.0</td>\n",
       "      <td>1443.850</td>\n",
       "      <td>2297.250</td>\n",
       "      <td>461.081</td>\n",
       "      <td>2028.900</td>\n",
       "      <td>68.275487</td>\n",
       "    </tr>\n",
       "  </tbody>\n",
       "</table>\n",
       "</div>"
      ],
      "text/plain": [
       "    Year  Per Acre Emissions      N     P  Potash  IN Corn Yield per Acre  \\\n",
       "16  2006            2.758260  148.0  69.0   122.0                     157   \n",
       "27  2017            2.802987  166.0  72.0   114.0                     180   \n",
       "15  2005            3.096088  147.0  77.0   124.0                     154   \n",
       "18  2008            2.802926  149.0  70.0   126.0                     160   \n",
       "4   1994            3.331703  147.0  74.0   112.0                     144   \n",
       "24  2014            2.753550  156.0  74.0   114.0                     188   \n",
       "\n",
       "    Precipitation  Average Temperature  IN No Till Corn (Thousands of acres)  \\\n",
       "16          51.06                 54.5                              1365.257   \n",
       "27          47.45                 55.6                              1134.432   \n",
       "15          43.74                 53.9                              1188.362   \n",
       "18          49.04                 52.7                              1393.276   \n",
       "4           31.63                 53.3                              1131.817   \n",
       "24          41.62                 50.0                              1443.850   \n",
       "\n",
       "    IN Con Till Corn (Thousands of acres)  \\\n",
       "16                               1953.378   \n",
       "27                               1816.156   \n",
       "15                               1704.603   \n",
       "18                               2095.076   \n",
       "4                                1534.523   \n",
       "24                               2297.250   \n",
       "\n",
       "    IN Corn Cover Crop (Thousands of acres)  Conventional Till  efficiency  \n",
       "16                                    0.000           2061.365   56.919946  \n",
       "27                                  362.494           2249.412   64.217218  \n",
       "15                                    0.000           2877.035   49.740185  \n",
       "18                                    0.000           1971.648   57.083199  \n",
       "4                                     0.000           3293.660   43.221141  \n",
       "24                                  461.081           2028.900   68.275487  "
      ]
     },
     "execution_count": 11,
     "metadata": {},
     "output_type": "execute_result"
    }
   ],
   "source": [
    "hold_out"
   ]
  },
  {
   "cell_type": "markdown",
   "metadata": {},
   "source": [
    "SMOTE"
   ]
  },
  {
   "cell_type": "code",
   "execution_count": 12,
   "metadata": {},
   "outputs": [],
   "source": [
    "from imblearn.over_sampling import SMOTENC"
   ]
  },
  {
   "cell_type": "code",
   "execution_count": 13,
   "metadata": {},
   "outputs": [],
   "source": [
    "sm = SMOTENC(categorical_features=[1], k_neighbors=3, random_state=rand_state)"
   ]
  },
  {
   "cell_type": "code",
   "execution_count": 14,
   "metadata": {},
   "outputs": [],
   "source": [
    "smote_data = X_train.join(pd.DataFrame(y_train)) "
   ]
  },
  {
   "cell_type": "code",
   "execution_count": 15,
   "metadata": {},
   "outputs": [],
   "source": [
    "smote_y = smote_data.pop('cover_crop_dummy')\n",
    "smote_X = smote_data"
   ]
  },
  {
   "cell_type": "code",
   "execution_count": 16,
   "metadata": {
    "scrolled": true
   },
   "outputs": [],
   "source": [
    "X_train_smote, y_train_smote = sm.fit_resample(smote_X, smote_y) "
   ]
  },
  {
   "cell_type": "code",
   "execution_count": 17,
   "metadata": {
    "scrolled": false
   },
   "outputs": [
    {
     "name": "stderr",
     "output_type": "stream",
     "text": [
      "/opt/anaconda3/lib/python3.8/site-packages/seaborn/_decorators.py:36: FutureWarning: Pass the following variables as keyword args: x, y. From version 0.12, the only valid positional argument will be `data`, and passing other arguments without an explicit keyword will result in an error or misinterpretation.\n",
      "  warnings.warn(\n"
     ]
    },
    {
     "data": {
      "text/plain": [
       "<AxesSubplot:xlabel='Per Acre Emissions', ylabel='IN Corn Yield per Acre'>"
      ]
     },
     "execution_count": 17,
     "metadata": {},
     "output_type": "execute_result"
    },
    {
     "data": {
      "image/png": "[encoded data removed]",
      "text/plain": [
       "<Figure size 432x288 with 1 Axes>"
      ]
     },
     "metadata": {
      "needs_background": "light"
     },
     "output_type": "display_data"
    }
   ],
   "source": [
    "sns.scatterplot(X_train_smote['Per Acre Emissions'], X_train_smote['IN Corn Yield per Acre'])"
   ]
  },
  {
   "cell_type": "code",
   "execution_count": 18,
   "metadata": {
    "scrolled": false
   },
   "outputs": [
    {
     "name": "stderr",
     "output_type": "stream",
     "text": [
      "/opt/anaconda3/lib/python3.8/site-packages/seaborn/_decorators.py:36: FutureWarning: Pass the following variables as keyword args: x, y. From version 0.12, the only valid positional argument will be `data`, and passing other arguments without an explicit keyword will result in an error or misinterpretation.\n",
      "  warnings.warn(\n"
     ]
    },
    {
     "data": {
      "text/plain": [
       "<AxesSubplot:xlabel='Per Acre Emissions', ylabel='IN Corn Yield per Acre'>"
      ]
     },
     "execution_count": 18,
     "metadata": {},
     "output_type": "execute_result"
    },
    {
     "data": {
      "image/png": "[encoded data removed]",
      "text/plain": [
       "<Figure size 432x288 with 1 Axes>"
      ]
     },
     "metadata": {
      "needs_background": "light"
     },
     "output_type": "display_data"
    }
   ],
   "source": [
    "sns.scatterplot(data['Per Acre Emissions'], data['IN Corn Yield per Acre'])"
   ]
  },
  {
   "cell_type": "code",
   "execution_count": 19,
   "metadata": {},
   "outputs": [],
   "source": [
    "smote_data = X_train_smote.join(y_train_smote)"
   ]
  },
  {
   "cell_type": "markdown",
   "metadata": {},
   "source": [
    "Bootstrap - Random Over Sample"
   ]
  },
  {
   "cell_type": "code",
   "execution_count": 20,
   "metadata": {},
   "outputs": [],
   "source": [
    "bootstrap_data = smote_data"
   ]
  },
  {
   "cell_type": "code",
   "execution_count": 21,
   "metadata": {},
   "outputs": [],
   "source": [
    "size = int(len(X_train_smote))\n",
    "post_bootstrap = bootstrap_data\n",
    "seed = rand_state\n",
    "while size < 300:\n",
    "    random_sample = bootstrap_data.sample(n=7, replace=True, random_state=seed)\n",
    "    post_bootstrap = pd.concat([post_bootstrap, random_sample])\n",
    "    size = len(post_bootstrap)\n",
    "    seed += rand_state"
   ]
  },
  {
   "cell_type": "code",
   "execution_count": 22,
   "metadata": {
    "scrolled": true
   },
   "outputs": [
    {
     "data": {
      "text/plain": [
       "True     150\n",
       "False    150\n",
       "Name: cover_crop_dummy, dtype: int64"
      ]
     },
     "execution_count": 22,
     "metadata": {},
     "output_type": "execute_result"
    }
   ],
   "source": [
    "post_bootstrap.cover_crop_dummy.value_counts()"
   ]
  },
  {
   "cell_type": "code",
   "execution_count": 23,
   "metadata": {
    "scrolled": true
   },
   "outputs": [
    {
     "data": {
      "text/plain": [
       "62.05427971311327"
      ]
     },
     "execution_count": 23,
     "metadata": {},
     "output_type": "execute_result"
    }
   ],
   "source": [
    "post_bootstrap.efficiency.max()"
   ]
  },
  {
   "cell_type": "code",
   "execution_count": 24,
   "metadata": {},
   "outputs": [],
   "source": [
    "processed_data = post_bootstrap.drop('cover_crop_dummy', axis=1)"
   ]
  },
  {
   "cell_type": "code",
   "execution_count": 25,
   "metadata": {
    "scrolled": true
   },
   "outputs": [],
   "source": [
    "processed_data.to_csv('/Users//Documents/GitHub/Capstone 2/SMOTE300_data.csv', index=False)\n",
    "hold_out.to_csv('/Users//Documents/GitHub/Capstone 2/hold_out_data300.csv', index=False)"
   ]
  },
  {
   "cell_type": "markdown",
   "metadata": {},
   "source": [
    "###Standardization is done as part of the pipeline during modeling notebook.###"
   ]
  },
  {
   "cell_type": "markdown",
   "metadata": {},
   "source": [
    "Boxplots"
   ]
  },
  {
   "cell_type": "code",
   "execution_count": 26,
   "metadata": {
    "scrolled": false
   },
   "outputs": [
    {
     "data": {
      "image/png": "[encoded data removed]",
      "text/plain": [
       "<Figure size 432x288 with 1 Axes>"
      ]
     },
     "metadata": {
      "needs_background": "light"
     },
     "output_type": "display_data"
    },
    {
     "data": {
      "image/png": "[encoded data removed]",
      "text/plain": [
       "<Figure size 432x288 with 1 Axes>"
      ]
     },
     "metadata": {
      "needs_background": "light"
     },
     "output_type": "display_data"
    },
    {
     "data": {
      "image/png": "[encoded data removed]",
      "text/plain": [
       "<Figure size 432x288 with 1 Axes>"
      ]
     },
     "metadata": {
      "needs_background": "light"
     },
     "output_type": "display_data"
    },
    {
     "data": {
      "image/png": "[encoded data removed]",
      "text/plain": [
       "<Figure size 432x288 with 1 Axes>"
      ]
     },
     "metadata": {
      "needs_background": "light"
     },
     "output_type": "display_data"
    },
    {
     "data": {
      "image/png": "[encoded data removed]",
      "text/plain": [
       "<Figure size 432x288 with 1 Axes>"
      ]
     },
     "metadata": {
      "needs_background": "light"
     },
     "output_type": "display_data"
    },
    {
     "data": {
      "image/png": "[encoded data removed]",
      "text/plain": [
       "<Figure size 432x288 with 1 Axes>"
      ]
     },
     "metadata": {
      "needs_background": "light"
     },
     "output_type": "display_data"
    },
    {
     "data": {
      "image/png": "[encoded data removed]",
      "text/plain": [
       "<Figure size 432x288 with 1 Axes>"
      ]
     },
     "metadata": {
      "needs_background": "light"
     },
     "output_type": "display_data"
    },
    {
     "data": {
      "image/png": "[encoded data removed]",
      "text/plain": [
       "<Figure size 432x288 with 1 Axes>"
      ]
     },
     "metadata": {
      "needs_background": "light"
     },
     "output_type": "display_data"
    },
    {
     "data": {
      "image/png": "[encoded data removed]",
      "text/plain": [
       "<Figure size 432x288 with 1 Axes>"
      ]
     },
     "metadata": {
      "needs_background": "light"
     },
     "output_type": "display_data"
    },
    {
     "data": {
      "image/png": "[encoded data removed]",
      "text/plain": [
       "<Figure size 432x288 with 1 Axes>"
      ]
     },
     "metadata": {
      "needs_background": "light"
     },
     "output_type": "display_data"
    },
    {
     "data": {
      "image/png": "[encoded data removed]",
      "text/plain": [
       "<Figure size 432x288 with 1 Axes>"
      ]
     },
     "metadata": {
      "needs_background": "light"
     },
     "output_type": "display_data"
    },
    {
     "data": {
      "image/png": "[encoded data removed]",
      "text/plain": [
       "<Figure size 432x288 with 1 Axes>"
      ]
     },
     "metadata": {
      "needs_background": "light"
     },
     "output_type": "display_data"
    },
    {
     "data": {
      "image/png": "[encoded data removed]",
      "text/plain": [
       "<Figure size 432x288 with 1 Axes>"
      ]
     },
     "metadata": {
      "needs_background": "light"
     },
     "output_type": "display_data"
    }
   ],
   "source": [
    "for col in post_bootstrap.columns:\n",
    "    if col == 'cover_crop_dummy':\n",
    "        continue\n",
    "    fig, axs = plt.subplots(nrows=1, ncols=1)\n",
    "    sns.boxplot(x=post_bootstrap['cover_crop_dummy'], y=post_bootstrap[col])\n"
   ]
  }
 ],
 "metadata": {
  "kernelspec": {
   "display_name": "Python 3",
   "language": "python",
   "name": "python3"
  },
  "language_info": {
   "codemirror_mode": {
    "name": "ipython",
    "version": 3
   },
   "file_extension": ".py",
   "mimetype": "text/x-python",
   "name": "python",
   "nbconvert_exporter": "python",
   "pygments_lexer": "ipython3",
   "version": "3.8.5"
  }
 },
 "nbformat": 4,
 "nbformat_minor": 4
}
