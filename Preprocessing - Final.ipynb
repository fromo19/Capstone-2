{
 "cells": [
  {
   "cell_type": "code",
   "execution_count": 1,
   "metadata": {},
   "outputs": [],
   "source": [
    "import pandas as pd\n",
    "import numpy as np\n",
    "import matplotlib.pyplot as plt\n",
    "import seaborn as sns\n",
    "import sklearn as sk\n",
    "import statsmodels.api as stats\n",
    "from sklearn.preprocessing import StandardScaler"
   ]
  },
  {
   "cell_type": "code",
   "execution_count": 2,
   "metadata": {},
   "outputs": [],
   "source": [
    "rand_state = 2"
   ]
  },
  {
   "cell_type": "markdown",
   "metadata": {},
   "source": [
    "Load Data"
   ]
  },
  {
   "cell_type": "code",
   "execution_count": 3,
   "metadata": {
    "scrolled": true
   },
   "outputs": [],
   "source": [
    "data = pd.read_csv('/Users/coleromanyk/Documents/GitHub/Capstone-2/Data/wrangled_data.csv')"
   ]
  },
  {
   "cell_type": "code",
   "execution_count": 4,
   "metadata": {
    "scrolled": true
   },
   "outputs": [
    {
     "data": {
      "text/html": [
       "<div>\n",
       "<style scoped>\n",
       "    .dataframe tbody tr th:only-of-type {\n",
       "        vertical-align: middle;\n",
       "    }\n",
       "\n",
       "    .dataframe tbody tr th {\n",
       "        vertical-align: top;\n",
       "    }\n",
       "\n",
       "    .dataframe thead th {\n",
       "        text-align: right;\n",
       "    }\n",
       "</style>\n",
       "<table border=\"1\" class=\"dataframe\">\n",
       "  <thead>\n",
       "    <tr style=\"text-align: right;\">\n",
       "      <th></th>\n",
       "      <th>year</th>\n",
       "      <th>nitrogen</th>\n",
       "      <th>phosphate</th>\n",
       "      <th>potash</th>\n",
       "      <th>precipitation</th>\n",
       "      <th>average_temperature</th>\n",
       "      <th>accumulated_gdd</th>\n",
       "      <th>full_till_ratio</th>\n",
       "      <th>cover_crop_ratio</th>\n",
       "      <th>efficiency</th>\n",
       "      <th>total_acres</th>\n",
       "      <th>emissions</th>\n",
       "      <th>yield</th>\n",
       "    </tr>\n",
       "  </thead>\n",
       "  <tbody>\n",
       "    <tr>\n",
       "      <th>0</th>\n",
       "      <td>1990</td>\n",
       "      <td>139.0</td>\n",
       "      <td>75.0</td>\n",
       "      <td>111.0</td>\n",
       "      <td>50.44</td>\n",
       "      <td>54.4</td>\n",
       "      <td>3031.0</td>\n",
       "      <td>0.760834</td>\n",
       "      <td>0.0</td>\n",
       "      <td>39.011486</td>\n",
       "      <td>5450.0</td>\n",
       "      <td>3.306718</td>\n",
       "      <td>129</td>\n",
       "    </tr>\n",
       "    <tr>\n",
       "      <th>1</th>\n",
       "      <td>1991</td>\n",
       "      <td>135.0</td>\n",
       "      <td>78.0</td>\n",
       "      <td>112.0</td>\n",
       "      <td>37.56</td>\n",
       "      <td>54.8</td>\n",
       "      <td>3610.0</td>\n",
       "      <td>0.678371</td>\n",
       "      <td>0.0</td>\n",
       "      <td>26.224166</td>\n",
       "      <td>5550.0</td>\n",
       "      <td>3.508214</td>\n",
       "      <td>92</td>\n",
       "    </tr>\n",
       "    <tr>\n",
       "      <th>2</th>\n",
       "      <td>1992</td>\n",
       "      <td>143.0</td>\n",
       "      <td>66.0</td>\n",
       "      <td>107.0</td>\n",
       "      <td>44.22</td>\n",
       "      <td>52.6</td>\n",
       "      <td>2817.0</td>\n",
       "      <td>0.620331</td>\n",
       "      <td>0.0</td>\n",
       "      <td>43.539021</td>\n",
       "      <td>5970.0</td>\n",
       "      <td>3.376282</td>\n",
       "      <td>147</td>\n",
       "    </tr>\n",
       "    <tr>\n",
       "      <th>3</th>\n",
       "      <td>1993</td>\n",
       "      <td>134.0</td>\n",
       "      <td>68.0</td>\n",
       "      <td>114.0</td>\n",
       "      <td>50.78</td>\n",
       "      <td>52.0</td>\n",
       "      <td>3079.0</td>\n",
       "      <td>0.491073</td>\n",
       "      <td>0.0</td>\n",
       "      <td>46.144325</td>\n",
       "      <td>5400.0</td>\n",
       "      <td>2.860590</td>\n",
       "      <td>132</td>\n",
       "    </tr>\n",
       "    <tr>\n",
       "      <th>4</th>\n",
       "      <td>1994</td>\n",
       "      <td>147.0</td>\n",
       "      <td>74.0</td>\n",
       "      <td>112.0</td>\n",
       "      <td>31.63</td>\n",
       "      <td>53.3</td>\n",
       "      <td>3023.0</td>\n",
       "      <td>0.552628</td>\n",
       "      <td>0.0</td>\n",
       "      <td>43.221141</td>\n",
       "      <td>5960.0</td>\n",
       "      <td>3.331703</td>\n",
       "      <td>144</td>\n",
       "    </tr>\n",
       "  </tbody>\n",
       "</table>\n",
       "</div>"
      ],
      "text/plain": [
       "   year  nitrogen  phosphate  potash  precipitation  average_temperature  \\\n",
       "0  1990     139.0       75.0   111.0          50.44                 54.4   \n",
       "1  1991     135.0       78.0   112.0          37.56                 54.8   \n",
       "2  1992     143.0       66.0   107.0          44.22                 52.6   \n",
       "3  1993     134.0       68.0   114.0          50.78                 52.0   \n",
       "4  1994     147.0       74.0   112.0          31.63                 53.3   \n",
       "\n",
       "   accumulated_gdd  full_till_ratio  cover_crop_ratio  efficiency  \\\n",
       "0           3031.0         0.760834               0.0   39.011486   \n",
       "1           3610.0         0.678371               0.0   26.224166   \n",
       "2           2817.0         0.620331               0.0   43.539021   \n",
       "3           3079.0         0.491073               0.0   46.144325   \n",
       "4           3023.0         0.552628               0.0   43.221141   \n",
       "\n",
       "   total_acres  emissions  yield  \n",
       "0       5450.0   3.306718    129  \n",
       "1       5550.0   3.508214     92  \n",
       "2       5970.0   3.376282    147  \n",
       "3       5400.0   2.860590    132  \n",
       "4       5960.0   3.331703    144  "
      ]
     },
     "execution_count": 4,
     "metadata": {},
     "output_type": "execute_result"
    }
   ],
   "source": [
    "data.head()"
   ]
  },
  {
   "cell_type": "markdown",
   "metadata": {},
   "source": [
    "Split data into train and test sets prior to Smote and bootstrap sample growth"
   ]
  },
  {
   "cell_type": "code",
   "execution_count": 5,
   "metadata": {},
   "outputs": [],
   "source": [
    "from sklearn.model_selection import train_test_split"
   ]
  },
  {
   "cell_type": "code",
   "execution_count": 6,
   "metadata": {
    "scrolled": true
   },
   "outputs": [],
   "source": [
    "data['cover_crop_dummy'] = data.cover_crop_ratio != 0"
   ]
  },
  {
   "cell_type": "code",
   "execution_count": 7,
   "metadata": {},
   "outputs": [],
   "source": [
    "y = data.cover_crop_dummy\n",
    "X = data.drop('cover_crop_dummy', axis=1)"
   ]
  },
  {
   "cell_type": "code",
   "execution_count": 8,
   "metadata": {
    "scrolled": true
   },
   "outputs": [
    {
     "data": {
      "text/plain": [
       "28"
      ]
     },
     "execution_count": 8,
     "metadata": {},
     "output_type": "execute_result"
    }
   ],
   "source": [
    "len(X)"
   ]
  },
  {
   "cell_type": "code",
   "execution_count": 9,
   "metadata": {},
   "outputs": [],
   "source": [
    "X_train, X_test, y_train, y_test = train_test_split(X, y, test_size=.2, random_state=rand_state)"
   ]
  },
  {
   "cell_type": "markdown",
   "metadata": {},
   "source": [
    "Establish hold out set from test data"
   ]
  },
  {
   "cell_type": "code",
   "execution_count": 10,
   "metadata": {},
   "outputs": [],
   "source": [
    "hold_out = X_test.join(y_test).drop('cover_crop_dummy', axis=1)"
   ]
  },
  {
   "cell_type": "code",
   "execution_count": 11,
   "metadata": {},
   "outputs": [
    {
     "data": {
      "text/html": [
       "<div>\n",
       "<style scoped>\n",
       "    .dataframe tbody tr th:only-of-type {\n",
       "        vertical-align: middle;\n",
       "    }\n",
       "\n",
       "    .dataframe tbody tr th {\n",
       "        vertical-align: top;\n",
       "    }\n",
       "\n",
       "    .dataframe thead th {\n",
       "        text-align: right;\n",
       "    }\n",
       "</style>\n",
       "<table border=\"1\" class=\"dataframe\">\n",
       "  <thead>\n",
       "    <tr style=\"text-align: right;\">\n",
       "      <th></th>\n",
       "      <th>year</th>\n",
       "      <th>nitrogen</th>\n",
       "      <th>phosphate</th>\n",
       "      <th>potash</th>\n",
       "      <th>precipitation</th>\n",
       "      <th>average_temperature</th>\n",
       "      <th>accumulated_gdd</th>\n",
       "      <th>full_till_ratio</th>\n",
       "      <th>cover_crop_ratio</th>\n",
       "      <th>efficiency</th>\n",
       "      <th>total_acres</th>\n",
       "      <th>emissions</th>\n",
       "      <th>yield</th>\n",
       "    </tr>\n",
       "  </thead>\n",
       "  <tbody>\n",
       "    <tr>\n",
       "      <th>1</th>\n",
       "      <td>1991</td>\n",
       "      <td>135.0</td>\n",
       "      <td>78.0</td>\n",
       "      <td>112.0</td>\n",
       "      <td>37.56</td>\n",
       "      <td>54.8</td>\n",
       "      <td>3610.0</td>\n",
       "      <td>0.678371</td>\n",
       "      <td>0.0</td>\n",
       "      <td>26.224166</td>\n",
       "      <td>5550.0</td>\n",
       "      <td>3.508214</td>\n",
       "      <td>92</td>\n",
       "    </tr>\n",
       "    <tr>\n",
       "      <th>0</th>\n",
       "      <td>1990</td>\n",
       "      <td>139.0</td>\n",
       "      <td>75.0</td>\n",
       "      <td>111.0</td>\n",
       "      <td>50.44</td>\n",
       "      <td>54.4</td>\n",
       "      <td>3031.0</td>\n",
       "      <td>0.760834</td>\n",
       "      <td>0.0</td>\n",
       "      <td>39.011486</td>\n",
       "      <td>5450.0</td>\n",
       "      <td>3.306718</td>\n",
       "      <td>129</td>\n",
       "    </tr>\n",
       "    <tr>\n",
       "      <th>14</th>\n",
       "      <td>2004</td>\n",
       "      <td>146.0</td>\n",
       "      <td>68.0</td>\n",
       "      <td>119.0</td>\n",
       "      <td>48.88</td>\n",
       "      <td>53.5</td>\n",
       "      <td>3261.0</td>\n",
       "      <td>0.553835</td>\n",
       "      <td>0.0</td>\n",
       "      <td>58.430428</td>\n",
       "      <td>5530.0</td>\n",
       "      <td>2.875214</td>\n",
       "      <td>168</td>\n",
       "    </tr>\n",
       "    <tr>\n",
       "      <th>9</th>\n",
       "      <td>1999</td>\n",
       "      <td>154.0</td>\n",
       "      <td>56.0</td>\n",
       "      <td>116.0</td>\n",
       "      <td>32.40</td>\n",
       "      <td>54.5</td>\n",
       "      <td>3352.0</td>\n",
       "      <td>0.542710</td>\n",
       "      <td>0.0</td>\n",
       "      <td>39.506327</td>\n",
       "      <td>5670.0</td>\n",
       "      <td>3.341237</td>\n",
       "      <td>132</td>\n",
       "    </tr>\n",
       "    <tr>\n",
       "      <th>19</th>\n",
       "      <td>2009</td>\n",
       "      <td>148.0</td>\n",
       "      <td>73.0</td>\n",
       "      <td>127.0</td>\n",
       "      <td>48.68</td>\n",
       "      <td>53.1</td>\n",
       "      <td>2909.0</td>\n",
       "      <td>0.407985</td>\n",
       "      <td>0.0</td>\n",
       "      <td>62.054280</td>\n",
       "      <td>5460.0</td>\n",
       "      <td>2.755652</td>\n",
       "      <td>171</td>\n",
       "    </tr>\n",
       "    <tr>\n",
       "      <th>17</th>\n",
       "      <td>2007</td>\n",
       "      <td>149.0</td>\n",
       "      <td>69.0</td>\n",
       "      <td>124.0</td>\n",
       "      <td>36.75</td>\n",
       "      <td>55.0</td>\n",
       "      <td>3534.0</td>\n",
       "      <td>0.412197</td>\n",
       "      <td>0.0</td>\n",
       "      <td>45.733543</td>\n",
       "      <td>6370.0</td>\n",
       "      <td>3.367331</td>\n",
       "      <td>154</td>\n",
       "    </tr>\n",
       "  </tbody>\n",
       "</table>\n",
       "</div>"
      ],
      "text/plain": [
       "    year  nitrogen  phosphate  potash  precipitation  average_temperature  \\\n",
       "1   1991     135.0       78.0   112.0          37.56                 54.8   \n",
       "0   1990     139.0       75.0   111.0          50.44                 54.4   \n",
       "14  2004     146.0       68.0   119.0          48.88                 53.5   \n",
       "9   1999     154.0       56.0   116.0          32.40                 54.5   \n",
       "19  2009     148.0       73.0   127.0          48.68                 53.1   \n",
       "17  2007     149.0       69.0   124.0          36.75                 55.0   \n",
       "\n",
       "    accumulated_gdd  full_till_ratio  cover_crop_ratio  efficiency  \\\n",
       "1            3610.0         0.678371               0.0   26.224166   \n",
       "0            3031.0         0.760834               0.0   39.011486   \n",
       "14           3261.0         0.553835               0.0   58.430428   \n",
       "9            3352.0         0.542710               0.0   39.506327   \n",
       "19           2909.0         0.407985               0.0   62.054280   \n",
       "17           3534.0         0.412197               0.0   45.733543   \n",
       "\n",
       "    total_acres  emissions  yield  \n",
       "1        5550.0   3.508214     92  \n",
       "0        5450.0   3.306718    129  \n",
       "14       5530.0   2.875214    168  \n",
       "9        5670.0   3.341237    132  \n",
       "19       5460.0   2.755652    171  \n",
       "17       6370.0   3.367331    154  "
      ]
     },
     "execution_count": 11,
     "metadata": {},
     "output_type": "execute_result"
    }
   ],
   "source": [
    "hold_out"
   ]
  },
  {
   "cell_type": "code",
   "execution_count": 12,
   "metadata": {},
   "outputs": [],
   "source": [
    "train_data = X_train.join(pd.DataFrame(y_train)) "
   ]
  },
  {
   "cell_type": "markdown",
   "metadata": {},
   "source": [
    "SMOTE Oversampling"
   ]
  },
  {
   "cell_type": "code",
   "execution_count": 13,
   "metadata": {},
   "outputs": [],
   "source": [
    "from imblearn.over_sampling import SMOTENC"
   ]
  },
  {
   "cell_type": "code",
   "execution_count": 14,
   "metadata": {},
   "outputs": [],
   "source": [
    "sm = SMOTENC(categorical_features=[1], k_neighbors=3, random_state=rand_state)"
   ]
  },
  {
   "cell_type": "code",
   "execution_count": 15,
   "metadata": {},
   "outputs": [],
   "source": [
    "smote_y = train_data.cover_crop_dummy\n",
    "smote_X = train_data.drop('cover_crop_dummy', axis=1)"
   ]
  },
  {
   "cell_type": "code",
   "execution_count": 16,
   "metadata": {
    "scrolled": true
   },
   "outputs": [],
   "source": [
    "X_train_smote, y_train_smote = sm.fit_resample(smote_X, smote_y) "
   ]
  },
  {
   "cell_type": "code",
   "execution_count": 17,
   "metadata": {
    "scrolled": false
   },
   "outputs": [
    {
     "name": "stderr",
     "output_type": "stream",
     "text": [
      "/opt/anaconda3/lib/python3.8/site-packages/seaborn/_decorators.py:36: FutureWarning: Pass the following variables as keyword args: x, y. From version 0.12, the only valid positional argument will be `data`, and passing other arguments without an explicit keyword will result in an error or misinterpretation.\n",
      "  warnings.warn(\n"
     ]
    },
    {
     "data": {
      "text/plain": [
       "<AxesSubplot:xlabel='emissions', ylabel='yield'>"
      ]
     },
     "execution_count": 17,
     "metadata": {},
     "output_type": "execute_result"
    },
    {
     "data": {
      "image/png": "[encoded data removed]",
      "text/plain": [
       "<Figure size 432x288 with 1 Axes>"
      ]
     },
     "metadata": {
      "needs_background": "light"
     },
     "output_type": "display_data"
    }
   ],
   "source": [
    "sns.scatterplot(X_train_smote.emissions, X_train_smote['yield'])"
   ]
  },
  {
   "cell_type": "code",
   "execution_count": 18,
   "metadata": {
    "scrolled": false
   },
   "outputs": [
    {
     "name": "stderr",
     "output_type": "stream",
     "text": [
      "/opt/anaconda3/lib/python3.8/site-packages/seaborn/_decorators.py:36: FutureWarning: Pass the following variables as keyword args: x, y. From version 0.12, the only valid positional argument will be `data`, and passing other arguments without an explicit keyword will result in an error or misinterpretation.\n",
      "  warnings.warn(\n"
     ]
    },
    {
     "data": {
      "text/plain": [
       "<AxesSubplot:xlabel='emissions', ylabel='yield'>"
      ]
     },
     "execution_count": 18,
     "metadata": {},
     "output_type": "execute_result"
    },
    {
     "data": {
      "image/png": "[encoded data removed]",
      "text/plain": [
       "<Figure size 432x288 with 1 Axes>"
      ]
     },
     "metadata": {
      "needs_background": "light"
     },
     "output_type": "display_data"
    }
   ],
   "source": [
    "sns.scatterplot(data.emissions, data['yield'])"
   ]
  },
  {
   "cell_type": "code",
   "execution_count": 19,
   "metadata": {},
   "outputs": [],
   "source": [
    "smote_data = X_train_smote.join(y_train_smote)"
   ]
  },
  {
   "cell_type": "markdown",
   "metadata": {},
   "source": [
    "ADASYN Oversampling"
   ]
  },
  {
   "cell_type": "code",
   "execution_count": 20,
   "metadata": {},
   "outputs": [],
   "source": [
    "from imblearn.over_sampling import ADASYN"
   ]
  },
  {
   "cell_type": "code",
   "execution_count": 21,
   "metadata": {},
   "outputs": [],
   "source": [
    "ada = ADASYN(n_neighbors=3, random_state=rand_state)"
   ]
  },
  {
   "cell_type": "code",
   "execution_count": 22,
   "metadata": {},
   "outputs": [],
   "source": [
    "adasyn_y = train_data.cover_crop_dummy\n",
    "adasyn_X = train_data.drop('cover_crop_dummy', axis=1)"
   ]
  },
  {
   "cell_type": "code",
   "execution_count": 23,
   "metadata": {
    "scrolled": true
   },
   "outputs": [],
   "source": [
    "X_train_adasyn, y_train_adasyn = ada.fit_resample(adasyn_X, adasyn_y) "
   ]
  },
  {
   "cell_type": "code",
   "execution_count": 24,
   "metadata": {
    "scrolled": false
   },
   "outputs": [
    {
     "name": "stderr",
     "output_type": "stream",
     "text": [
      "/opt/anaconda3/lib/python3.8/site-packages/seaborn/_decorators.py:36: FutureWarning: Pass the following variables as keyword args: x, y. From version 0.12, the only valid positional argument will be `data`, and passing other arguments without an explicit keyword will result in an error or misinterpretation.\n",
      "  warnings.warn(\n"
     ]
    },
    {
     "data": {
      "text/plain": [
       "<AxesSubplot:xlabel='emissions', ylabel='yield'>"
      ]
     },
     "execution_count": 24,
     "metadata": {},
     "output_type": "execute_result"
    },
    {
     "data": {
      "image/png": "[encoded data removed]",
      "text/plain": [
       "<Figure size 432x288 with 1 Axes>"
      ]
     },
     "metadata": {
      "needs_background": "light"
     },
     "output_type": "display_data"
    }
   ],
   "source": [
    "sns.scatterplot(X_train_adasyn.emissions, X_train_adasyn['yield'])"
   ]
  },
  {
   "cell_type": "code",
   "execution_count": 25,
   "metadata": {
    "scrolled": false
   },
   "outputs": [
    {
     "name": "stderr",
     "output_type": "stream",
     "text": [
      "/opt/anaconda3/lib/python3.8/site-packages/seaborn/_decorators.py:36: FutureWarning: Pass the following variables as keyword args: x, y. From version 0.12, the only valid positional argument will be `data`, and passing other arguments without an explicit keyword will result in an error or misinterpretation.\n",
      "  warnings.warn(\n"
     ]
    },
    {
     "data": {
      "text/plain": [
       "<AxesSubplot:xlabel='emissions', ylabel='yield'>"
      ]
     },
     "execution_count": 25,
     "metadata": {},
     "output_type": "execute_result"
    },
    {
     "data": {
      "image/png": "[encoded data removed]",
      "text/plain": [
       "<Figure size 432x288 with 1 Axes>"
      ]
     },
     "metadata": {
      "needs_background": "light"
     },
     "output_type": "display_data"
    }
   ],
   "source": [
    "sns.scatterplot(data.emissions, data['yield'])"
   ]
  },
  {
   "cell_type": "code",
   "execution_count": 26,
   "metadata": {},
   "outputs": [],
   "source": [
    "adasyn_data = X_train_adasyn.join(y_train_adasyn)"
   ]
  },
  {
   "cell_type": "markdown",
   "metadata": {},
   "source": [
    "Create ECDF's for the different oversampling techniques - ADASYN appears to create more normally distributed data than SMOTE"
   ]
  },
  {
   "cell_type": "code",
   "execution_count": 27,
   "metadata": {
    "scrolled": false
   },
   "outputs": [],
   "source": [
    "def ecdf(data):\n",
    "  \"\"\"Compute ECDF for a one-dimensional array of measurements.\"\"\"\n",
    "  n = len(data)\n",
    "  x = np.sort(data)\n",
    "  y = np.arange(1, n+1) / n\n",
    "  \n",
    "  return x, y\n",
    "\n",
    "# call function as follows: x, y = ecdf(data)"
   ]
  },
  {
   "cell_type": "code",
   "execution_count": 28,
   "metadata": {},
   "outputs": [
    {
     "data": {
      "image/png": "[encoded data removed]",
      "text/plain": [
       "<Figure size 432x288 with 1 Axes>"
      ]
     },
     "metadata": {
      "needs_background": "light"
     },
     "output_type": "display_data"
    }
   ],
   "source": [
    "efficiency = adasyn_data.efficiency\n",
    "\n",
    "x, y = ecdf(efficiency)\n",
    "\n",
    "_ = plt.plot(x, y, marker='.', linestyle='none')\n",
    "_ = plt.margins(.02)\n",
    "_ = plt.xlabel('Bushels produced per MMT emission')\n",
    "_ = plt.ylabel('ECDF')\n",
    "_ = plt.axvline(np.mean(efficiency), color='red')"
   ]
  },
  {
   "cell_type": "code",
   "execution_count": 29,
   "metadata": {},
   "outputs": [
    {
     "data": {
      "image/png": "[encoded data removed]",
      "text/plain": [
       "<Figure size 432x288 with 1 Axes>"
      ]
     },
     "metadata": {
      "needs_background": "light"
     },
     "output_type": "display_data"
    }
   ],
   "source": [
    "efficiency = smote_data.efficiency\n",
    "\n",
    "x, y = ecdf(efficiency)\n",
    "\n",
    "_ = plt.plot(x, y, marker='.', linestyle='none')\n",
    "_ = plt.margins(.02)\n",
    "_ = plt.xlabel('Bushels produced per MMT emission')\n",
    "_ = plt.ylabel('ECDF')\n",
    "_ = plt.axvline(np.mean(efficiency), color='red')"
   ]
  },
  {
   "cell_type": "markdown",
   "metadata": {},
   "source": [
    "Simple regression analysis - Data oversampled with ADASYN delivers a higher R2 value than data oversampled using SMOTE"
   ]
  },
  {
   "cell_type": "code",
   "execution_count": 30,
   "metadata": {},
   "outputs": [],
   "source": [
    "y = adasyn_data.efficiency\n",
    "X = adasyn_data.drop(['emissions', 'yield', 'efficiency'], axis=1)"
   ]
  },
  {
   "cell_type": "code",
   "execution_count": 31,
   "metadata": {},
   "outputs": [],
   "source": [
    "lm = sk.linear_model.LinearRegression()\n",
    "model = lm.fit(X,y)"
   ]
  },
  {
   "cell_type": "code",
   "execution_count": 32,
   "metadata": {},
   "outputs": [
    {
     "data": {
      "text/plain": [
       "0.6915960626357738"
      ]
     },
     "execution_count": 32,
     "metadata": {},
     "output_type": "execute_result"
    }
   ],
   "source": [
    "lm.score(X,y)"
   ]
  },
  {
   "cell_type": "code",
   "execution_count": 33,
   "metadata": {},
   "outputs": [],
   "source": [
    "y = smote_data.efficiency\n",
    "X = smote_data.drop(['emissions', 'yield', 'efficiency'], axis=1)"
   ]
  },
  {
   "cell_type": "code",
   "execution_count": 34,
   "metadata": {},
   "outputs": [],
   "source": [
    "lm = sk.linear_model.LinearRegression()\n",
    "model = lm.fit(X,y)"
   ]
  },
  {
   "cell_type": "code",
   "execution_count": 35,
   "metadata": {},
   "outputs": [
    {
     "data": {
      "text/plain": [
       "0.6975651814901034"
      ]
     },
     "execution_count": 35,
     "metadata": {},
     "output_type": "execute_result"
    }
   ],
   "source": [
    "lm.score(X,y)"
   ]
  },
  {
   "cell_type": "markdown",
   "metadata": {},
   "source": [
    "Bootstrap"
   ]
  },
  {
   "cell_type": "code",
   "execution_count": 36,
   "metadata": {},
   "outputs": [],
   "source": [
    "bootstrap_data = adasyn_data"
   ]
  },
  {
   "cell_type": "code",
   "execution_count": 37,
   "metadata": {},
   "outputs": [],
   "source": [
    "size = int(len(adasyn_data))\n",
    "post_bootstrap = bootstrap_data\n",
    "seed = rand_state\n",
    "while size < 300:\n",
    "    random_sample = bootstrap_data.sample(n=1, replace=True, random_state=seed)\n",
    "    post_bootstrap = pd.concat([post_bootstrap, random_sample])\n",
    "    size = len(post_bootstrap)\n",
    "    seed += rand_state"
   ]
  },
  {
   "cell_type": "code",
   "execution_count": 38,
   "metadata": {
    "scrolled": true
   },
   "outputs": [
    {
     "data": {
      "text/plain": [
       "False    151\n",
       "True     149\n",
       "Name: cover_crop_dummy, dtype: int64"
      ]
     },
     "execution_count": 38,
     "metadata": {},
     "output_type": "execute_result"
    }
   ],
   "source": [
    "post_bootstrap.cover_crop_dummy.value_counts()"
   ]
  },
  {
   "cell_type": "code",
   "execution_count": 39,
   "metadata": {},
   "outputs": [
    {
     "name": "stdout",
     "output_type": "stream",
     "text": [
      "<class 'pandas.core.frame.DataFrame'>\n",
      "Int64Index: 300 entries, 0 to 23\n",
      "Data columns (total 14 columns):\n",
      " #   Column               Non-Null Count  Dtype  \n",
      "---  ------               --------------  -----  \n",
      " 0   year                 300 non-null    int64  \n",
      " 1   nitrogen             300 non-null    float64\n",
      " 2   phosphate            300 non-null    float64\n",
      " 3   potash               300 non-null    float64\n",
      " 4   precipitation        300 non-null    float64\n",
      " 5   average_temperature  300 non-null    float64\n",
      " 6   accumulated_gdd      300 non-null    float64\n",
      " 7   full_till_ratio      300 non-null    float64\n",
      " 8   cover_crop_ratio     300 non-null    float64\n",
      " 9   efficiency           300 non-null    float64\n",
      " 10  total_acres          300 non-null    float64\n",
      " 11  emissions            300 non-null    float64\n",
      " 12  yield                300 non-null    int64  \n",
      " 13  cover_crop_dummy     300 non-null    bool   \n",
      "dtypes: bool(1), float64(11), int64(2)\n",
      "memory usage: 33.1 KB\n"
     ]
    }
   ],
   "source": [
    "post_bootstrap.info()"
   ]
  },
  {
   "cell_type": "code",
   "execution_count": 40,
   "metadata": {
    "scrolled": true
   },
   "outputs": [
    {
     "data": {
      "text/plain": [
       "68.27548650369768"
      ]
     },
     "execution_count": 40,
     "metadata": {},
     "output_type": "execute_result"
    }
   ],
   "source": [
    "post_bootstrap.efficiency.max()"
   ]
  },
  {
   "cell_type": "code",
   "execution_count": 41,
   "metadata": {},
   "outputs": [],
   "source": [
    "processed_data = post_bootstrap.drop('cover_crop_dummy', axis=1)"
   ]
  },
  {
   "cell_type": "code",
   "execution_count": 42,
   "metadata": {},
   "outputs": [
    {
     "data": {
      "image/png": "[encoded data removed]",
      "text/plain": [
       "<Figure size 432x288 with 1 Axes>"
      ]
     },
     "metadata": {
      "needs_background": "light"
     },
     "output_type": "display_data"
    }
   ],
   "source": [
    "efficiency = processed_data.efficiency\n",
    "\n",
    "x, y = ecdf(efficiency)\n",
    "\n",
    "_ = plt.plot(x, y, marker='.', linestyle='none')\n",
    "_ = plt.margins(.02)\n",
    "_ = plt.xlabel('Bushels produced per MMT emission')\n",
    "_ = plt.ylabel('ECDF')\n",
    "_ = plt.axvline(np.mean(efficiency), color='red')"
   ]
  },
  {
   "cell_type": "code",
   "execution_count": 43,
   "metadata": {
    "scrolled": true
   },
   "outputs": [],
   "source": [
    "processed_data.to_csv('/Users/coleromanyk/Documents/GitHub/Capstone-2/Data/adasyn_data.csv', index=False)\n",
    "hold_out.to_csv('/Users/coleromanyk/Documents/GitHub/Capstone-2/Data/hold_out_data.csv', index=False)"
   ]
  },
  {
   "cell_type": "markdown",
   "metadata": {},
   "source": [
    "Removal of 2012 (Outlier data)"
   ]
  },
  {
   "cell_type": "code",
   "execution_count": 44,
   "metadata": {},
   "outputs": [],
   "source": [
    "outlier_train = train_data[(train_data.efficiency > 30)\\\n",
    "                           & (train_data.efficiency < 65)]\n",
    "outlier_test = hold_out[(hold_out.efficiency > 30) &\\\n",
    "                       (hold_out.efficiency < 65)]"
   ]
  },
  {
   "cell_type": "code",
   "execution_count": 45,
   "metadata": {},
   "outputs": [],
   "source": [
    "X_outl = outlier_train.drop('cover_crop_dummy', axis=1)\n",
    "y_outl = outlier_train.cover_crop_dummy"
   ]
  },
  {
   "cell_type": "code",
   "execution_count": 46,
   "metadata": {
    "scrolled": false
   },
   "outputs": [],
   "source": [
    "X_out, y_out = ada.fit_resample(X_outl, y_outl) "
   ]
  },
  {
   "cell_type": "code",
   "execution_count": 47,
   "metadata": {},
   "outputs": [],
   "source": [
    "outlier_data = X_out.join(y_out)"
   ]
  },
  {
   "cell_type": "code",
   "execution_count": 48,
   "metadata": {},
   "outputs": [],
   "source": [
    "no_outlier = outlier_data"
   ]
  },
  {
   "cell_type": "code",
   "execution_count": 49,
   "metadata": {},
   "outputs": [],
   "source": [
    "size = int(len(X_out))\n",
    "outlier_bootstrap = no_outlier\n",
    "seed = rand_state\n",
    "while size < 300:\n",
    "    random_sample = no_outlier.sample(n=1, replace=True, random_state=seed)\n",
    "    outlier_bootstrap = pd.concat([outlier_bootstrap, random_sample])\n",
    "    size = len(outlier_bootstrap)\n",
    "    seed += rand_state"
   ]
  },
  {
   "cell_type": "code",
   "execution_count": 50,
   "metadata": {
    "scrolled": true
   },
   "outputs": [
    {
     "name": "stdout",
     "output_type": "stream",
     "text": [
      "<class 'pandas.core.frame.DataFrame'>\n",
      "Int64Index: 300 entries, 0 to 28\n",
      "Data columns (total 14 columns):\n",
      " #   Column               Non-Null Count  Dtype  \n",
      "---  ------               --------------  -----  \n",
      " 0   year                 300 non-null    int64  \n",
      " 1   nitrogen             300 non-null    float64\n",
      " 2   phosphate            300 non-null    float64\n",
      " 3   potash               300 non-null    float64\n",
      " 4   precipitation        300 non-null    float64\n",
      " 5   average_temperature  300 non-null    float64\n",
      " 6   accumulated_gdd      300 non-null    float64\n",
      " 7   full_till_ratio      300 non-null    float64\n",
      " 8   cover_crop_ratio     300 non-null    float64\n",
      " 9   efficiency           300 non-null    float64\n",
      " 10  total_acres          300 non-null    float64\n",
      " 11  emissions            300 non-null    float64\n",
      " 12  yield                300 non-null    int64  \n",
      " 13  cover_crop_dummy     300 non-null    bool   \n",
      "dtypes: bool(1), float64(11), int64(2)\n",
      "memory usage: 33.1 KB\n"
     ]
    }
   ],
   "source": [
    "outlier_bootstrap.info()"
   ]
  },
  {
   "cell_type": "code",
   "execution_count": 51,
   "metadata": {},
   "outputs": [],
   "source": [
    "outlier_bootstrap.to_csv('/Users/coleromanyk/Documents/GitHub/Capstone-2/Data/outlier_data.csv', index=False)\n",
    "outlier_test.to_csv('/Users/coleromanyk/Documents/GitHub/Capstone-2/Data/outlier_ho.csv', index=False)"
   ]
  },
  {
   "cell_type": "markdown",
   "metadata": {},
   "source": [
    "###Standardization is done as part of the pipeline during modeling notebook.###"
   ]
  }
 ],
 "metadata": {
  "kernelspec": {
   "display_name": "Python 3",
   "language": "python",
   "name": "python3"
  },
  "language_info": {
   "codemirror_mode": {
    "name": "ipython",
    "version": 3
   },
   "file_extension": ".py",
   "mimetype": "text/x-python",
   "name": "python",
   "nbconvert_exporter": "python",
   "pygments_lexer": "ipython3",
   "version": "3.8.5"
  }
 },
 "nbformat": 4,
 "nbformat_minor": 4
}
