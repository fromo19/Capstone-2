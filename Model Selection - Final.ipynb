{
 "cells": [
  {
   "cell_type": "code",
   "execution_count": 1,
   "metadata": {},
   "outputs": [],
   "source": [
    "import pandas as pd\n",
    "import numpy as np\n",
    "import matplotlib.pyplot as plt\n",
    "import seaborn as sns\n",
    "import sklearn\n",
    "from sklearn.pipeline import Pipeline\n",
    "from sklearn.preprocessing import StandardScaler\n",
    "from sklearn.linear_model import LinearRegression, Ridge, Lasso, ElasticNet\n",
    "from sklearn.ensemble import RandomForestRegressor\n",
    "import xgboost as xgb\n",
    "from sklearn.metrics import mean_squared_error\n",
    "from sklearn.model_selection import RandomizedSearchCV, cross_val_score, GridSearchCV"
   ]
  },
  {
   "cell_type": "code",
   "execution_count": 2,
   "metadata": {},
   "outputs": [],
   "source": [
    "rand_state = 19"
   ]
  },
  {
   "cell_type": "markdown",
   "metadata": {},
   "source": [
    "Load train and test data"
   ]
  },
  {
   "cell_type": "code",
   "execution_count": 3,
   "metadata": {},
   "outputs": [],
   "source": [
    "hold_out = pd.read_csv('/Users/coleromanyk/Documents/GitHub/Capstone-2/Data/hold_out_data.csv')\n",
    "train_data = pd.read_csv('/Users/coleromanyk/Documents/GitHub/Capstone-2/Data/adasyn_data.csv')"
   ]
  },
  {
   "cell_type": "code",
   "execution_count": 4,
   "metadata": {},
   "outputs": [
    {
     "name": "stdout",
     "output_type": "stream",
     "text": [
      "<class 'pandas.core.frame.DataFrame'>\n",
      "RangeIndex: 300 entries, 0 to 299\n",
      "Data columns (total 13 columns):\n",
      " #   Column               Non-Null Count  Dtype  \n",
      "---  ------               --------------  -----  \n",
      " 0   year                 300 non-null    int64  \n",
      " 1   nitrogen             300 non-null    float64\n",
      " 2   phosphate            300 non-null    float64\n",
      " 3   potash               300 non-null    float64\n",
      " 4   precipitation        300 non-null    float64\n",
      " 5   average_temperature  300 non-null    float64\n",
      " 6   accumulated_gdd      300 non-null    float64\n",
      " 7   full_till_ratio      300 non-null    float64\n",
      " 8   cover_crop_ratio     300 non-null    float64\n",
      " 9   efficiency           300 non-null    float64\n",
      " 10  total_acres          300 non-null    float64\n",
      " 11  emissions            300 non-null    float64\n",
      " 12  yield                300 non-null    int64  \n",
      "dtypes: float64(11), int64(2)\n",
      "memory usage: 30.6 KB\n",
      "None\n"
     ]
    },
    {
     "data": {
      "text/html": [
       "<div>\n",
       "<style scoped>\n",
       "    .dataframe tbody tr th:only-of-type {\n",
       "        vertical-align: middle;\n",
       "    }\n",
       "\n",
       "    .dataframe tbody tr th {\n",
       "        vertical-align: top;\n",
       "    }\n",
       "\n",
       "    .dataframe thead th {\n",
       "        text-align: right;\n",
       "    }\n",
       "</style>\n",
       "<table border=\"1\" class=\"dataframe\">\n",
       "  <thead>\n",
       "    <tr style=\"text-align: right;\">\n",
       "      <th></th>\n",
       "      <th>year</th>\n",
       "      <th>nitrogen</th>\n",
       "      <th>phosphate</th>\n",
       "      <th>potash</th>\n",
       "      <th>precipitation</th>\n",
       "      <th>average_temperature</th>\n",
       "      <th>accumulated_gdd</th>\n",
       "      <th>full_till_ratio</th>\n",
       "      <th>cover_crop_ratio</th>\n",
       "      <th>efficiency</th>\n",
       "      <th>total_acres</th>\n",
       "      <th>emissions</th>\n",
       "      <th>yield</th>\n",
       "    </tr>\n",
       "  </thead>\n",
       "  <tbody>\n",
       "    <tr>\n",
       "      <th>0</th>\n",
       "      <td>2006</td>\n",
       "      <td>148.0</td>\n",
       "      <td>69.0</td>\n",
       "      <td>122.0</td>\n",
       "      <td>51.06</td>\n",
       "      <td>54.5</td>\n",
       "      <td>3132.0</td>\n",
       "      <td>0.383153</td>\n",
       "      <td>0.000000</td>\n",
       "      <td>56.919946</td>\n",
       "      <td>5380.0</td>\n",
       "      <td>2.758260</td>\n",
       "      <td>157</td>\n",
       "    </tr>\n",
       "    <tr>\n",
       "      <th>1</th>\n",
       "      <td>1996</td>\n",
       "      <td>138.0</td>\n",
       "      <td>64.0</td>\n",
       "      <td>110.0</td>\n",
       "      <td>56.85</td>\n",
       "      <td>51.3</td>\n",
       "      <td>2996.0</td>\n",
       "      <td>0.540806</td>\n",
       "      <td>0.000000</td>\n",
       "      <td>39.833918</td>\n",
       "      <td>5450.0</td>\n",
       "      <td>3.087821</td>\n",
       "      <td>123</td>\n",
       "    </tr>\n",
       "    <tr>\n",
       "      <th>2</th>\n",
       "      <td>1993</td>\n",
       "      <td>134.0</td>\n",
       "      <td>68.0</td>\n",
       "      <td>114.0</td>\n",
       "      <td>50.78</td>\n",
       "      <td>52.0</td>\n",
       "      <td>3079.0</td>\n",
       "      <td>0.491073</td>\n",
       "      <td>0.000000</td>\n",
       "      <td>46.144325</td>\n",
       "      <td>5400.0</td>\n",
       "      <td>2.860590</td>\n",
       "      <td>132</td>\n",
       "    </tr>\n",
       "    <tr>\n",
       "      <th>3</th>\n",
       "      <td>2011</td>\n",
       "      <td>157.0</td>\n",
       "      <td>74.0</td>\n",
       "      <td>126.0</td>\n",
       "      <td>49.65</td>\n",
       "      <td>55.1</td>\n",
       "      <td>3282.0</td>\n",
       "      <td>0.373826</td>\n",
       "      <td>0.016730</td>\n",
       "      <td>44.701618</td>\n",
       "      <td>5750.0</td>\n",
       "      <td>3.266101</td>\n",
       "      <td>146</td>\n",
       "    </tr>\n",
       "    <tr>\n",
       "      <th>4</th>\n",
       "      <td>2016</td>\n",
       "      <td>163.0</td>\n",
       "      <td>74.0</td>\n",
       "      <td>109.0</td>\n",
       "      <td>45.97</td>\n",
       "      <td>55.7</td>\n",
       "      <td>3428.0</td>\n",
       "      <td>0.352908</td>\n",
       "      <td>0.093405</td>\n",
       "      <td>60.241253</td>\n",
       "      <td>5470.0</td>\n",
       "      <td>2.871786</td>\n",
       "      <td>173</td>\n",
       "    </tr>\n",
       "  </tbody>\n",
       "</table>\n",
       "</div>"
      ],
      "text/plain": [
       "   year  nitrogen  phosphate  potash  precipitation  average_temperature  \\\n",
       "0  2006     148.0       69.0   122.0          51.06                 54.5   \n",
       "1  1996     138.0       64.0   110.0          56.85                 51.3   \n",
       "2  1993     134.0       68.0   114.0          50.78                 52.0   \n",
       "3  2011     157.0       74.0   126.0          49.65                 55.1   \n",
       "4  2016     163.0       74.0   109.0          45.97                 55.7   \n",
       "\n",
       "   accumulated_gdd  full_till_ratio  cover_crop_ratio  efficiency  \\\n",
       "0           3132.0         0.383153          0.000000   56.919946   \n",
       "1           2996.0         0.540806          0.000000   39.833918   \n",
       "2           3079.0         0.491073          0.000000   46.144325   \n",
       "3           3282.0         0.373826          0.016730   44.701618   \n",
       "4           3428.0         0.352908          0.093405   60.241253   \n",
       "\n",
       "   total_acres  emissions  yield  \n",
       "0       5380.0   2.758260    157  \n",
       "1       5450.0   3.087821    123  \n",
       "2       5400.0   2.860590    132  \n",
       "3       5750.0   3.266101    146  \n",
       "4       5470.0   2.871786    173  "
      ]
     },
     "execution_count": 4,
     "metadata": {},
     "output_type": "execute_result"
    }
   ],
   "source": [
    "print(train_data.info())\n",
    "train_data.head()"
   ]
  },
  {
   "cell_type": "code",
   "execution_count": 5,
   "metadata": {
    "scrolled": false
   },
   "outputs": [
    {
     "name": "stdout",
     "output_type": "stream",
     "text": [
      "<class 'pandas.core.frame.DataFrame'>\n",
      "RangeIndex: 6 entries, 0 to 5\n",
      "Data columns (total 13 columns):\n",
      " #   Column               Non-Null Count  Dtype  \n",
      "---  ------               --------------  -----  \n",
      " 0   year                 6 non-null      int64  \n",
      " 1   nitrogen             6 non-null      float64\n",
      " 2   phosphate            6 non-null      float64\n",
      " 3   potash               6 non-null      float64\n",
      " 4   precipitation        6 non-null      float64\n",
      " 5   average_temperature  6 non-null      float64\n",
      " 6   accumulated_gdd      6 non-null      float64\n",
      " 7   full_till_ratio      6 non-null      float64\n",
      " 8   cover_crop_ratio     6 non-null      float64\n",
      " 9   efficiency           6 non-null      float64\n",
      " 10  total_acres          6 non-null      float64\n",
      " 11  emissions            6 non-null      float64\n",
      " 12  yield                6 non-null      int64  \n",
      "dtypes: float64(11), int64(2)\n",
      "memory usage: 752.0 bytes\n",
      "None\n"
     ]
    },
    {
     "data": {
      "text/html": [
       "<div>\n",
       "<style scoped>\n",
       "    .dataframe tbody tr th:only-of-type {\n",
       "        vertical-align: middle;\n",
       "    }\n",
       "\n",
       "    .dataframe tbody tr th {\n",
       "        vertical-align: top;\n",
       "    }\n",
       "\n",
       "    .dataframe thead th {\n",
       "        text-align: right;\n",
       "    }\n",
       "</style>\n",
       "<table border=\"1\" class=\"dataframe\">\n",
       "  <thead>\n",
       "    <tr style=\"text-align: right;\">\n",
       "      <th></th>\n",
       "      <th>year</th>\n",
       "      <th>nitrogen</th>\n",
       "      <th>phosphate</th>\n",
       "      <th>potash</th>\n",
       "      <th>precipitation</th>\n",
       "      <th>average_temperature</th>\n",
       "      <th>accumulated_gdd</th>\n",
       "      <th>full_till_ratio</th>\n",
       "      <th>cover_crop_ratio</th>\n",
       "      <th>efficiency</th>\n",
       "      <th>total_acres</th>\n",
       "      <th>emissions</th>\n",
       "      <th>yield</th>\n",
       "    </tr>\n",
       "  </thead>\n",
       "  <tbody>\n",
       "    <tr>\n",
       "      <th>0</th>\n",
       "      <td>1991</td>\n",
       "      <td>135.0</td>\n",
       "      <td>78.0</td>\n",
       "      <td>112.0</td>\n",
       "      <td>37.56</td>\n",
       "      <td>54.8</td>\n",
       "      <td>3610.0</td>\n",
       "      <td>0.678371</td>\n",
       "      <td>0.0</td>\n",
       "      <td>26.224166</td>\n",
       "      <td>5550.0</td>\n",
       "      <td>3.508214</td>\n",
       "      <td>92</td>\n",
       "    </tr>\n",
       "    <tr>\n",
       "      <th>1</th>\n",
       "      <td>1990</td>\n",
       "      <td>139.0</td>\n",
       "      <td>75.0</td>\n",
       "      <td>111.0</td>\n",
       "      <td>50.44</td>\n",
       "      <td>54.4</td>\n",
       "      <td>3031.0</td>\n",
       "      <td>0.760834</td>\n",
       "      <td>0.0</td>\n",
       "      <td>39.011486</td>\n",
       "      <td>5450.0</td>\n",
       "      <td>3.306718</td>\n",
       "      <td>129</td>\n",
       "    </tr>\n",
       "    <tr>\n",
       "      <th>2</th>\n",
       "      <td>2004</td>\n",
       "      <td>146.0</td>\n",
       "      <td>68.0</td>\n",
       "      <td>119.0</td>\n",
       "      <td>48.88</td>\n",
       "      <td>53.5</td>\n",
       "      <td>3261.0</td>\n",
       "      <td>0.553835</td>\n",
       "      <td>0.0</td>\n",
       "      <td>58.430428</td>\n",
       "      <td>5530.0</td>\n",
       "      <td>2.875214</td>\n",
       "      <td>168</td>\n",
       "    </tr>\n",
       "    <tr>\n",
       "      <th>3</th>\n",
       "      <td>1999</td>\n",
       "      <td>154.0</td>\n",
       "      <td>56.0</td>\n",
       "      <td>116.0</td>\n",
       "      <td>32.40</td>\n",
       "      <td>54.5</td>\n",
       "      <td>3352.0</td>\n",
       "      <td>0.542710</td>\n",
       "      <td>0.0</td>\n",
       "      <td>39.506327</td>\n",
       "      <td>5670.0</td>\n",
       "      <td>3.341237</td>\n",
       "      <td>132</td>\n",
       "    </tr>\n",
       "    <tr>\n",
       "      <th>4</th>\n",
       "      <td>2009</td>\n",
       "      <td>148.0</td>\n",
       "      <td>73.0</td>\n",
       "      <td>127.0</td>\n",
       "      <td>48.68</td>\n",
       "      <td>53.1</td>\n",
       "      <td>2909.0</td>\n",
       "      <td>0.407985</td>\n",
       "      <td>0.0</td>\n",
       "      <td>62.054280</td>\n",
       "      <td>5460.0</td>\n",
       "      <td>2.755652</td>\n",
       "      <td>171</td>\n",
       "    </tr>\n",
       "    <tr>\n",
       "      <th>5</th>\n",
       "      <td>2007</td>\n",
       "      <td>149.0</td>\n",
       "      <td>69.0</td>\n",
       "      <td>124.0</td>\n",
       "      <td>36.75</td>\n",
       "      <td>55.0</td>\n",
       "      <td>3534.0</td>\n",
       "      <td>0.412197</td>\n",
       "      <td>0.0</td>\n",
       "      <td>45.733543</td>\n",
       "      <td>6370.0</td>\n",
       "      <td>3.367331</td>\n",
       "      <td>154</td>\n",
       "    </tr>\n",
       "  </tbody>\n",
       "</table>\n",
       "</div>"
      ],
      "text/plain": [
       "   year  nitrogen  phosphate  potash  precipitation  average_temperature  \\\n",
       "0  1991     135.0       78.0   112.0          37.56                 54.8   \n",
       "1  1990     139.0       75.0   111.0          50.44                 54.4   \n",
       "2  2004     146.0       68.0   119.0          48.88                 53.5   \n",
       "3  1999     154.0       56.0   116.0          32.40                 54.5   \n",
       "4  2009     148.0       73.0   127.0          48.68                 53.1   \n",
       "5  2007     149.0       69.0   124.0          36.75                 55.0   \n",
       "\n",
       "   accumulated_gdd  full_till_ratio  cover_crop_ratio  efficiency  \\\n",
       "0           3610.0         0.678371               0.0   26.224166   \n",
       "1           3031.0         0.760834               0.0   39.011486   \n",
       "2           3261.0         0.553835               0.0   58.430428   \n",
       "3           3352.0         0.542710               0.0   39.506327   \n",
       "4           2909.0         0.407985               0.0   62.054280   \n",
       "5           3534.0         0.412197               0.0   45.733543   \n",
       "\n",
       "   total_acres  emissions  yield  \n",
       "0       5550.0   3.508214     92  \n",
       "1       5450.0   3.306718    129  \n",
       "2       5530.0   2.875214    168  \n",
       "3       5670.0   3.341237    132  \n",
       "4       5460.0   2.755652    171  \n",
       "5       6370.0   3.367331    154  "
      ]
     },
     "execution_count": 5,
     "metadata": {},
     "output_type": "execute_result"
    }
   ],
   "source": [
    "print(hold_out.info())\n",
    "hold_out.head(6)"
   ]
  },
  {
   "cell_type": "markdown",
   "metadata": {},
   "source": [
    "Drop components features of efficiency"
   ]
  },
  {
   "cell_type": "code",
   "execution_count": 6,
   "metadata": {},
   "outputs": [],
   "source": [
    "X_train = train_data.drop(['emissions', 'efficiency', 'yield'], axis=1)\n",
    "y_train = train_data['efficiency']"
   ]
  },
  {
   "cell_type": "code",
   "execution_count": 7,
   "metadata": {},
   "outputs": [],
   "source": [
    "X_test = hold_out.drop(['emissions', 'efficiency', 'yield'], axis=1)\n",
    "y_test = hold_out['efficiency']"
   ]
  },
  {
   "cell_type": "markdown",
   "metadata": {},
   "source": [
    "Define XGBoost parameters"
   ]
  },
  {
   "cell_type": "code",
   "execution_count": 8,
   "metadata": {},
   "outputs": [],
   "source": [
    "xgb_params = {\"objective\":\"reg:squarederror\"}"
   ]
  },
  {
   "cell_type": "markdown",
   "metadata": {},
   "source": [
    "Define models for comparison"
   ]
  },
  {
   "cell_type": "code",
   "execution_count": 9,
   "metadata": {},
   "outputs": [],
   "source": [
    "ridge = Ridge()\n",
    "lasso = Lasso()\n",
    "net = ElasticNet()\n",
    "rf = RandomForestRegressor()\n",
    "xg = xgb.XGBRegressor(objective='reg:squarederror')"
   ]
  },
  {
   "cell_type": "markdown",
   "metadata": {},
   "source": [
    "Define scaler varible and scaler parameter for pipelines"
   ]
  },
  {
   "cell_type": "code",
   "execution_count": 10,
   "metadata": {},
   "outputs": [],
   "source": [
    "scaler = StandardScaler()\n",
    "scaler_param = ('Scale', scaler)"
   ]
  },
  {
   "cell_type": "markdown",
   "metadata": {},
   "source": [
    "Create and run model pipelines, printing the score to compare RMSE and R^2 returned by each model on the training data."
   ]
  },
  {
   "cell_type": "code",
   "execution_count": 11,
   "metadata": {},
   "outputs": [],
   "source": [
    "ridge_pipe = Pipeline([scaler_param, ('Ridge', ridge)])\n",
    "lasso_pipe = Pipeline([scaler_param, ('Lasso', lasso)])\n",
    "net_pipe = Pipeline([scaler_param, ('Elastic Net', net)])\n",
    "rf_pipe = Pipeline([scaler_param, ('Random Forrest', rf)])\n",
    "xgb_pipe = Pipeline([scaler_param, ('XGB Regressor', xg)])"
   ]
  },
  {
   "cell_type": "code",
   "execution_count": 12,
   "metadata": {
    "scrolled": false
   },
   "outputs": [
    {
     "name": "stdout",
     "output_type": "stream",
     "text": [
      "Ridge RMSE: 5.613022552707321\n",
      "Lasso RMSE: 6.125839911848674\n",
      "ElasticNet RMSE: 6.263827333660816\n",
      "RandomForestRegressor RMSE: 0.08151340572821283\n",
      "XGBRegressor RMSE: 0.09639407472494446\n"
     ]
    }
   ],
   "source": [
    "pipes = [ridge_pipe, lasso_pipe, net_pipe, rf_pipe, xgb_pipe]\n",
    "for pipe in pipes:\n",
    "    cv_score = cross_val_score(pipe, X_train, y_train,\\\n",
    "                               scoring='neg_root_mean_squared_error', cv=5)\n",
    "    name = str(pipe[1])\n",
    "    score = (str(name.split('(')[0])+' RMSE: '+ str(np.mean(np.abs(cv_score))))\n",
    "    print(score)"
   ]
  },
  {
   "cell_type": "code",
   "execution_count": 13,
   "metadata": {},
   "outputs": [
    {
     "name": "stdout",
     "output_type": "stream",
     "text": [
      "Ridge R2: 0.5814075700418349\n",
      "Lasso R2: 0.5083873982662285\n",
      "ElasticNet R2: 0.4855437113675719\n",
      "RandomForestRegressor R2: 0.9994796183981425\n",
      "XGBRegressor R2: 0.9993067488287771\n"
     ]
    }
   ],
   "source": [
    "base_scores = []\n",
    "for pipe in pipes:\n",
    "    cv_score = cross_val_score(pipe, X_train, y_train, scoring='r2', cv=5)\n",
    "    name = str(pipe[1])\n",
    "    score = (str(name.split('(')[0])+' R2: '+ str(np.mean(cv_score)))\n",
    "    base_scores.append([str(name.split('(')[0]), np.mean(cv_score)])\n",
    "    print(score)"
   ]
  },
  {
   "cell_type": "code",
   "execution_count": 14,
   "metadata": {
    "scrolled": false
   },
   "outputs": [
    {
     "name": "stdout",
     "output_type": "stream",
     "text": [
      "Ridge Prediction R2: 0.756900227232325\n",
      "RMSE: 6.005601724971391\n"
     ]
    },
    {
     "name": "stderr",
     "output_type": "stream",
     "text": [
      "/opt/anaconda3/lib/python3.8/site-packages/seaborn/_decorators.py:36: FutureWarning: Pass the following variables as keyword args: x, y. From version 0.12, the only valid positional argument will be `data`, and passing other arguments without an explicit keyword will result in an error or misinterpretation.\n",
      "  warnings.warn(\n"
     ]
    },
    {
     "data": {
      "image/png": "[encoded data removed]",
      "text/plain": [
       "<Figure size 432x288 with 1 Axes>"
      ]
     },
     "metadata": {
      "needs_background": "light"
     },
     "output_type": "display_data"
    },
    {
     "name": "stderr",
     "output_type": "stream",
     "text": [
      "/opt/anaconda3/lib/python3.8/site-packages/seaborn/_decorators.py:36: FutureWarning: Pass the following variables as keyword args: x, y. From version 0.12, the only valid positional argument will be `data`, and passing other arguments without an explicit keyword will result in an error or misinterpretation.\n",
      "  warnings.warn(\n"
     ]
    },
    {
     "name": "stdout",
     "output_type": "stream",
     "text": [
      "Lasso Prediction R2: 0.4761688920864533\n",
      "RMSE: 8.815762750603822\n"
     ]
    },
    {
     "data": {
      "image/png": "[encoded data removed]",
      "text/plain": [
       "<Figure size 432x288 with 1 Axes>"
      ]
     },
     "metadata": {
      "needs_background": "light"
     },
     "output_type": "display_data"
    },
    {
     "name": "stderr",
     "output_type": "stream",
     "text": [
      "/opt/anaconda3/lib/python3.8/site-packages/seaborn/_decorators.py:36: FutureWarning: Pass the following variables as keyword args: x, y. From version 0.12, the only valid positional argument will be `data`, and passing other arguments without an explicit keyword will result in an error or misinterpretation.\n",
      "  warnings.warn(\n"
     ]
    },
    {
     "name": "stdout",
     "output_type": "stream",
     "text": [
      "ElasticNet Prediction R2: 0.4478266415954584\n",
      "RMSE: 9.051112761574128\n"
     ]
    },
    {
     "data": {
      "image/png": "[encoded data removed]",
      "text/plain": [
       "<Figure size 432x288 with 1 Axes>"
      ]
     },
     "metadata": {
      "needs_background": "light"
     },
     "output_type": "display_data"
    },
    {
     "name": "stdout",
     "output_type": "stream",
     "text": [
      "RandomForestRegressor Prediction R2: 0.3926454777698044\n",
      "RMSE: 9.492604480361925\n"
     ]
    },
    {
     "name": "stderr",
     "output_type": "stream",
     "text": [
      "/opt/anaconda3/lib/python3.8/site-packages/seaborn/_decorators.py:36: FutureWarning: Pass the following variables as keyword args: x, y. From version 0.12, the only valid positional argument will be `data`, and passing other arguments without an explicit keyword will result in an error or misinterpretation.\n",
      "  warnings.warn(\n"
     ]
    },
    {
     "data": {
      "image/png": "[encoded data removed]",
      "text/plain": [
       "<Figure size 432x288 with 1 Axes>"
      ]
     },
     "metadata": {
      "needs_background": "light"
     },
     "output_type": "display_data"
    },
    {
     "name": "stderr",
     "output_type": "stream",
     "text": [
      "/opt/anaconda3/lib/python3.8/site-packages/seaborn/_decorators.py:36: FutureWarning: Pass the following variables as keyword args: x, y. From version 0.12, the only valid positional argument will be `data`, and passing other arguments without an explicit keyword will result in an error or misinterpretation.\n",
      "  warnings.warn(\n"
     ]
    },
    {
     "name": "stdout",
     "output_type": "stream",
     "text": [
      "XGBRegressor Prediction R2: 0.5452972683126371\n",
      "RMSE: 8.213495675174318\n"
     ]
    },
    {
     "data": {
      "image/png": "[encoded data removed]",
      "text/plain": [
       "<Figure size 432x288 with 1 Axes>"
      ]
     },
     "metadata": {
      "needs_background": "light"
     },
     "output_type": "display_data"
    }
   ],
   "source": [
    "for pipe in pipes:\n",
    "    model = pipe.fit(X_train, y_train)\n",
    "    pipe_preds = model.predict(X_test)\n",
    "    name = str(pipe[1])\n",
    "    sns.scatterplot(y_test, pipe_preds)\n",
    "    plt.xlabel('True')\n",
    "    plt.ylabel('Prediction')\n",
    "    print(str(name.split('(')[0])+' Prediction R2: '+\\\n",
    "          str(sklearn.metrics.r2_score(y_test, pipe_preds))+\\\n",
    "          '\\nRMSE: '+ str(sklearn.metrics.mean_squared_error\\\n",
    "                          (y_test, pipe_preds, squared=False)))\n",
    "    plt.show()"
   ]
  },
  {
   "cell_type": "markdown",
   "metadata": {},
   "source": [
    "XGBoost appears to yield the highest explainatory power on the training data, and baseline on the test data it returns the closest R2 to 0."
   ]
  },
  {
   "cell_type": "markdown",
   "metadata": {},
   "source": [
    "Perform Grid and Randomized Search Params for XG Boost"
   ]
  },
  {
   "cell_type": "code",
   "execution_count": 15,
   "metadata": {
    "scrolled": false
   },
   "outputs": [],
   "source": [
    "X_scaled = scaler.fit_transform(X_train)\n",
    "y_scaled = scaler.fit_transform(np.array(y_train).reshape(-1, 1))"
   ]
  },
  {
   "cell_type": "code",
   "execution_count": 16,
   "metadata": {
    "scrolled": true
   },
   "outputs": [
    {
     "name": "stdout",
     "output_type": "stream",
     "text": [
      "RMSE: 0.013371044643390418\n"
     ]
    }
   ],
   "source": [
    "cv_score = cross_val_score(xgb.XGBRegressor(objective=\"reg:squarederror\"),\\\n",
    "                           X_scaled, y_scaled, scoring='neg_mean_squared_error', cv=5)\n",
    "print('RMSE: ' + str(np.mean(np.sqrt(np.abs(cv_score)))))"
   ]
  },
  {
   "cell_type": "code",
   "execution_count": 17,
   "metadata": {},
   "outputs": [
    {
     "name": "stdout",
     "output_type": "stream",
     "text": [
      "R2: 0.9993067488287771\n"
     ]
    }
   ],
   "source": [
    "cv_score = cross_val_score(xgb.XGBRegressor(objective=\"reg:squarederror\"),\\\n",
    "                           X_scaled, y_train, scoring='r2', cv=5)\n",
    "print('R2: ' + str(np.mean(cv_score)))"
   ]
  },
  {
   "cell_type": "markdown",
   "metadata": {},
   "source": [
    "Random Search"
   ]
  },
  {
   "cell_type": "code",
   "execution_count": 18,
   "metadata": {},
   "outputs": [],
   "source": [
    "#params subsample removed \n",
    "params = params = {'n_estimators':range(15,51,2), 'max_depth':range(3,8),\\\n",
    "                   'learning_rate':[ .1, .3, .5, .7], 'colsample_bytree':[.7, .8, .9],\\\n",
    "                   'reg_lambda':[.001, .01, 1]}"
   ]
  },
  {
   "cell_type": "code",
   "execution_count": 19,
   "metadata": {},
   "outputs": [],
   "source": [
    "randomized = RandomizedSearchCV(estimator=xgb.XGBRegressor(objective=\"reg:squarederror\"),\\\n",
    "                                param_distributions=params, scoring='r2', n_iter=400,\\\n",
    "                                cv=5, verbose=1)"
   ]
  },
  {
   "cell_type": "code",
   "execution_count": 20,
   "metadata": {
    "scrolled": false
   },
   "outputs": [
    {
     "name": "stdout",
     "output_type": "stream",
     "text": [
      "Fitting 5 folds for each of 400 candidates, totalling 2000 fits\n"
     ]
    },
    {
     "data": {
      "text/plain": [
       "RandomizedSearchCV(cv=5,\n",
       "                   estimator=XGBRegressor(base_score=None, booster=None,\n",
       "                                          colsample_bylevel=None,\n",
       "                                          colsample_bynode=None,\n",
       "                                          colsample_bytree=None, gamma=None,\n",
       "                                          gpu_id=None, importance_type='gain',\n",
       "                                          interaction_constraints=None,\n",
       "                                          learning_rate=None,\n",
       "                                          max_delta_step=None, max_depth=None,\n",
       "                                          min_child_weight=None, missing=nan,\n",
       "                                          monotone_constraints=None,\n",
       "                                          n_estimators=100, n...\n",
       "                                          num_parallel_tree=None,\n",
       "                                          random_state=None, reg_alpha=None,\n",
       "                                          reg_lambda=None,\n",
       "                                          scale_pos_weight=None, subsample=None,\n",
       "                                          tree_method=None,\n",
       "                                          validate_parameters=None,\n",
       "                                          verbosity=None),\n",
       "                   n_iter=400,\n",
       "                   param_distributions={'colsample_bytree': [0.7, 0.8, 0.9],\n",
       "                                        'learning_rate': [0.1, 0.3, 0.5, 0.7],\n",
       "                                        'max_depth': range(3, 8),\n",
       "                                        'n_estimators': range(15, 51, 2),\n",
       "                                        'reg_lambda': [0.001, 0.01, 1]},\n",
       "                   scoring='r2', verbose=1)"
      ]
     },
     "execution_count": 20,
     "metadata": {},
     "output_type": "execute_result"
    }
   ],
   "source": [
    "randomized.fit(X_train, y_train)"
   ]
  },
  {
   "cell_type": "code",
   "execution_count": 21,
   "metadata": {
    "scrolled": true
   },
   "outputs": [
    {
     "name": "stdout",
     "output_type": "stream",
     "text": [
      "Best Random parameters found:  {'reg_lambda': 0.001, 'n_estimators': 21, 'max_depth': 7, 'learning_rate': 0.5, 'colsample_bytree': 0.8}\n",
      "Lowest Random RMSE found:  0.9999995805940198\n"
     ]
    }
   ],
   "source": [
    "print(\"Best Random parameters found: \", randomized.best_params_)\n",
    "print(\"Lowest Random RMSE found: \", randomized.best_score_)"
   ]
  },
  {
   "cell_type": "code",
   "execution_count": 22,
   "metadata": {},
   "outputs": [],
   "source": [
    "rand_predictions = randomized.predict(X_test)"
   ]
  },
  {
   "cell_type": "code",
   "execution_count": 23,
   "metadata": {},
   "outputs": [
    {
     "data": {
      "text/plain": [
       "0.3630376967171993"
      ]
     },
     "execution_count": 23,
     "metadata": {},
     "output_type": "execute_result"
    }
   ],
   "source": [
    "sklearn.metrics.explained_variance_score(y_test, rand_predictions)"
   ]
  },
  {
   "cell_type": "code",
   "execution_count": 24,
   "metadata": {},
   "outputs": [
    {
     "data": {
      "text/plain": [
       "0.00011722123038270968"
      ]
     },
     "execution_count": 24,
     "metadata": {},
     "output_type": "execute_result"
    }
   ],
   "source": [
    "train_rand = randomized.predict(X_train)\n",
    "sklearn.metrics.mean_squared_error(y_train, train_rand, squared=False)"
   ]
  },
  {
   "cell_type": "code",
   "execution_count": 25,
   "metadata": {},
   "outputs": [
    {
     "data": {
      "text/plain": [
       "0.362865116885174"
      ]
     },
     "execution_count": 25,
     "metadata": {},
     "output_type": "execute_result"
    }
   ],
   "source": [
    "sklearn.metrics.r2_score(y_test, rand_predictions)"
   ]
  },
  {
   "cell_type": "code",
   "execution_count": 26,
   "metadata": {
    "scrolled": false
   },
   "outputs": [
    {
     "name": "stdout",
     "output_type": "stream",
     "text": [
      "XGBRegressor Prediction R2: 0.362865116885174\n"
     ]
    },
    {
     "name": "stderr",
     "output_type": "stream",
     "text": [
      "/opt/anaconda3/lib/python3.8/site-packages/seaborn/_decorators.py:36: FutureWarning: Pass the following variables as keyword args: x, y. From version 0.12, the only valid positional argument will be `data`, and passing other arguments without an explicit keyword will result in an error or misinterpretation.\n",
      "  warnings.warn(\n"
     ]
    },
    {
     "data": {
      "image/png": "[encoded data removed]",
      "text/plain": [
       "<Figure size 432x288 with 1 Axes>"
      ]
     },
     "metadata": {
      "needs_background": "light"
     },
     "output_type": "display_data"
    }
   ],
   "source": [
    "sns.scatterplot(y_test, rand_predictions)\n",
    "plt.xlabel('True')\n",
    "plt.ylabel('Prediction')\n",
    "print(str(name.split('(')[0])+' Prediction R2: '+ \\\n",
    "      str(sklearn.metrics.r2_score(y_test, rand_predictions)))\n",
    "plt.show()"
   ]
  },
  {
   "cell_type": "code",
   "execution_count": 27,
   "metadata": {
    "scrolled": true
   },
   "outputs": [
    {
     "name": "stdout",
     "output_type": "stream",
     "text": [
      "Test value: 26.22416646672165 Predicted value: 41.175236\n",
      "Test value: 39.01148643319613 Predicted value: 44.558533\n",
      "Test value: 58.43042847478384 Predicted value: 48.192226\n",
      "Test value: 39.50632737678978 Predicted value: 42.289143\n",
      "Test value: 62.05427971311327 Predicted value: 48.034767\n",
      "Test value: 45.73354328632951 Predicted value: 47.670414\n"
     ]
    }
   ],
   "source": [
    "for i,j in zip(rand_predictions, y_test):\n",
    "    print('Test value: ' + str(j), 'Predicted value: ' + str(i))"
   ]
  },
  {
   "cell_type": "markdown",
   "metadata": {},
   "source": [
    "Use RandomSearch.best_params_ to establish narrower ranges for GridSearch"
   ]
  },
  {
   "cell_type": "code",
   "execution_count": 28,
   "metadata": {
    "scrolled": true
   },
   "outputs": [
    {
     "data": {
      "text/plain": [
       "{'reg_lambda': 0.001,\n",
       " 'n_estimators': 21,\n",
       " 'max_depth': 7,\n",
       " 'learning_rate': 0.5,\n",
       " 'colsample_bytree': 0.8}"
      ]
     },
     "execution_count": 28,
     "metadata": {},
     "output_type": "execute_result"
    }
   ],
   "source": [
    "randomized.best_params_"
   ]
  },
  {
   "cell_type": "code",
   "execution_count": 29,
   "metadata": {},
   "outputs": [],
   "source": [
    "grid_params = {'n_estimators':range(15,41,2), 'max_depth':range(2,6),\\\n",
    "                   'learning_rate':[.5, .7, .8], 'colsample_bytree':[.9],\\\n",
    "                   'reg_lambda':[.01, 1]}"
   ]
  },
  {
   "cell_type": "code",
   "execution_count": 30,
   "metadata": {
    "scrolled": true
   },
   "outputs": [],
   "source": [
    "grid = GridSearchCV(estimator=xgb.XGBRegressor(objective=\"reg:squarederror\"),\\\n",
    "                        param_grid=grid_params, scoring='r2', cv=5, verbose=1)"
   ]
  },
  {
   "cell_type": "code",
   "execution_count": 31,
   "metadata": {
    "scrolled": true
   },
   "outputs": [
    {
     "name": "stdout",
     "output_type": "stream",
     "text": [
      "Fitting 5 folds for each of 312 candidates, totalling 1560 fits\n"
     ]
    },
    {
     "data": {
      "text/plain": [
       "GridSearchCV(cv=5,\n",
       "             estimator=XGBRegressor(base_score=None, booster=None,\n",
       "                                    colsample_bylevel=None,\n",
       "                                    colsample_bynode=None,\n",
       "                                    colsample_bytree=None, gamma=None,\n",
       "                                    gpu_id=None, importance_type='gain',\n",
       "                                    interaction_constraints=None,\n",
       "                                    learning_rate=None, max_delta_step=None,\n",
       "                                    max_depth=None, min_child_weight=None,\n",
       "                                    missing=nan, monotone_constraints=None,\n",
       "                                    n_estimators=100, n_jobs=None,\n",
       "                                    num_parallel_tree=None, random_state=None,\n",
       "                                    reg_alpha=None, reg_lambda=None,\n",
       "                                    scale_pos_weight=None, subsample=None,\n",
       "                                    tree_method=None, validate_parameters=None,\n",
       "                                    verbosity=None),\n",
       "             param_grid={'colsample_bytree': [0.9],\n",
       "                         'learning_rate': [0.5, 0.7, 0.8],\n",
       "                         'max_depth': range(2, 6),\n",
       "                         'n_estimators': range(15, 41, 2),\n",
       "                         'reg_lambda': [0.01, 1]},\n",
       "             scoring='r2', verbose=1)"
      ]
     },
     "execution_count": 31,
     "metadata": {},
     "output_type": "execute_result"
    }
   ],
   "source": [
    "grid.fit(X_train, y_train)"
   ]
  },
  {
   "cell_type": "code",
   "execution_count": 32,
   "metadata": {
    "scrolled": true
   },
   "outputs": [
    {
     "name": "stdout",
     "output_type": "stream",
     "text": [
      "Best Grid parameters found:  {'colsample_bytree': 0.9, 'learning_rate': 0.7, 'max_depth': 2, 'n_estimators': 39, 'reg_lambda': 0.01}\n",
      "Lowest Grid R2 found:  0.9999506672773197\n"
     ]
    }
   ],
   "source": [
    "print(\"Best Grid parameters found: \", grid.best_params_)\n",
    "print(\"Lowest Grid R2 found: \", grid.best_score_)"
   ]
  },
  {
   "cell_type": "code",
   "execution_count": 33,
   "metadata": {},
   "outputs": [],
   "source": [
    "predictions = grid.predict(X_test)"
   ]
  },
  {
   "cell_type": "code",
   "execution_count": 34,
   "metadata": {
    "scrolled": true
   },
   "outputs": [
    {
     "data": {
      "text/plain": [
       "8.297510510942312"
      ]
     },
     "execution_count": 34,
     "metadata": {},
     "output_type": "execute_result"
    }
   ],
   "source": [
    "sklearn.metrics.mean_squared_error(y_test, predictions, squared=False)"
   ]
  },
  {
   "cell_type": "code",
   "execution_count": 35,
   "metadata": {},
   "outputs": [
    {
     "data": {
      "text/plain": [
       "0.007419624946434525"
      ]
     },
     "execution_count": 35,
     "metadata": {},
     "output_type": "execute_result"
    }
   ],
   "source": [
    "train_preds = grid.predict(X_train)\n",
    "sklearn.metrics.mean_squared_error(y_train, train_preds, squared=False)"
   ]
  },
  {
   "cell_type": "code",
   "execution_count": 36,
   "metadata": {},
   "outputs": [
    {
     "data": {
      "text/plain": [
       "0.5583763152679819"
      ]
     },
     "execution_count": 36,
     "metadata": {},
     "output_type": "execute_result"
    }
   ],
   "source": [
    "sklearn.metrics.explained_variance_score(y_test, predictions)"
   ]
  },
  {
   "cell_type": "code",
   "execution_count": 37,
   "metadata": {
    "scrolled": true
   },
   "outputs": [
    {
     "data": {
      "text/plain": [
       "0.5359474963100399"
      ]
     },
     "execution_count": 37,
     "metadata": {},
     "output_type": "execute_result"
    }
   ],
   "source": [
    "sklearn.metrics.r2_score(y_test, predictions)"
   ]
  },
  {
   "cell_type": "code",
   "execution_count": 38,
   "metadata": {
    "scrolled": false
   },
   "outputs": [
    {
     "name": "stdout",
     "output_type": "stream",
     "text": [
      "Test value: 26.22416646672165 Predicted value: 31.412066\n",
      "Test value: 39.01148643319613 Predicted value: 47.524715\n",
      "Test value: 58.43042847478384 Predicted value: 48.646866\n",
      "Test value: 39.50632737678978 Predicted value: 41.204037\n",
      "Test value: 62.05427971311327 Predicted value: 47.529915\n",
      "Test value: 45.73354328632951 Predicted value: 43.69756\n"
     ]
    }
   ],
   "source": [
    "for i,j in zip(predictions, y_test):\n",
    "    print('Test value: ' + str(j), 'Predicted value: ' + str(i))"
   ]
  },
  {
   "cell_type": "code",
   "execution_count": 39,
   "metadata": {},
   "outputs": [
    {
     "name": "stdout",
     "output_type": "stream",
     "text": [
      "XGBRegressor Prediction R2: 0.5359474963100399\n"
     ]
    },
    {
     "name": "stderr",
     "output_type": "stream",
     "text": [
      "/opt/anaconda3/lib/python3.8/site-packages/seaborn/_decorators.py:36: FutureWarning: Pass the following variables as keyword args: x, y. From version 0.12, the only valid positional argument will be `data`, and passing other arguments without an explicit keyword will result in an error or misinterpretation.\n",
      "  warnings.warn(\n"
     ]
    },
    {
     "data": {
      "image/png": "[encoded data removed]",
      "text/plain": [
       "<Figure size 432x288 with 1 Axes>"
      ]
     },
     "metadata": {
      "needs_background": "light"
     },
     "output_type": "display_data"
    }
   ],
   "source": [
    "sns.scatterplot(y_test, predictions)\n",
    "plt.xlabel('True')\n",
    "plt.ylabel('Prediction')\n",
    "print(str(name.split('(')[0])+' Prediction R2: '+ str(sklearn.metrics.r2_score(y_test, predictions)))\n",
    "plt.show()"
   ]
  },
  {
   "cell_type": "markdown",
   "metadata": {},
   "source": [
    "Outlier data"
   ]
  },
  {
   "cell_type": "code",
   "execution_count": 40,
   "metadata": {},
   "outputs": [],
   "source": [
    "outlier_ratio = pd.read_csv('/Users/coleromanyk/Documents/GitHub/Capstone-2/Data/outlier_data.csv')\n",
    "outlier_ho = pd.read_csv('/Users/coleromanyk/Documents/GitHub/Capstone-2/Data/outlier_ho.csv')"
   ]
  },
  {
   "cell_type": "code",
   "execution_count": 41,
   "metadata": {},
   "outputs": [],
   "source": [
    "outlier_X = outlier_ratio.drop(['efficiency', 'cover_crop_dummy', 'emissions', 'yield'], axis=1)\n",
    "outlier_y = outlier_ratio['efficiency']\n",
    "ho_X = outlier_ho.drop(['efficiency', 'emissions', 'yield'], axis=1)\n",
    "ho_y = outlier_ho['efficiency']"
   ]
  },
  {
   "cell_type": "code",
   "execution_count": 43,
   "metadata": {},
   "outputs": [
    {
     "name": "stdout",
     "output_type": "stream",
     "text": [
      "Ridge R2: 0.6585582954013218\n",
      "RMSE: 4.286072595151014\n",
      "Lasso R2: 0.5530231682759545\n",
      "RMSE: 4.906565668327849\n",
      "ElasticNet R2: 0.5081916336905217\n",
      "RMSE: 5.14015099523066\n",
      "RandomForestRegressor R2: 0.9967181006206101\n",
      "RMSE: 0.27465003863792076\n",
      "XGBRegressor R2: 0.9998298637513171\n",
      "RMSE: 0.044025931993099274\n"
     ]
    }
   ],
   "source": [
    "outlier_scores = []\n",
    "for pipe in pipes:\n",
    "    cv_score_r2 = cross_val_score(pipe, outlier_X, outlier_y, scoring='r2', cv=5)\n",
    "    cv_score_rmse = cross_val_score(pipe, outlier_X, outlier_y,\\\n",
    "                                    scoring='neg_root_mean_squared_error', cv=5)\n",
    "    name = str(pipe[1])\n",
    "    score = (str(name.split('(')[0])+' R2: '+ str(np.mean(cv_score_r2))+\\\n",
    "             '\\nRMSE: '+str(np.mean(abs(cv_score_rmse))))\n",
    "    outlier_scores.append([str(name.split('(')[0]), np.mean(cv_score_r2)])\n",
    "    print(score)"
   ]
  },
  {
   "cell_type": "markdown",
   "metadata": {},
   "source": [
    "Comparison of base model predictions vs outlierless model predictions, tree based learners do not perform as well in the absence of the outlier data."
   ]
  },
  {
   "cell_type": "code",
   "execution_count": 44,
   "metadata": {
    "scrolled": false
   },
   "outputs": [
    {
     "name": "stdout",
     "output_type": "stream",
     "text": [
      "Ridge \n",
      "Base score:  0.5814075700418349 \n",
      "Outlierless score:  0.6585582954013218 \n",
      "Base > outlierless:  False \n",
      "\n",
      "Lasso \n",
      "Base score:  0.5083873982662285 \n",
      "Outlierless score:  0.5530231682759545 \n",
      "Base > outlierless:  False \n",
      "\n",
      "ElasticNet \n",
      "Base score:  0.4855437113675719 \n",
      "Outlierless score:  0.5081916336905217 \n",
      "Base > outlierless:  False \n",
      "\n",
      "RandomForestRegressor \n",
      "Base score:  0.9994796183981425 \n",
      "Outlierless score:  0.9967181006206101 \n",
      "Base > outlierless:  True \n",
      "\n",
      "XGBRegressor \n",
      "Base score:  0.9993067488287771 \n",
      "Outlierless score:  0.9998298637513171 \n",
      "Base > outlierless:  False \n",
      "\n"
     ]
    }
   ],
   "source": [
    "for base, outlier in zip(base_scores, outlier_scores):\n",
    "    print(base[0], '\\nBase score: ', str(base[1]), '\\nOutlierless score: ', str(outlier[1]), '\\nBase > outlierless: ', base[1]>=outlier[1], '\\n')"
   ]
  },
  {
   "cell_type": "markdown",
   "metadata": {},
   "source": [
    "Ridge regression outperforms most other models in prediction R2, when using outlierless training data. This suggests that it may be a potential alternative to the XGBoost regressor"
   ]
  },
  {
   "cell_type": "code",
   "execution_count": 45,
   "metadata": {
    "scrolled": false
   },
   "outputs": [
    {
     "name": "stdout",
     "output_type": "stream",
     "text": [
      "Ridge Prediction R2: 0.7831924936438026\n",
      "RMSE: 4.465657231313245\n"
     ]
    },
    {
     "name": "stderr",
     "output_type": "stream",
     "text": [
      "/opt/anaconda3/lib/python3.8/site-packages/seaborn/_decorators.py:36: FutureWarning: Pass the following variables as keyword args: x, y. From version 0.12, the only valid positional argument will be `data`, and passing other arguments without an explicit keyword will result in an error or misinterpretation.\n",
      "  warnings.warn(\n"
     ]
    },
    {
     "data": {
      "image/png": "[encoded data removed]",
      "text/plain": [
       "<Figure size 432x288 with 1 Axes>"
      ]
     },
     "metadata": {
      "needs_background": "light"
     },
     "output_type": "display_data"
    },
    {
     "name": "stderr",
     "output_type": "stream",
     "text": [
      "/opt/anaconda3/lib/python3.8/site-packages/seaborn/_decorators.py:36: FutureWarning: Pass the following variables as keyword args: x, y. From version 0.12, the only valid positional argument will be `data`, and passing other arguments without an explicit keyword will result in an error or misinterpretation.\n",
      "  warnings.warn(\n"
     ]
    },
    {
     "name": "stdout",
     "output_type": "stream",
     "text": [
      "Lasso Prediction R2: 0.5163599412017814\n",
      "RMSE: 6.669747002236436\n"
     ]
    },
    {
     "data": {
      "image/png": "[encoded data removed]",
      "text/plain": [
       "<Figure size 432x288 with 1 Axes>"
      ]
     },
     "metadata": {
      "needs_background": "light"
     },
     "output_type": "display_data"
    },
    {
     "name": "stdout",
     "output_type": "stream",
     "text": [
      "ElasticNet Prediction R2: 0.3765272914011991\n",
      "RMSE: 7.572808101639149\n"
     ]
    },
    {
     "name": "stderr",
     "output_type": "stream",
     "text": [
      "/opt/anaconda3/lib/python3.8/site-packages/seaborn/_decorators.py:36: FutureWarning: Pass the following variables as keyword args: x, y. From version 0.12, the only valid positional argument will be `data`, and passing other arguments without an explicit keyword will result in an error or misinterpretation.\n",
      "  warnings.warn(\n"
     ]
    },
    {
     "data": {
      "image/png": "[encoded data removed]",
      "text/plain": [
       "<Figure size 432x288 with 1 Axes>"
      ]
     },
     "metadata": {
      "needs_background": "light"
     },
     "output_type": "display_data"
    },
    {
     "name": "stderr",
     "output_type": "stream",
     "text": [
      "/opt/anaconda3/lib/python3.8/site-packages/seaborn/_decorators.py:36: FutureWarning: Pass the following variables as keyword args: x, y. From version 0.12, the only valid positional argument will be `data`, and passing other arguments without an explicit keyword will result in an error or misinterpretation.\n",
      "  warnings.warn(\n"
     ]
    },
    {
     "name": "stdout",
     "output_type": "stream",
     "text": [
      "RandomForestRegressor Prediction R2: 0.6877311120096314\n",
      "RMSE: 5.359355750934559\n"
     ]
    },
    {
     "data": {
      "image/png": "[encoded data removed]",
      "text/plain": [
       "<Figure size 432x288 with 1 Axes>"
      ]
     },
     "metadata": {
      "needs_background": "light"
     },
     "output_type": "display_data"
    },
    {
     "name": "stderr",
     "output_type": "stream",
     "text": [
      "/opt/anaconda3/lib/python3.8/site-packages/seaborn/_decorators.py:36: FutureWarning: Pass the following variables as keyword args: x, y. From version 0.12, the only valid positional argument will be `data`, and passing other arguments without an explicit keyword will result in an error or misinterpretation.\n",
      "  warnings.warn(\n"
     ]
    },
    {
     "name": "stdout",
     "output_type": "stream",
     "text": [
      "XGBRegressor Prediction R2: 0.6858582486858904\n",
      "RMSE: 5.3754033563626455\n"
     ]
    },
    {
     "data": {
      "image/png": "[encoded data removed]",
      "text/plain": [
       "<Figure size 432x288 with 1 Axes>"
      ]
     },
     "metadata": {
      "needs_background": "light"
     },
     "output_type": "display_data"
    }
   ],
   "source": [
    "for pipe in pipes:\n",
    "    pipe_model = pipe.fit(outlier_X, outlier_y)\n",
    "    pipe_preds = pipe_model.predict(ho_X)\n",
    "    name = str(pipe[1])\n",
    "    sklearn.metrics.mean_squared_error(ho_y, pipe_preds, squared=False)\n",
    "    sns.scatterplot(ho_y, pipe_preds)\n",
    "    plt.xlabel('True')\n",
    "    plt.ylabel('Prediction')\n",
    "    print(str(name.split('(')[0])+' Prediction R2: '+\\\n",
    "          str(sklearn.metrics.r2_score(ho_y, pipe_preds))+\\\n",
    "          '\\nRMSE: '+ str(sklearn.metrics.mean_squared_error\\\n",
    "                          (ho_y, pipe_preds, squared=False)))\n",
    "    plt.show()"
   ]
  },
  {
   "cell_type": "markdown",
   "metadata": {},
   "source": [
    "Parameter tune XGboost regressor to see the predictive power on outlierless data."
   ]
  },
  {
   "cell_type": "code",
   "execution_count": 46,
   "metadata": {},
   "outputs": [],
   "source": [
    "randomized_out = RandomizedSearchCV(estimator=xgb.XGBRegressor(objective=\"reg:squarederror\")\\\n",
    "                                    , param_distributions=params, scoring='r2', n_iter=240,\\\n",
    "                                    cv=5,verbose=1)"
   ]
  },
  {
   "cell_type": "code",
   "execution_count": 47,
   "metadata": {
    "scrolled": false
   },
   "outputs": [
    {
     "name": "stdout",
     "output_type": "stream",
     "text": [
      "Fitting 5 folds for each of 240 candidates, totalling 1200 fits\n"
     ]
    },
    {
     "data": {
      "text/plain": [
       "RandomizedSearchCV(cv=5,\n",
       "                   estimator=XGBRegressor(base_score=None, booster=None,\n",
       "                                          colsample_bylevel=None,\n",
       "                                          colsample_bynode=None,\n",
       "                                          colsample_bytree=None, gamma=None,\n",
       "                                          gpu_id=None, importance_type='gain',\n",
       "                                          interaction_constraints=None,\n",
       "                                          learning_rate=None,\n",
       "                                          max_delta_step=None, max_depth=None,\n",
       "                                          min_child_weight=None, missing=nan,\n",
       "                                          monotone_constraints=None,\n",
       "                                          n_estimators=100, n...\n",
       "                                          num_parallel_tree=None,\n",
       "                                          random_state=None, reg_alpha=None,\n",
       "                                          reg_lambda=None,\n",
       "                                          scale_pos_weight=None, subsample=None,\n",
       "                                          tree_method=None,\n",
       "                                          validate_parameters=None,\n",
       "                                          verbosity=None),\n",
       "                   n_iter=240,\n",
       "                   param_distributions={'colsample_bytree': [0.7, 0.8, 0.9],\n",
       "                                        'learning_rate': [0.1, 0.3, 0.5, 0.7],\n",
       "                                        'max_depth': range(3, 8),\n",
       "                                        'n_estimators': range(15, 51, 2),\n",
       "                                        'reg_lambda': [0.001, 0.01, 1]},\n",
       "                   scoring='r2', verbose=1)"
      ]
     },
     "execution_count": 47,
     "metadata": {},
     "output_type": "execute_result"
    }
   ],
   "source": [
    "randomized_out.fit(outlier_X, outlier_y)"
   ]
  },
  {
   "cell_type": "code",
   "execution_count": 48,
   "metadata": {
    "scrolled": true
   },
   "outputs": [
    {
     "name": "stdout",
     "output_type": "stream",
     "text": [
      "Best Random parameters found:  {'reg_lambda': 1, 'n_estimators': 47, 'max_depth': 4, 'learning_rate': 0.3, 'colsample_bytree': 0.7}\n",
      "Best Random R2 found:  0.9999967044943755\n"
     ]
    }
   ],
   "source": [
    "print(\"Best Random parameters found: \", randomized_out.best_params_)\n",
    "print(\"Best Random R2 found: \", randomized_out.best_score_)"
   ]
  },
  {
   "cell_type": "code",
   "execution_count": 49,
   "metadata": {},
   "outputs": [],
   "source": [
    "grid_params = {'n_estimators':range(15,51,2), 'max_depth':range(3,5),\\\n",
    "                   'learning_rate':[.6, .7, .8], 'colsample_bytree':[.8, .9, 1],\\\n",
    "                   'reg_lambda':[.1, 1, 2, 3]}"
   ]
  },
  {
   "cell_type": "code",
   "execution_count": 50,
   "metadata": {
    "scrolled": true
   },
   "outputs": [],
   "source": [
    "grid_out = GridSearchCV(estimator=xgb.XGBRegressor(objective=\"reg:squarederror\"),\\\n",
    "                        param_grid=grid_params, scoring='r2', cv=5, verbose=1)"
   ]
  },
  {
   "cell_type": "code",
   "execution_count": 51,
   "metadata": {
    "scrolled": false
   },
   "outputs": [
    {
     "name": "stdout",
     "output_type": "stream",
     "text": [
      "Fitting 5 folds for each of 1296 candidates, totalling 6480 fits\n"
     ]
    },
    {
     "data": {
      "text/plain": [
       "GridSearchCV(cv=5,\n",
       "             estimator=XGBRegressor(base_score=None, booster=None,\n",
       "                                    colsample_bylevel=None,\n",
       "                                    colsample_bynode=None,\n",
       "                                    colsample_bytree=None, gamma=None,\n",
       "                                    gpu_id=None, importance_type='gain',\n",
       "                                    interaction_constraints=None,\n",
       "                                    learning_rate=None, max_delta_step=None,\n",
       "                                    max_depth=None, min_child_weight=None,\n",
       "                                    missing=nan, monotone_constraints=None,\n",
       "                                    n_estimators=100, n_jobs=None,\n",
       "                                    num_parallel_tree=None, random_state=None,\n",
       "                                    reg_alpha=None, reg_lambda=None,\n",
       "                                    scale_pos_weight=None, subsample=None,\n",
       "                                    tree_method=None, validate_parameters=None,\n",
       "                                    verbosity=None),\n",
       "             param_grid={'colsample_bytree': [0.8, 0.9, 1],\n",
       "                         'learning_rate': [0.6, 0.7, 0.8],\n",
       "                         'max_depth': range(3, 5),\n",
       "                         'n_estimators': range(15, 51, 2),\n",
       "                         'reg_lambda': [0.1, 1, 2, 3]},\n",
       "             scoring='r2', verbose=1)"
      ]
     },
     "execution_count": 51,
     "metadata": {},
     "output_type": "execute_result"
    }
   ],
   "source": [
    "grid_out.fit(outlier_X, outlier_y)"
   ]
  },
  {
   "cell_type": "code",
   "execution_count": 52,
   "metadata": {
    "scrolled": true
   },
   "outputs": [
    {
     "name": "stdout",
     "output_type": "stream",
     "text": [
      "Best Grid parameters found:  {'colsample_bytree': 0.9, 'learning_rate': 0.8, 'max_depth': 3, 'n_estimators': 33, 'reg_lambda': 2}\n",
      "Best Grid R2 found:  0.9999999826596037\n"
     ]
    }
   ],
   "source": [
    "print(\"Best Grid parameters found: \", grid_out.best_params_)\n",
    "print(\"Best Grid R2 found: \", grid_out.best_score_)"
   ]
  },
  {
   "cell_type": "markdown",
   "metadata": {},
   "source": [
    "The tuned XGBoost Regressor performs significantly better in the absence of the outlier points."
   ]
  },
  {
   "cell_type": "code",
   "execution_count": 53,
   "metadata": {
    "scrolled": true
   },
   "outputs": [],
   "source": [
    "out_predictions = grid_out.predict(ho_X)"
   ]
  },
  {
   "cell_type": "code",
   "execution_count": 54,
   "metadata": {
    "scrolled": true
   },
   "outputs": [
    {
     "data": {
      "text/plain": [
       "0.7632076787863906"
      ]
     },
     "execution_count": 54,
     "metadata": {},
     "output_type": "execute_result"
    }
   ],
   "source": [
    "sklearn.metrics.r2_score(ho_y, out_predictions)"
   ]
  },
  {
   "cell_type": "code",
   "execution_count": 55,
   "metadata": {},
   "outputs": [
    {
     "data": {
      "text/plain": [
       "4.6669380422033315"
      ]
     },
     "execution_count": 55,
     "metadata": {},
     "output_type": "execute_result"
    }
   ],
   "source": [
    "sklearn.metrics.mean_squared_error(ho_y, out_predictions, squared=False)"
   ]
  },
  {
   "cell_type": "code",
   "execution_count": 56,
   "metadata": {
    "scrolled": true
   },
   "outputs": [
    {
     "name": "stdout",
     "output_type": "stream",
     "text": [
      "Test value: 39.01148643319613 Predicted value: 42.283558\n",
      "Test value: 58.43042847478384 Predicted value: 55.272263\n",
      "Test value: 39.50632737678978 Predicted value: 35.97893\n",
      "Test value: 62.05427971311327 Predicted value: 54.28591\n",
      "Test value: 45.73354328632951 Predicted value: 49.661777\n"
     ]
    }
   ],
   "source": [
    "for i,j in zip(out_predictions, ho_y):\n",
    "    print('Test value: ' + str(j), 'Predicted value: ' + str(i))"
   ]
  },
  {
   "cell_type": "markdown",
   "metadata": {},
   "source": [
    "Tuned Ridge Model"
   ]
  },
  {
   "cell_type": "code",
   "execution_count": 57,
   "metadata": {},
   "outputs": [],
   "source": [
    "scaled_training = scaler.fit_transform(outlier_X)\n",
    "scaled_test = scaler.fit_transform(ho_X)"
   ]
  },
  {
   "cell_type": "markdown",
   "metadata": {},
   "source": [
    "Training eval"
   ]
  },
  {
   "cell_type": "code",
   "execution_count": 74,
   "metadata": {},
   "outputs": [],
   "source": [
    "model = Ridge(alpha=1)\n",
    "rm = model.fit(scaled_training, outlier_y)\n",
    "rm_preds = rm.predict(scaled_training)"
   ]
  },
  {
   "cell_type": "code",
   "execution_count": 75,
   "metadata": {
    "scrolled": true
   },
   "outputs": [
    {
     "data": {
      "text/plain": [
       "0.6941755683400836"
      ]
     },
     "execution_count": 75,
     "metadata": {},
     "output_type": "execute_result"
    }
   ],
   "source": [
    "sklearn.metrics.r2_score(outlier_y, rm_preds)"
   ]
  },
  {
   "cell_type": "code",
   "execution_count": 76,
   "metadata": {
    "scrolled": false
   },
   "outputs": [
    {
     "data": {
      "text/plain": [
       "4.121423477784324"
      ]
     },
     "execution_count": 76,
     "metadata": {},
     "output_type": "execute_result"
    }
   ],
   "source": [
    "sklearn.metrics.mean_squared_error(outlier_y, rm_preds, squared=False)"
   ]
  },
  {
   "cell_type": "markdown",
   "metadata": {},
   "source": [
    "Test eval"
   ]
  },
  {
   "cell_type": "code",
   "execution_count": 85,
   "metadata": {},
   "outputs": [],
   "source": [
    "model = Ridge()\n",
    "rm = model.fit(scaled_training, outlier_y)\n",
    "rm_preds = rm.predict(scaled_test)"
   ]
  },
  {
   "cell_type": "code",
   "execution_count": 87,
   "metadata": {
    "scrolled": true
   },
   "outputs": [
    {
     "data": {
      "text/plain": [
       "0.8008080938492251"
      ]
     },
     "execution_count": 87,
     "metadata": {},
     "output_type": "execute_result"
    }
   ],
   "source": [
    "sklearn.metrics.r2_score(ho_y, rm_preds)"
   ]
  },
  {
   "cell_type": "code",
   "execution_count": 88,
   "metadata": {
    "scrolled": false
   },
   "outputs": [
    {
     "data": {
      "text/plain": [
       "4.280397203504089"
      ]
     },
     "execution_count": 88,
     "metadata": {},
     "output_type": "execute_result"
    }
   ],
   "source": [
    "sklearn.metrics.mean_squared_error(ho_y, rm_preds, squared=False)"
   ]
  },
  {
   "cell_type": "markdown",
   "metadata": {},
   "source": [
    "The model significantly outperforms on the test set. This is most likely and issue cuased by the very small sample size of the test data. It also suggested that the model should be regularized in order to generalize better to knew information"
   ]
  },
  {
   "cell_type": "code",
   "execution_count": 77,
   "metadata": {},
   "outputs": [],
   "source": [
    "train_score = sklearn.metrics.r2_score(outlier_y, rm_preds)\n",
    "ideal_lambdas = []\n",
    "lambdas = []\n",
    "scores = []\n",
    "for i in range(1,100):\n",
    "    model = Ridge(alpha=i)\n",
    "    rm = model.fit(scaled_training, outlier_y)\n",
    "    rm_preds = rm.predict(scaled_test)\n",
    "    if sklearn.metrics.r2_score(ho_y, rm_preds) <= train_score:\n",
    "         ideal_lambdas.append(i)   \n",
    "    lambdas.append(i)\n",
    "    scores.append(sklearn.metrics.r2_score(ho_y, rm_preds))"
   ]
  },
  {
   "cell_type": "code",
   "execution_count": 78,
   "metadata": {},
   "outputs": [],
   "source": [
    "target = min(ideal_lambdas)+10"
   ]
  },
  {
   "cell_type": "code",
   "execution_count": 79,
   "metadata": {
    "scrolled": false
   },
   "outputs": [
    {
     "name": "stderr",
     "output_type": "stream",
     "text": [
      "/opt/anaconda3/lib/python3.8/site-packages/seaborn/_decorators.py:36: FutureWarning: Pass the following variables as keyword args: x, y. From version 0.12, the only valid positional argument will be `data`, and passing other arguments without an explicit keyword will result in an error or misinterpretation.\n",
      "  warnings.warn(\n"
     ]
    },
    {
     "data": {
      "text/plain": [
       "<matplotlib.lines.Line2D at 0x7fca484b4f40>"
      ]
     },
     "execution_count": 79,
     "metadata": {},
     "output_type": "execute_result"
    },
    {
     "data": {
      "image/png": "[encoded data removed]",
      "text/plain": [
       "<Figure size 432x288 with 1 Axes>"
      ]
     },
     "metadata": {
      "needs_background": "light"
     },
     "output_type": "display_data"
    }
   ],
   "source": [
    "sns.scatterplot(lambdas, scores)\n",
    "plt.title('R2 at given Alpha')\n",
    "plt.xlabel('Alpha')\n",
    "plt.ylabel('R2 Score')\n",
    "plt.xlim(xmax=target)\n",
    "plt.axhline(y=0.6585, color='r')"
   ]
  },
  {
   "cell_type": "code",
   "execution_count": 80,
   "metadata": {},
   "outputs": [],
   "source": [
    "model = Ridge(alpha=min(ideal_lambdas))\n",
    "rm = model.fit(scaled_training, outlier_y)\n",
    "rm_preds = rm.predict(scaled_test)"
   ]
  },
  {
   "cell_type": "code",
   "execution_count": 81,
   "metadata": {},
   "outputs": [
    {
     "data": {
      "text/plain": [
       "0.6901767954278347"
      ]
     },
     "execution_count": 81,
     "metadata": {},
     "output_type": "execute_result"
    }
   ],
   "source": [
    "sklearn.metrics.r2_score(ho_y, rm_preds)"
   ]
  },
  {
   "cell_type": "code",
   "execution_count": 82,
   "metadata": {},
   "outputs": [
    {
     "data": {
      "text/plain": [
       "5.338327315197621"
      ]
     },
     "execution_count": 82,
     "metadata": {},
     "output_type": "execute_result"
    }
   ],
   "source": [
    "sklearn.metrics.mean_squared_error(ho_y, rm_preds, squared=False)"
   ]
  },
  {
   "cell_type": "code",
   "execution_count": 67,
   "metadata": {},
   "outputs": [
    {
     "name": "stdout",
     "output_type": "stream",
     "text": [
      "Test value: 39.01148643319613 Predicted value: 44.748645332961765\n",
      "Test value: 58.43042847478384 Predicted value: 53.29199102700649\n",
      "Test value: 39.50632737678978 Predicted value: 46.199218083936046\n",
      "Test value: 62.05427971311327 Predicted value: 58.08118331933863\n",
      "Test value: 45.73354328632951 Predicted value: 51.865191093297035\n"
     ]
    }
   ],
   "source": [
    "for i,j in zip(rm_preds, ho_y):\n",
    "    print('Test value: ' + str(j), 'Predicted value: ' + str(i))"
   ]
  },
  {
   "cell_type": "markdown",
   "metadata": {},
   "source": [
    "Which metric should be used to determine the best model?"
   ]
  },
  {
   "cell_type": "code",
   "execution_count": 70,
   "metadata": {
    "scrolled": true
   },
   "outputs": [
    {
     "name": "stdout",
     "output_type": "stream",
     "text": [
      "R2 score should be used to evaluate an individual model's performance.\n"
     ]
    }
   ],
   "source": [
    "if np.std(ho_y) > np.std(outlier_y):\n",
    "    print('R2 score should be used to evaluate an individual model\\'s performance.')\n",
    "else:\n",
    "    print('RMSE may be used to evaluate an individual model\\'s performance.')"
   ]
  },
  {
   "cell_type": "markdown",
   "metadata": {},
   "source": [
    "The tuned XGBRegressor performs well, on the outlierless test data it yields an RMSE of 4.667 and is able to account for 76% of the variation in the test data. This is a vast improvement over the XGBoost model trained on the data including the outliers (RMSE of 8.297 and R2 of 0.53).\n",
    "\n",
    "However, it is likely that the XGBoost model overfits too much to the training data as there is a significant jump between the training RMSE of 0.044 and the test RMSE of 4.955. \n",
    "\n",
    "Therefore I would recommend using the tuned Ridge regression model. As it yields a similar RMSE of 5.612 and at the cost of slightly R2 of .65, without overfitting to the training data (1.326 increase in RMSE from the training set to the test set)."
   ]
  }
 ],
 "metadata": {
  "kernelspec": {
   "display_name": "Python 3",
   "language": "python",
   "name": "python3"
  },
  "language_info": {
   "codemirror_mode": {
    "name": "ipython",
    "version": 3
   },
   "file_extension": ".py",
   "mimetype": "text/x-python",
   "name": "python",
   "nbconvert_exporter": "python",
   "pygments_lexer": "ipython3",
   "version": "3.8.5"
  }
 },
 "nbformat": 4,
 "nbformat_minor": 4
}
