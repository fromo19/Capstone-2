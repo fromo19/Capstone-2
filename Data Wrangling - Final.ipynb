{
 "cells": [
  {
   "cell_type": "markdown",
   "metadata": {},
   "source": [
    "Import relevant packages"
   ]
  },
  {
   "cell_type": "code",
   "execution_count": 1,
   "metadata": {},
   "outputs": [],
   "source": [
    "import glob\n",
    "import pandas as pd\n",
    "import tabula\n",
    "from urllib.request import urlretrieve"
   ]
  },
  {
   "cell_type": "markdown",
   "metadata": {},
   "source": [
    "Define functions for wrangling raw data into processable format"
   ]
  },
  {
   "cell_type": "code",
   "execution_count": 2,
   "metadata": {},
   "outputs": [],
   "source": [
    "def add_year_column(tableidx):  \n",
    "  table = pd.DataFrame(TABLES[landuse_tables[tableidx]])\n",
    "  table['Year'] = table.iloc[:,0].str.strip('Estimate')\n",
    "  estimates = table[table.index % 2 == 0]\n",
    "  return estimates\n",
    "\n",
    "def pdf_df(dataframe_list):  \n",
    "  dataframe_df = dataframe_list[2]\n",
    "  dataframe_df.iloc[1,0] = 'Year'\n",
    "  dataframe_acres = dataframe_df.iloc[1:3,:].T\n",
    "  dataframe_acres2 = dataframe_acres.iloc[1:]\n",
    "  dataframe_acres2.columns = dataframe_acres.iloc[0,:]\n",
    "  dataframe_acres2['Year'] = dataframe_acres2['Year'].astype('int')\n",
    "  dataframe_acres2['Corn'] = [float(str(i).replace(\",\", \"\")) for i in dataframe_acres2['Corn']]\n",
    "  dataframe_acres2['Corn (Thousands of acres)'] = dataframe_acres2['Corn'] /1000\n",
    "  dataframe_acres2.reset_index(drop=True, inplace=True)\n",
    "  return dataframe_acres2\n",
    "\n",
    "\n",
    "def relevant_series_selection(series1, series2):\n",
    "  seriesindex1 = series1\n",
    "  seriesindex2 = series2\n",
    "  relevant_table = estimates.iloc[:,[seriesindex1,seriesindex2]]\n",
    "  series1_name = estimates.iloc[:,seriesindex1].name\n",
    "  series2_name = estimates.iloc[:,seriesindex2].name\n",
    "  relevant_table.reset_index(drop=True,inplace=True)\n",
    "  relevant_table[series1_name] = relevant_table[series1_name].astype('float')\n",
    "  relevant_table[series2_name] = relevant_table[series2_name].astype('int')\n",
    "  relevant_table = relevant_table[[series2_name,series1_name]]\n",
    "\n",
    "  return relevant_table\n",
    "\n",
    "def observed_change_timeperiod(dataframe):\n",
    "  differences = []\n",
    "  years = []\n",
    "  yearly_diff = []\n",
    "  for row in dataframe.itertuples():\n",
    "    if row[0] == min(range(len(dataframe))):\n",
    "      prior_row = row\n",
    "      continue\n",
    "    else:\n",
    "      differences.append(row[2] - prior_row[2])\n",
    "      years.append(int(row[1]) - int(prior_row[1]))\n",
    "      prior_row = row\n",
    "\n",
    "  for diff,year in zip(differences,years):\n",
    "    for yr in range(year-1):\n",
    "      yearly_diff.append(diff/year)\n",
    "  return yearly_diff\n",
    "\n",
    "def create_missing_df(dataframe, series1, series2):\n",
    "  miss_years = []\n",
    "  for start in series1:\n",
    "    for year in range(len(series1)):\n",
    "      if (start + year) == start:\n",
    "        continue\n",
    "      elif (start + year) in list(series1) or (start + year) > max(series1):\n",
    "        break\n",
    "      else:\n",
    "        miss_years.append(start + year)\n",
    "\n",
    "  missing_df = pd.DataFrame()\n",
    "  missing_df[series1.name] = miss_years\n",
    "  missing_df[series2.name] = 0\n",
    "  missing_df['Differences'] = observed_change_timeperiod(dataframe)\n",
    "  return missing_df\n",
    "\n",
    "def create_missing_practices(dataframe, series1, series2):\n",
    "  miss_years = []\n",
    "  for start in series1:\n",
    "    for year in range(len(series1 < 2008)):\n",
    "      if (start + year) == start:\n",
    "        continue\n",
    "      elif (start + year) in list(series1) or (start + year) > max(series1):\n",
    "        break\n",
    "      else:\n",
    "        miss_years.append(start + year)\n",
    "\n",
    "  missing_df = pd.DataFrame()\n",
    "  missing_df[series1.name] = miss_years\n",
    "  missing_df[series2.name] = 0\n",
    "  missing_df['Differences'] = observed_change_timeperiod(dataframe)\n",
    "  return missing_df\n",
    "\n",
    "def parse_table(dataframe,miss_df): \n",
    "  dataframe['Differences'] = 0\n",
    "  relevant_table_parsed = dataframe.append(miss_df)\n",
    "  relevant_table_parsed.sort_values(by='Year',inplace=True)\n",
    "  relevant_table_parsed.reset_index(drop=True,inplace=True)\n",
    "  return relevant_table_parsed\n",
    "\n",
    "def calc_total_land_change(dataframe):\n",
    "  TotalLand = []\n",
    "  for row in dataframe.itertuples():\n",
    "    if row[3] == 0:\n",
    "      TotalLand.append(row[2])\n",
    "      prior_row = row[2]\n",
    "    else:\n",
    "      TotalLand.append((prior_row + row[3]))\n",
    "      prior_row = prior_row + row[3]\n",
    "  \n",
    "  return TotalLand\n",
    "\n",
    "def fert_df_creation(df, fert_type):\n",
    "    IN_fert = df.iloc[[1,12],:]\n",
    "    IN_fert = IN_fert.T\n",
    "    IN_fert.iloc[0,0] = 'Year'\n",
    "    IN_fert.iloc[0,1] = fert_type\n",
    "    IN_fert.columns = IN_fert.iloc[0,:]\n",
    "    IN_fert = IN_fert.iloc[1:]\n",
    "    IN_fert.reset_index(drop=True,inplace=True)\n",
    "    return IN_fert\n",
    "\n",
    "def table_split(tilage_type):\n",
    "    tillage = tilage_type\n",
    "    data_filter = emissions['Tillage'] == tillage\n",
    "    filtered_data = emissions[data_filter]\n",
    "    filtered_df = filtered_data['Total']\n",
    "    filtered_df.reset_index(drop=True, inplace=True)\n",
    "    return filtered_df"
   ]
  },
  {
   "cell_type": "markdown",
   "metadata": {},
   "source": [
    "Retrieve landuse data from USDA website"
   ]
  },
  {
   "cell_type": "code",
   "execution_count": 3,
   "metadata": {},
   "outputs": [],
   "source": [
    "url = 'https://www.nrcs.usda.gov/Internet/NRCS_RCA/csv/nri_download_in.csv'"
   ]
  },
  {
   "cell_type": "code",
   "execution_count": 4,
   "metadata": {},
   "outputs": [
    {
     "data": {
      "text/plain": [
       "('IN_landuse.csv', <http.client.HTTPMessage at 0x7fc128412040>)"
      ]
     },
     "execution_count": 4,
     "metadata": {},
     "output_type": "execute_result"
    }
   ],
   "source": [
    "urlretrieve(url,'IN_landuse.csv')"
   ]
  },
  {
   "cell_type": "markdown",
   "metadata": {},
   "source": [
    "Iterate through each line of the USDA file and assign it to the tableslist"
   ]
  },
  {
   "cell_type": "code",
   "execution_count": 5,
   "metadata": {},
   "outputs": [],
   "source": [
    "fileList = []\n",
    "table = []\n",
    "with open('IN_landuse.csv', 'rb') as file:\n",
    "  for line in file:\n",
    "    if len(line) < 6:\n",
    "      if table != []:\n",
    "        fileList.append(table)\n",
    "        table = []\n",
    "      continue\n",
    "    else:\n",
    "      table.append(line)"
   ]
  },
  {
   "cell_type": "code",
   "execution_count": 6,
   "metadata": {},
   "outputs": [],
   "source": [
    "tableslist = fileList[1:23]"
   ]
  },
  {
   "cell_type": "markdown",
   "metadata": {},
   "source": [
    "Create a list of tables as dicts from the tables in tableslist and strip any formating charcters from the string of the table name, from table_list_dict and table_names lists create accessable dictionary TABLES where the keys are the names of the tables and the values are dictionaries containing all of the relevant landuse data. "
   ]
  },
  {
   "cell_type": "code",
   "execution_count": 7,
   "metadata": {},
   "outputs": [],
   "source": [
    "table_names = []\n",
    "for table in tableslist:\n",
    "  if tableslist.index(table) == 0:\n",
    "    table_names.append(str(table[1]).strip(\"b'\").strip('\\\\r\\\\n'))\n",
    "  elif (tableslist.index(table))%2 == 0:\n",
    "    table_names.append(str(table[0]).strip(\"b'\").strip('\\\\r\\\\n'))"
   ]
  },
  {
   "cell_type": "code",
   "execution_count": 8,
   "metadata": {},
   "outputs": [],
   "source": [
    "table_raw = [table for table in tableslist if tableslist.index(table)%2 != 0]"
   ]
  },
  {
   "cell_type": "code",
   "execution_count": 9,
   "metadata": {},
   "outputs": [],
   "source": [
    "list_table_dict = []\n",
    "for table in table_raw:\n",
    "  table_dict = {}\n",
    "  for row in table:\n",
    "    listrow = str(row).split(',')\n",
    "    striprow = []\n",
    "    for element in listrow:\n",
    "      striprow.append(element.strip(\"b'\").strip(\"\\\\r\\\\n\"))\n",
    "    column_name = striprow[0]\n",
    "    if striprow[-1] == '':\n",
    "      values = striprow[1:-1]\n",
    "    else:\n",
    "      values = striprow[1:]\n",
    "    table_dict[column_name] = values\n",
    "  list_table_dict.append(table_dict)\n"
   ]
  },
  {
   "cell_type": "code",
   "execution_count": 10,
   "metadata": {},
   "outputs": [],
   "source": [
    "TABLES = {}\n",
    "for name, table in zip(table_names, list_table_dict):\n",
    "  TABLES[name] = table"
   ]
  },
  {
   "cell_type": "code",
   "execution_count": 11,
   "metadata": {},
   "outputs": [],
   "source": [
    "landuse_tables = [key for key in TABLES.keys()]"
   ]
  },
  {
   "cell_type": "code",
   "execution_count": 12,
   "metadata": {},
   "outputs": [
    {
     "data": {
      "text/plain": [
       "['Total Surface Area by Land Cover/Use',\n",
       " 'Non-Federal Rural Land by Land Cover/Use',\n",
       " 'Prime Farmland by Land Cover/Use',\n",
       " 'Indiana Cropland Use',\n",
       " 'Indiana  Erosio',\n",
       " 'Indiana  Non-Federal Grazing Land',\n",
       " 'Indiana  Non-Federal Forest Land',\n",
       " 'Indiana  Developed Land',\n",
       " 'Sources of Developed Land',\n",
       " 'Indiana  Wetlands',\n",
       " 'Palustrine and Estuarine Wetlands on Water Areas and Non-Federal Land by Land Cover/Use']"
      ]
     },
     "execution_count": 12,
     "metadata": {},
     "output_type": "execute_result"
    }
   ],
   "source": [
    "landuse_tables"
   ]
  },
  {
   "cell_type": "markdown",
   "metadata": {},
   "source": [
    "Call the table at index position 7, which contains IN landuse by development level, in the add_year_column function to strip only the integer of the year from the index."
   ]
  },
  {
   "cell_type": "code",
   "execution_count": 13,
   "metadata": {},
   "outputs": [
    {
     "data": {
      "text/plain": [
       "Index(['Developed Land Type', 'Large Urban and Built-Up Areas ',\n",
       "       'Small Built-Up Areas ', 'Rural Transportation ',\n",
       "       'Total Developed Land ', 'Year'],\n",
       "      dtype='object')"
      ]
     },
     "execution_count": 13,
     "metadata": {},
     "output_type": "execute_result"
    }
   ],
   "source": [
    "estimates = add_year_column(7)\n",
    "estimates.columns"
   ]
  },
  {
   "cell_type": "markdown",
   "metadata": {},
   "source": [
    "Create relevant table from the appropriate series of landuse data, index positions 4 and 5."
   ]
  },
  {
   "cell_type": "code",
   "execution_count": 14,
   "metadata": {},
   "outputs": [
    {
     "name": "stderr",
     "output_type": "stream",
     "text": [
      "<ipython-input-2-7bb77441b218>:27: SettingWithCopyWarning: \n",
      "A value is trying to be set on a copy of a slice from a DataFrame.\n",
      "Try using .loc[row_indexer,col_indexer] = value instead\n",
      "\n",
      "See the caveats in the documentation: https://pandas.pydata.org/pandas-docs/stable/user_guide/indexing.html#returning-a-view-versus-a-copy\n",
      "  relevant_table[series1_name] = relevant_table[series1_name].astype('float')\n",
      "<ipython-input-2-7bb77441b218>:28: SettingWithCopyWarning: \n",
      "A value is trying to be set on a copy of a slice from a DataFrame.\n",
      "Try using .loc[row_indexer,col_indexer] = value instead\n",
      "\n",
      "See the caveats in the documentation: https://pandas.pydata.org/pandas-docs/stable/user_guide/indexing.html#returning-a-view-versus-a-copy\n",
      "  relevant_table[series2_name] = relevant_table[series2_name].astype('int')\n"
     ]
    }
   ],
   "source": [
    "relevant_table = relevant_series_selection(4,5)"
   ]
  },
  {
   "cell_type": "markdown",
   "metadata": {},
   "source": [
    "Create a new dataframe (Dev_Land_Final), by calling the create_missing_df and parse_table functions on the previously defined relevant table"
   ]
  },
  {
   "cell_type": "code",
   "execution_count": 15,
   "metadata": {},
   "outputs": [],
   "source": [
    "missing_df = create_missing_df(relevant_table,relevant_table.iloc[:,0],relevant_table.iloc[:,1])"
   ]
  },
  {
   "cell_type": "code",
   "execution_count": 16,
   "metadata": {},
   "outputs": [],
   "source": [
    "relevant_table_parsed = parse_table(relevant_table,missing_df)"
   ]
  },
  {
   "cell_type": "code",
   "execution_count": 17,
   "metadata": {},
   "outputs": [],
   "source": [
    "relevant_table_parsed['Total Dev Land (Thousands of acres)'] = calc_total_land_change(relevant_table_parsed)\n",
    "Final_table = relevant_table_parsed[['Year','Total Dev Land (Thousands of acres)']]\n",
    "Dev_Land_Final = Final_table"
   ]
  },
  {
   "cell_type": "markdown",
   "metadata": {},
   "source": [
    "Repeat the above steps on the table in the TABLES dictionary at index position 1"
   ]
  },
  {
   "cell_type": "code",
   "execution_count": 18,
   "metadata": {},
   "outputs": [
    {
     "data": {
      "text/plain": [
       "Index(['Land Cover/Use', 'Cropland ', 'CRP Land ', 'Pastureland ',\n",
       "       'Rangeland ', 'Forest Land ', 'Other Rural Land ',\n",
       "       'Total Non-Federal Rural Land ', 'Year'],\n",
       "      dtype='object')"
      ]
     },
     "execution_count": 18,
     "metadata": {},
     "output_type": "execute_result"
    }
   ],
   "source": [
    "estimates = add_year_column(1)\n",
    "estimates.columns"
   ]
  },
  {
   "cell_type": "markdown",
   "metadata": {},
   "source": [
    "Create relevant_table dataframe from the series at positions 1 and 8. And call the create_missing_df and parse_table functions on it to produce Crop_Land_Final table."
   ]
  },
  {
   "cell_type": "code",
   "execution_count": 19,
   "metadata": {},
   "outputs": [
    {
     "name": "stderr",
     "output_type": "stream",
     "text": [
      "<ipython-input-2-7bb77441b218>:27: SettingWithCopyWarning: \n",
      "A value is trying to be set on a copy of a slice from a DataFrame.\n",
      "Try using .loc[row_indexer,col_indexer] = value instead\n",
      "\n",
      "See the caveats in the documentation: https://pandas.pydata.org/pandas-docs/stable/user_guide/indexing.html#returning-a-view-versus-a-copy\n",
      "  relevant_table[series1_name] = relevant_table[series1_name].astype('float')\n",
      "<ipython-input-2-7bb77441b218>:28: SettingWithCopyWarning: \n",
      "A value is trying to be set on a copy of a slice from a DataFrame.\n",
      "Try using .loc[row_indexer,col_indexer] = value instead\n",
      "\n",
      "See the caveats in the documentation: https://pandas.pydata.org/pandas-docs/stable/user_guide/indexing.html#returning-a-view-versus-a-copy\n",
      "  relevant_table[series2_name] = relevant_table[series2_name].astype('int')\n"
     ]
    }
   ],
   "source": [
    "relevant_table = relevant_series_selection(1,8)"
   ]
  },
  {
   "cell_type": "code",
   "execution_count": 20,
   "metadata": {},
   "outputs": [],
   "source": [
    "missing_df = create_missing_df(relevant_table,relevant_table.iloc[:,0],relevant_table.iloc[:,1])"
   ]
  },
  {
   "cell_type": "code",
   "execution_count": 21,
   "metadata": {},
   "outputs": [],
   "source": [
    "relevant_table_parsed = parse_table(relevant_table,missing_df)"
   ]
  },
  {
   "cell_type": "code",
   "execution_count": 22,
   "metadata": {},
   "outputs": [],
   "source": [
    "relevant_table_parsed['Total Crop Land (Thousands of acres)'] = calc_total_land_change(relevant_table_parsed)\n",
    "Final_table = relevant_table_parsed[['Year','Total Crop Land (Thousands of acres)']]\n",
    "Crop_Land_Final = Final_table"
   ]
  },
  {
   "cell_type": "markdown",
   "metadata": {},
   "source": [
    "Create the final_landuse table by merging the Dev_Land_Final dataframe to the Crop_Land_Final dataframe on year."
   ]
  },
  {
   "cell_type": "code",
   "execution_count": 23,
   "metadata": {},
   "outputs": [],
   "source": [
    "final_landuse = Crop_Land_Final.merge(Dev_Land_Final)"
   ]
  },
  {
   "cell_type": "markdown",
   "metadata": {},
   "source": [
    "Creat the IN_fert_final dataframe from the historical fertilzer data for IN by selecting the data from the nitrogen, phosphate, potash fertilizer use for corn sheets in the fertilizeruse workbook merging on on year."
   ]
  },
  {
   "cell_type": "code",
   "execution_count": 24,
   "metadata": {},
   "outputs": [],
   "source": [
    "fert_path = '/Users/coleromanyk/Documents/GitHub/Capstone-2/Data/fertilizeruse.xls'"
   ]
  },
  {
   "cell_type": "code",
   "execution_count": 25,
   "metadata": {},
   "outputs": [],
   "source": [
    "corn_tables = ['Table10','Table12','Table14']"
   ]
  },
  {
   "cell_type": "code",
   "execution_count": 26,
   "metadata": {},
   "outputs": [],
   "source": [
    "raw_nitrogen = pd.read_excel(fert_path,sheet_name=corn_tables[0])"
   ]
  },
  {
   "cell_type": "code",
   "execution_count": 27,
   "metadata": {},
   "outputs": [],
   "source": [
    "IN_N = fert_df_creation(raw_nitrogen, 'Nitrogen')"
   ]
  },
  {
   "cell_type": "code",
   "execution_count": 28,
   "metadata": {},
   "outputs": [],
   "source": [
    "raw_phosphate = pd.read_excel(fert_path,sheet_name=corn_tables[1])"
   ]
  },
  {
   "cell_type": "code",
   "execution_count": 29,
   "metadata": {},
   "outputs": [],
   "source": [
    "IN_PH = fert_df_creation(raw_phosphate, 'Phosphate')"
   ]
  },
  {
   "cell_type": "code",
   "execution_count": 30,
   "metadata": {},
   "outputs": [],
   "source": [
    "raw_potash = pd.read_excel(fert_path,sheet_name=corn_tables[2])"
   ]
  },
  {
   "cell_type": "code",
   "execution_count": 31,
   "metadata": {},
   "outputs": [],
   "source": [
    "IN_PO = fert_df_creation(raw_potash, 'Potash')"
   ]
  },
  {
   "cell_type": "code",
   "execution_count": 32,
   "metadata": {},
   "outputs": [],
   "source": [
    "fert1 = IN_N.merge(IN_PH)\n",
    "IN_fert_final = fert1.merge(IN_PO)"
   ]
  },
  {
   "cell_type": "code",
   "execution_count": 33,
   "metadata": {},
   "outputs": [],
   "source": [
    "IN_fert_final.fillna(round(IN_fert_final.rolling(10,min_periods=1).mean(),),inplace=True)"
   ]
  },
  {
   "cell_type": "markdown",
   "metadata": {},
   "source": [
    "Combine the fertilizer use data for IN with the landuse data merging on year."
   ]
  },
  {
   "cell_type": "code",
   "execution_count": 34,
   "metadata": {},
   "outputs": [],
   "source": [
    "landuse_fertilizer = final_landuse.merge(IN_fert_final)"
   ]
  },
  {
   "cell_type": "markdown",
   "metadata": {},
   "source": [
    "Download and read the appropriate production practice data from the in.gov site."
   ]
  },
  {
   "cell_type": "code",
   "execution_count": 35,
   "metadata": {
    "scrolled": true
   },
   "outputs": [],
   "source": [
    "pdf = 'https://www.in.gov/isda/files/No-Till-Trends-1990-2019-Statewide.pdf'\n",
    "urlretrieve(pdf,'no_till.pdf')\n",
    "no_till = tabula.read_pdf('no_till.pdf', lattice=True, multiple_tables=True)"
   ]
  },
  {
   "cell_type": "code",
   "execution_count": 36,
   "metadata": {},
   "outputs": [],
   "source": [
    "pdf = 'https://www.in.gov/isda/files/Cover-Crop-Trends-2011-2019-Statewide.pdf'\n",
    "urlretrieve(pdf,'cover_crop.pdf')\n",
    "cover_crop = tabula.read_pdf('cover_crop.pdf', lattice=True, multiple_tables=True)"
   ]
  },
  {
   "cell_type": "code",
   "execution_count": 37,
   "metadata": {},
   "outputs": [],
   "source": [
    "pdf = 'https://www.in.gov/isda/files/Conservation-Tillage-Trends-1990-2019-Statewide-2.pdf'\n",
    "urlretrieve(pdf,'conservation_till.pdf')\n",
    "conservation_till = tabula.read_pdf('conservation_till.pdf', lattice=True, multiple_tables=True)"
   ]
  },
  {
   "cell_type": "markdown",
   "metadata": {},
   "source": [
    "Create dataframes for cover cropping and tillage practices using the pdf_df function defined above. Merge df's on year."
   ]
  },
  {
   "cell_type": "code",
   "execution_count": 38,
   "metadata": {
    "scrolled": true
   },
   "outputs": [
    {
     "name": "stderr",
     "output_type": "stream",
     "text": [
      "<ipython-input-2-7bb77441b218>:13: SettingWithCopyWarning: \n",
      "A value is trying to be set on a copy of a slice from a DataFrame.\n",
      "Try using .loc[row_indexer,col_indexer] = value instead\n",
      "\n",
      "See the caveats in the documentation: https://pandas.pydata.org/pandas-docs/stable/user_guide/indexing.html#returning-a-view-versus-a-copy\n",
      "  dataframe_acres2['Year'] = dataframe_acres2['Year'].astype('int')\n",
      "<ipython-input-2-7bb77441b218>:14: SettingWithCopyWarning: \n",
      "A value is trying to be set on a copy of a slice from a DataFrame.\n",
      "Try using .loc[row_indexer,col_indexer] = value instead\n",
      "\n",
      "See the caveats in the documentation: https://pandas.pydata.org/pandas-docs/stable/user_guide/indexing.html#returning-a-view-versus-a-copy\n",
      "  dataframe_acres2['Corn'] = [float(str(i).replace(\",\", \"\")) for i in dataframe_acres2['Corn']]\n",
      "<ipython-input-2-7bb77441b218>:15: SettingWithCopyWarning: \n",
      "A value is trying to be set on a copy of a slice from a DataFrame.\n",
      "Try using .loc[row_indexer,col_indexer] = value instead\n",
      "\n",
      "See the caveats in the documentation: https://pandas.pydata.org/pandas-docs/stable/user_guide/indexing.html#returning-a-view-versus-a-copy\n",
      "  dataframe_acres2['Corn (Thousands of acres)'] = dataframe_acres2['Corn'] /1000\n"
     ]
    }
   ],
   "source": [
    "cover_crop_df = pdf_df(cover_crop)"
   ]
  },
  {
   "cell_type": "markdown",
   "metadata": {},
   "source": [
    "2012 is missing from the data. Ceate a record for 2012 by using the observed_change_timeperiod function defined above."
   ]
  },
  {
   "cell_type": "code",
   "execution_count": 39,
   "metadata": {},
   "outputs": [],
   "source": [
    "cover_crop_2012 = cover_crop_df.loc[cover_crop_df['Year'] == 2011, 'Corn'].array + observed_change_timeperiod(cover_crop_df)\n",
    "cover_crop_df = cover_crop_df.append({'Year':2012, 'Corn':cover_crop_2012[0], 'Corn (Thousands of acres)':(cover_crop_2012[0]/1000)}, ignore_index=True)\n",
    "cover_crop_df.sort_values('Year', inplace=True, ignore_index=True)\n",
    "cover_crop_df.columns = ['Year', 'Corn', 'IN Corn Cover Crop (Thousands of acres)']"
   ]
  },
  {
   "cell_type": "code",
   "execution_count": 40,
   "metadata": {},
   "outputs": [],
   "source": [
    "cover_crop_final = cover_crop_df.loc[:, ['Year', 'IN Corn Cover Crop (Thousands of acres)']]"
   ]
  },
  {
   "cell_type": "code",
   "execution_count": 41,
   "metadata": {
    "scrolled": true
   },
   "outputs": [
    {
     "name": "stderr",
     "output_type": "stream",
     "text": [
      "<ipython-input-2-7bb77441b218>:13: SettingWithCopyWarning: \n",
      "A value is trying to be set on a copy of a slice from a DataFrame.\n",
      "Try using .loc[row_indexer,col_indexer] = value instead\n",
      "\n",
      "See the caveats in the documentation: https://pandas.pydata.org/pandas-docs/stable/user_guide/indexing.html#returning-a-view-versus-a-copy\n",
      "  dataframe_acres2['Year'] = dataframe_acres2['Year'].astype('int')\n",
      "<ipython-input-2-7bb77441b218>:14: SettingWithCopyWarning: \n",
      "A value is trying to be set on a copy of a slice from a DataFrame.\n",
      "Try using .loc[row_indexer,col_indexer] = value instead\n",
      "\n",
      "See the caveats in the documentation: https://pandas.pydata.org/pandas-docs/stable/user_guide/indexing.html#returning-a-view-versus-a-copy\n",
      "  dataframe_acres2['Corn'] = [float(str(i).replace(\",\", \"\")) for i in dataframe_acres2['Corn']]\n",
      "<ipython-input-2-7bb77441b218>:15: SettingWithCopyWarning: \n",
      "A value is trying to be set on a copy of a slice from a DataFrame.\n",
      "Try using .loc[row_indexer,col_indexer] = value instead\n",
      "\n",
      "See the caveats in the documentation: https://pandas.pydata.org/pandas-docs/stable/user_guide/indexing.html#returning-a-view-versus-a-copy\n",
      "  dataframe_acres2['Corn (Thousands of acres)'] = dataframe_acres2['Corn'] /1000\n"
     ]
    }
   ],
   "source": [
    "no_till_df = pdf_df(no_till)"
   ]
  },
  {
   "cell_type": "code",
   "execution_count": 42,
   "metadata": {},
   "outputs": [],
   "source": [
    "missing_no_df = create_missing_practices(no_till_df, no_till_df['Year'], no_till_df['Corn'])"
   ]
  },
  {
   "cell_type": "code",
   "execution_count": 43,
   "metadata": {},
   "outputs": [],
   "source": [
    "parsed_till = parse_table(no_till_df,missing_no_df)\n",
    "parsed_till.pop('Corn (Thousands of acres)')\n",
    "parsed_till['Total Corn Acres'] = calc_total_land_change(parsed_till)\n",
    "parsed_till['Total Corn Acres'] = round(parsed_till['Total Corn Acres'],)"
   ]
  },
  {
   "cell_type": "code",
   "execution_count": 44,
   "metadata": {},
   "outputs": [],
   "source": [
    "year_till = parsed_till.loc[:, ['Year','Total Corn Acres']]\n",
    "year_till['IN No Till Corn (Thousands of acres)'] = year_till['Total Corn Acres']/1000\n",
    "final_no_till = year_till.loc[:, ['Year','IN No Till Corn (Thousands of acres)']]"
   ]
  },
  {
   "cell_type": "code",
   "execution_count": 45,
   "metadata": {
    "scrolled": true
   },
   "outputs": [
    {
     "name": "stderr",
     "output_type": "stream",
     "text": [
      "<ipython-input-2-7bb77441b218>:13: SettingWithCopyWarning: \n",
      "A value is trying to be set on a copy of a slice from a DataFrame.\n",
      "Try using .loc[row_indexer,col_indexer] = value instead\n",
      "\n",
      "See the caveats in the documentation: https://pandas.pydata.org/pandas-docs/stable/user_guide/indexing.html#returning-a-view-versus-a-copy\n",
      "  dataframe_acres2['Year'] = dataframe_acres2['Year'].astype('int')\n",
      "<ipython-input-2-7bb77441b218>:14: SettingWithCopyWarning: \n",
      "A value is trying to be set on a copy of a slice from a DataFrame.\n",
      "Try using .loc[row_indexer,col_indexer] = value instead\n",
      "\n",
      "See the caveats in the documentation: https://pandas.pydata.org/pandas-docs/stable/user_guide/indexing.html#returning-a-view-versus-a-copy\n",
      "  dataframe_acres2['Corn'] = [float(str(i).replace(\",\", \"\")) for i in dataframe_acres2['Corn']]\n",
      "<ipython-input-2-7bb77441b218>:15: SettingWithCopyWarning: \n",
      "A value is trying to be set on a copy of a slice from a DataFrame.\n",
      "Try using .loc[row_indexer,col_indexer] = value instead\n",
      "\n",
      "See the caveats in the documentation: https://pandas.pydata.org/pandas-docs/stable/user_guide/indexing.html#returning-a-view-versus-a-copy\n",
      "  dataframe_acres2['Corn (Thousands of acres)'] = dataframe_acres2['Corn'] /1000\n"
     ]
    }
   ],
   "source": [
    "conservation_till_df = pdf_df(conservation_till)"
   ]
  },
  {
   "cell_type": "code",
   "execution_count": 46,
   "metadata": {},
   "outputs": [],
   "source": [
    "missing_con_df = create_missing_practices(conservation_till_df, conservation_till_df['Year'], conservation_till_df['Corn'])"
   ]
  },
  {
   "cell_type": "code",
   "execution_count": 47,
   "metadata": {
    "scrolled": true
   },
   "outputs": [],
   "source": [
    "parsed_con_till = parse_table(conservation_till_df, missing_con_df)\n",
    "parsed_con_till.pop('Corn (Thousands of acres)')\n",
    "parsed_con_till['Total Corn Acres'] = calc_total_land_change(parsed_con_till)\n",
    "parsed_con_till['Total Corn Acres'] = round(parsed_con_till['Total Corn Acres'],)"
   ]
  },
  {
   "cell_type": "code",
   "execution_count": 48,
   "metadata": {},
   "outputs": [],
   "source": [
    "year_con_till = parsed_con_till.loc[:, ['Year','Total Corn Acres']]\n",
    "year_con_till['IN Con Till Corn (Thousands of acres)'] = year_con_till['Total Corn Acres']/1000\n",
    "final_con_till = year_con_till.loc[:, ['Year','IN Con Till Corn (Thousands of acres)']]"
   ]
  },
  {
   "cell_type": "code",
   "execution_count": 49,
   "metadata": {},
   "outputs": [],
   "source": [
    "final_till = final_no_till.merge(final_con_till)\n",
    "crop_practices_df = final_till.merge(cover_crop_final,how='left')\n",
    "crop_practices_df.fillna(0, inplace=True)\n",
    "final_crop_practices = crop_practices_df[(crop_practices_df['Year'] < 2018)]"
   ]
  },
  {
   "cell_type": "markdown",
   "metadata": {},
   "source": [
    "Read and create the dataframes for US corn acerage, US total acerage, IN corn acerage, and IN corn yeild."
   ]
  },
  {
   "cell_type": "code",
   "execution_count": 50,
   "metadata": {},
   "outputs": [],
   "source": [
    "filename = 'US Corn'\n",
    "data = f'/Users/coleromanyk/Documents/GitHub/Capstone-2/Data/{filename}.csv'\n",
    "US_corn_raw = pd.read_csv(data)\n",
    "US_corn_raw = US_corn_raw.reset_index(drop=True)\n",
    "US_corn_raw['Year'] = US_corn_raw.iloc[:,1].astype('int')\n",
    "US_corn_raw['Total US Corn Acres (Thousands of acres)'] = US_corn_raw.iloc[:,19].str.replace(\",\", \"\").astype('float')//1000"
   ]
  },
  {
   "cell_type": "code",
   "execution_count": 51,
   "metadata": {},
   "outputs": [],
   "source": [
    "US_corn = US_corn_raw.loc[:,['Year','Total US Corn Acres (Thousands of acres)']]"
   ]
  },
  {
   "cell_type": "code",
   "execution_count": 52,
   "metadata": {},
   "outputs": [],
   "source": [
    "filename = 'IN yield'\n",
    "data = f'/Users/coleromanyk/Documents/GitHub/Capstone-2/Data/{filename}.csv'\n",
    "IN_yield_raw = pd.read_csv(data)\n",
    "IN_yield_raw = IN_yield_raw.reset_index(drop=True)\n",
    "IN_yield_raw['Year'] = IN_yield_raw.iloc[:,1].astype('int')\n",
    "IN_yield_raw['IN Corn Yield per Acre'] = IN_yield_raw.iloc[:,19]"
   ]
  },
  {
   "cell_type": "code",
   "execution_count": 53,
   "metadata": {},
   "outputs": [],
   "source": [
    "IN_yield = IN_yield_raw.loc[:,['Year', 'IN Corn Yield per Acre']]"
   ]
  },
  {
   "cell_type": "code",
   "execution_count": 54,
   "metadata": {
    "scrolled": true
   },
   "outputs": [],
   "source": [
    "filename = 'IN Corn'\n",
    "data = f'/Users/coleromanyk/Documents/GitHub/Capstone-2/Data/{filename}.csv'\n",
    "IN_corn_raw = pd.read_csv(data)\n",
    "IN_corn_raw = IN_corn_raw.reset_index(drop=True)\n",
    "IN_corn_raw['Year'] = IN_corn_raw.iloc[:,1].astype('int')\n",
    "IN_corn_raw['Total IN Corn Acres (Thousands of acres)'] = IN_corn_raw.iloc[:,19].str.replace(\",\", \"\").astype('float')//1000"
   ]
  },
  {
   "cell_type": "code",
   "execution_count": 55,
   "metadata": {},
   "outputs": [],
   "source": [
    "IN_corn = IN_corn_raw.loc[:,['Year','Total IN Corn Acres (Thousands of acres)']]"
   ]
  },
  {
   "cell_type": "code",
   "execution_count": 56,
   "metadata": {},
   "outputs": [],
   "source": [
    "filename = 'US Total'\n",
    "data = f'/Users/coleromanyk/Documents/GitHub/Capstone-2/Data/{filename}.csv'\n",
    "US_total_raw = pd.read_csv(data,)\n",
    "US_total_raw = US_total_raw.T\n",
    "US_total_raw.iloc[0,0] = 'Year'\n",
    "US_total_raw.iloc[0,1] = 'US Total (Thousands of acres)'\n",
    "US_total_raw.reset_index(drop=True,inplace=True)\n",
    "US_total_raw.columns = US_total_raw.iloc[0,:]\n",
    "US_year_total = US_total_raw.loc[1:,['Year','US Total (Thousands of acres)']].reset_index(drop=True)\n",
    "US_year_total['Year'] = US_year_total['Year'].astype('int')\n",
    "US_year_total['US Total (Thousands of acres)'] = US_year_total['US Total (Thousands of acres)'].str.replace(\",\", \"\").astype('int')"
   ]
  },
  {
   "cell_type": "code",
   "execution_count": 57,
   "metadata": {},
   "outputs": [],
   "source": [
    "missing_US_total = create_missing_df(US_year_total, US_year_total['Year'], US_year_total['US Total (Thousands of acres)'])\n",
    "parse_US_total = parse_table(US_year_total,missing_US_total)\n",
    "parse_US_total['US Total (Thousands of acres)'] = calc_total_land_change(parse_US_total)\n",
    "parse_US_total['US Total (Thousands of acres)'] = round(parse_US_total['US Total (Thousands of acres)'],)\n",
    "US_total = parse_US_total.loc[:,['Year','US Total (Thousands of acres)']]\n",
    "final_US_total = US_total[(US_total['Year'] >= 1990)]"
   ]
  },
  {
   "cell_type": "code",
   "execution_count": 58,
   "metadata": {
    "scrolled": true
   },
   "outputs": [],
   "source": [
    "IN_climate = pd.read_csv('/Users/coleromanyk/Documents/GitHub/Capstone-2/Data/IN Climate.csv', engine='python')\n",
    "climate_data = IN_climate.iloc[:, 2:5]\n",
    "climate_data.columns = ['Year', 'Precipitation', 'Average Temperature']"
   ]
  },
  {
   "cell_type": "markdown",
   "metadata": {},
   "source": [
    "Merge the the acerage dfs with the practices dfs to create acres_and_practices df on year."
   ]
  },
  {
   "cell_type": "code",
   "execution_count": 59,
   "metadata": {},
   "outputs": [],
   "source": [
    "acres_df = final_US_total.merge(US_corn)\n",
    "final_acres = acres_df.merge(IN_corn)\n",
    "yield_acres = final_acres.merge(IN_yield)\n",
    "climate_acres = yield_acres.merge(climate_data)\n",
    "acres_and_practices = climate_acres.merge(final_crop_practices)"
   ]
  },
  {
   "cell_type": "markdown",
   "metadata": {},
   "source": [
    "Merge all of the data into a single dataframe landuse_fertilizer_practices on year."
   ]
  },
  {
   "cell_type": "code",
   "execution_count": 60,
   "metadata": {},
   "outputs": [],
   "source": [
    "landuse_fertilizer_practices = landuse_fertilizer.merge(acres_and_practices)"
   ]
  },
  {
   "cell_type": "markdown",
   "metadata": {},
   "source": [
    "Calculate full-till acres by subtracting conservation till acres and no-till acres from total IN corn acres"
   ]
  },
  {
   "cell_type": "code",
   "execution_count": 61,
   "metadata": {
    "scrolled": true
   },
   "outputs": [],
   "source": [
    "landuse_fertilizer_practices['Conventional Till'] = landuse_fertilizer_practices['Total IN Corn Acres (Thousands of acres)'] - landuse_fertilizer_practices['IN Con Till Corn (Thousands of acres)'] - landuse_fertilizer_practices['IN No Till Corn (Thousands of acres)']"
   ]
  },
  {
   "cell_type": "markdown",
   "metadata": {},
   "source": [
    "Load emission data pdf and read with tabula, then calculate MMT of emissions per acre."
   ]
  },
  {
   "cell_type": "code",
   "execution_count": 62,
   "metadata": {},
   "outputs": [],
   "source": [
    "pdf = '/Users/coleromanyk/Documents/GitHub/Capstone-2/Data/US Cropland Greenhouse Gas Calculator.pdf'\n",
    "emissions = tabula.read_pdf(pdf, multiple=True, pages='all')"
   ]
  },
  {
   "cell_type": "code",
   "execution_count": 63,
   "metadata": {},
   "outputs": [],
   "source": [
    "conventional_till = table_split('conventional')"
   ]
  },
  {
   "cell_type": "code",
   "execution_count": 64,
   "metadata": {},
   "outputs": [],
   "source": [
    "conservation_till = table_split('reduced')"
   ]
  },
  {
   "cell_type": "code",
   "execution_count": 65,
   "metadata": {},
   "outputs": [],
   "source": [
    "no_till_emissions = table_split('no-till')"
   ]
  },
  {
   "cell_type": "code",
   "execution_count": 66,
   "metadata": {},
   "outputs": [],
   "source": [
    "tillage_practice_emissions = pd.DataFrame()\n",
    "tillage_practice_emissions['conventional'] = conventional_till.astype('float')\n",
    "tillage_practice_emissions['conservation'] = conservation_till.astype('float')\n",
    "tillage_practice_emissions['no-till'] = no_till_emissions.astype('float')"
   ]
  },
  {
   "cell_type": "code",
   "execution_count": 67,
   "metadata": {},
   "outputs": [],
   "source": [
    "landuse_fertilizer_practices['Per Acre Emissions'] = (tillage_practice_emissions['conventional']*landuse_fertilizer_practices['Conventional Till'] \\\n",
    "                                     + tillage_practice_emissions['conservation']*landuse_fertilizer_practices['IN Con Till Corn (Thousands of acres)'] \\\n",
    "                                     + tillage_practice_emissions['no-till']*landuse_fertilizer_practices['IN No Till Corn (Thousands of acres)'])*.001"
   ]
  },
  {
   "cell_type": "code",
   "execution_count": 68,
   "metadata": {},
   "outputs": [],
   "source": [
    "landuse_fertilizer_practices['efficiency'] = landuse_fertilizer_practices['IN Corn Yield per Acre']/landuse_fertilizer_practices['Per Acre Emissions']"
   ]
  },
  {
   "cell_type": "code",
   "execution_count": 69,
   "metadata": {
    "scrolled": false
   },
   "outputs": [
    {
     "data": {
      "text/html": [
       "<div>\n",
       "<style scoped>\n",
       "    .dataframe tbody tr th:only-of-type {\n",
       "        vertical-align: middle;\n",
       "    }\n",
       "\n",
       "    .dataframe tbody tr th {\n",
       "        vertical-align: top;\n",
       "    }\n",
       "\n",
       "    .dataframe thead th {\n",
       "        text-align: right;\n",
       "    }\n",
       "</style>\n",
       "<table border=\"1\" class=\"dataframe\">\n",
       "  <thead>\n",
       "    <tr style=\"text-align: right;\">\n",
       "      <th></th>\n",
       "      <th>Year</th>\n",
       "      <th>Total Crop Land (Thousands of acres)</th>\n",
       "      <th>Total Dev Land (Thousands of acres)</th>\n",
       "      <th>Nitrogen</th>\n",
       "      <th>Phosphate</th>\n",
       "      <th>Potash</th>\n",
       "      <th>US Total (Thousands of acres)</th>\n",
       "      <th>Total US Corn Acres (Thousands of acres)</th>\n",
       "      <th>Total IN Corn Acres (Thousands of acres)</th>\n",
       "      <th>IN Corn Yield per Acre</th>\n",
       "      <th>Precipitation</th>\n",
       "      <th>Average Temperature</th>\n",
       "      <th>IN No Till Corn (Thousands of acres)</th>\n",
       "      <th>IN Con Till Corn (Thousands of acres)</th>\n",
       "      <th>IN Corn Cover Crop (Thousands of acres)</th>\n",
       "      <th>Conventional Till</th>\n",
       "      <th>Per Acre Emissions</th>\n",
       "      <th>efficiency</th>\n",
       "    </tr>\n",
       "  </thead>\n",
       "  <tbody>\n",
       "    <tr>\n",
       "      <th>0</th>\n",
       "      <td>1990</td>\n",
       "      <td>13686.96</td>\n",
       "      <td>1967.36</td>\n",
       "      <td>139</td>\n",
       "      <td>75</td>\n",
       "      <td>111</td>\n",
       "      <td>461627.0</td>\n",
       "      <td>74166.0</td>\n",
       "      <td>5450.0</td>\n",
       "      <td>129</td>\n",
       "      <td>50.44</td>\n",
       "      <td>54.4</td>\n",
       "      <td>479.255</td>\n",
       "      <td>824.200</td>\n",
       "      <td>0.0</td>\n",
       "      <td>4146.545</td>\n",
       "      <td>3.306718</td>\n",
       "      <td>39.011486</td>\n",
       "    </tr>\n",
       "    <tr>\n",
       "      <th>1</th>\n",
       "      <td>1991</td>\n",
       "      <td>13618.98</td>\n",
       "      <td>1988.58</td>\n",
       "      <td>135</td>\n",
       "      <td>78</td>\n",
       "      <td>112</td>\n",
       "      <td>460835.0</td>\n",
       "      <td>75957.0</td>\n",
       "      <td>5550.0</td>\n",
       "      <td>92</td>\n",
       "      <td>37.56</td>\n",
       "      <td>54.8</td>\n",
       "      <td>723.426</td>\n",
       "      <td>1061.613</td>\n",
       "      <td>0.0</td>\n",
       "      <td>3764.961</td>\n",
       "      <td>3.508214</td>\n",
       "      <td>26.224166</td>\n",
       "    </tr>\n",
       "    <tr>\n",
       "      <th>2</th>\n",
       "      <td>1992</td>\n",
       "      <td>13551.00</td>\n",
       "      <td>2009.80</td>\n",
       "      <td>143</td>\n",
       "      <td>66</td>\n",
       "      <td>107</td>\n",
       "      <td>460044.0</td>\n",
       "      <td>79311.0</td>\n",
       "      <td>5970.0</td>\n",
       "      <td>147</td>\n",
       "      <td>44.22</td>\n",
       "      <td>52.6</td>\n",
       "      <td>967.598</td>\n",
       "      <td>1299.025</td>\n",
       "      <td>0.0</td>\n",
       "      <td>3703.377</td>\n",
       "      <td>3.376282</td>\n",
       "      <td>43.539021</td>\n",
       "    </tr>\n",
       "    <tr>\n",
       "      <th>3</th>\n",
       "      <td>1993</td>\n",
       "      <td>13527.82</td>\n",
       "      <td>2047.96</td>\n",
       "      <td>134</td>\n",
       "      <td>68</td>\n",
       "      <td>114</td>\n",
       "      <td>459046.0</td>\n",
       "      <td>73239.0</td>\n",
       "      <td>5400.0</td>\n",
       "      <td>132</td>\n",
       "      <td>50.78</td>\n",
       "      <td>52.0</td>\n",
       "      <td>1211.769</td>\n",
       "      <td>1536.438</td>\n",
       "      <td>0.0</td>\n",
       "      <td>2651.793</td>\n",
       "      <td>2.860590</td>\n",
       "      <td>46.144325</td>\n",
       "    </tr>\n",
       "    <tr>\n",
       "      <th>4</th>\n",
       "      <td>1994</td>\n",
       "      <td>13504.64</td>\n",
       "      <td>2086.12</td>\n",
       "      <td>147</td>\n",
       "      <td>74</td>\n",
       "      <td>112</td>\n",
       "      <td>458047.0</td>\n",
       "      <td>78921.0</td>\n",
       "      <td>5960.0</td>\n",
       "      <td>144</td>\n",
       "      <td>31.63</td>\n",
       "      <td>53.3</td>\n",
       "      <td>1131.817</td>\n",
       "      <td>1534.523</td>\n",
       "      <td>0.0</td>\n",
       "      <td>3293.660</td>\n",
       "      <td>3.331703</td>\n",
       "      <td>43.221141</td>\n",
       "    </tr>\n",
       "  </tbody>\n",
       "</table>\n",
       "</div>"
      ],
      "text/plain": [
       "   Year  Total Crop Land (Thousands of acres)  \\\n",
       "0  1990                              13686.96   \n",
       "1  1991                              13618.98   \n",
       "2  1992                              13551.00   \n",
       "3  1993                              13527.82   \n",
       "4  1994                              13504.64   \n",
       "\n",
       "   Total Dev Land (Thousands of acres) Nitrogen Phosphate Potash  \\\n",
       "0                              1967.36      139        75    111   \n",
       "1                              1988.58      135        78    112   \n",
       "2                              2009.80      143        66    107   \n",
       "3                              2047.96      134        68    114   \n",
       "4                              2086.12      147        74    112   \n",
       "\n",
       "   US Total (Thousands of acres)  Total US Corn Acres (Thousands of acres)  \\\n",
       "0                       461627.0                                   74166.0   \n",
       "1                       460835.0                                   75957.0   \n",
       "2                       460044.0                                   79311.0   \n",
       "3                       459046.0                                   73239.0   \n",
       "4                       458047.0                                   78921.0   \n",
       "\n",
       "   Total IN Corn Acres (Thousands of acres)  IN Corn Yield per Acre  \\\n",
       "0                                    5450.0                     129   \n",
       "1                                    5550.0                      92   \n",
       "2                                    5970.0                     147   \n",
       "3                                    5400.0                     132   \n",
       "4                                    5960.0                     144   \n",
       "\n",
       "   Precipitation  Average Temperature  IN No Till Corn (Thousands of acres)  \\\n",
       "0          50.44                 54.4                               479.255   \n",
       "1          37.56                 54.8                               723.426   \n",
       "2          44.22                 52.6                               967.598   \n",
       "3          50.78                 52.0                              1211.769   \n",
       "4          31.63                 53.3                              1131.817   \n",
       "\n",
       "   IN Con Till Corn (Thousands of acres)  \\\n",
       "0                                824.200   \n",
       "1                               1061.613   \n",
       "2                               1299.025   \n",
       "3                               1536.438   \n",
       "4                               1534.523   \n",
       "\n",
       "   IN Corn Cover Crop (Thousands of acres)  Conventional Till  \\\n",
       "0                                      0.0           4146.545   \n",
       "1                                      0.0           3764.961   \n",
       "2                                      0.0           3703.377   \n",
       "3                                      0.0           2651.793   \n",
       "4                                      0.0           3293.660   \n",
       "\n",
       "   Per Acre Emissions  efficiency  \n",
       "0            3.306718   39.011486  \n",
       "1            3.508214   26.224166  \n",
       "2            3.376282   43.539021  \n",
       "3            2.860590   46.144325  \n",
       "4            3.331703   43.221141  "
      ]
     },
     "execution_count": 69,
     "metadata": {},
     "output_type": "execute_result"
    }
   ],
   "source": [
    "landuse_fertilizer_practices.head()"
   ]
  },
  {
   "cell_type": "markdown",
   "metadata": {},
   "source": [
    "Load and clean growing degrees days data."
   ]
  },
  {
   "cell_type": "code",
   "execution_count": 70,
   "metadata": {},
   "outputs": [],
   "source": [
    "gdd_data = pd.read_csv('/Users/coleromanyk/Documents/GitHub/Capstone-2/Data/corn_gdd.csv')"
   ]
  },
  {
   "cell_type": "code",
   "execution_count": 71,
   "metadata": {
    "scrolled": false
   },
   "outputs": [
    {
     "name": "stdout",
     "output_type": "stream",
     "text": [
      "<class 'pandas.core.frame.DataFrame'>\n",
      "RangeIndex: 15651 entries, 0 to 15650\n",
      "Data columns (total 4 columns):\n",
      " #   Column           Non-Null Count  Dtype  \n",
      "---  ------           --------------  -----  \n",
      " 0   Year             15651 non-null  object \n",
      " 1   Month            15650 non-null  float64\n",
      " 2   Day              15650 non-null  float64\n",
      " 3   Accumulated GDD  15650 non-null  float64\n",
      "dtypes: float64(3), object(1)\n",
      "memory usage: 489.2+ KB\n"
     ]
    }
   ],
   "source": [
    "gdd_data.info()"
   ]
  },
  {
   "cell_type": "code",
   "execution_count": 72,
   "metadata": {},
   "outputs": [
    {
     "data": {
      "text/plain": [
       "array(['Average', 'Median', '1981', '1982', '1983', '1984', '1985',\n",
       "       '1986', '1987', '1988', '1989', '1990', '1991', '1992', '1993',\n",
       "       '1994', '1995', '1996', '1997', '1998', '1999', '2000', '2001',\n",
       "       '2002', '2003', '2004', '2005', '2006', '2007', '2008', '2009',\n",
       "       '2010', '2011', '2012', '2013', '2014', '2015', '2016', '2017',\n",
       "       '2018', '2019', '2020', '2021', \"''\"], dtype=object)"
      ]
     },
     "execution_count": 72,
     "metadata": {},
     "output_type": "execute_result"
    }
   ],
   "source": [
    "gdd_data.Year.unique()"
   ]
  },
  {
   "cell_type": "code",
   "execution_count": 73,
   "metadata": {},
   "outputs": [],
   "source": [
    "non_year = ['Average', 'Median', \"''\"]"
   ]
  },
  {
   "cell_type": "code",
   "execution_count": 74,
   "metadata": {},
   "outputs": [],
   "source": [
    "gdd_data = gdd_data[~gdd_data.Year.isin(non_year)]"
   ]
  },
  {
   "cell_type": "code",
   "execution_count": 75,
   "metadata": {},
   "outputs": [],
   "source": [
    "gdd_data.Year = pd.to_numeric(gdd_data.Year)"
   ]
  },
  {
   "cell_type": "code",
   "execution_count": 76,
   "metadata": {},
   "outputs": [],
   "source": [
    "year_range = list(range(1990, 2018))"
   ]
  },
  {
   "cell_type": "code",
   "execution_count": 77,
   "metadata": {},
   "outputs": [],
   "source": [
    "gdd_filter = gdd_data[(gdd_data['Year'].isin(year_range)) & \\\n",
    "                      (gdd_data['Month'] == 10) & (gdd_data['Day'] == 10)]"
   ]
  },
  {
   "cell_type": "code",
   "execution_count": 78,
   "metadata": {
    "scrolled": true
   },
   "outputs": [],
   "source": [
    "gdd = gdd_filter.drop(['Month', 'Day'], axis=1)"
   ]
  },
  {
   "cell_type": "markdown",
   "metadata": {},
   "source": [
    "Merge gdd data with landuse_fertilizer_practices data on year."
   ]
  },
  {
   "cell_type": "code",
   "execution_count": 79,
   "metadata": {},
   "outputs": [],
   "source": [
    "gdd_added = landuse_fertilizer_practices.merge(gdd, how='left')"
   ]
  },
  {
   "cell_type": "markdown",
   "metadata": {},
   "source": [
    "Convert acrage data to ratios"
   ]
  },
  {
   "cell_type": "code",
   "execution_count": 80,
   "metadata": {},
   "outputs": [],
   "source": [
    "gdd_added['full_till_ratio'] = gdd_added['Conventional Till']\\\n",
    "    / gdd_added['Total IN Corn Acres (Thousands of acres)']\n",
    "    \n",
    "gdd_added['conservation_till_ratio'] = 1 - gdd_added['full_till_ratio']\n",
    "    \n",
    "gdd_added['cover_crop_ratio'] = gdd_added['IN Corn Cover Crop (Thousands of acres)']\\\n",
    "    / gdd_added['Total IN Corn Acres (Thousands of acres)']"
   ]
  },
  {
   "cell_type": "markdown",
   "metadata": {},
   "source": [
    "Remove spaces and uppercases from column names, filter out unnecessary features."
   ]
  },
  {
   "cell_type": "code",
   "execution_count": 81,
   "metadata": {},
   "outputs": [
    {
     "name": "stderr",
     "output_type": "stream",
     "text": [
      "<ipython-input-81-a35bcfb4713b>:4: SettingWithCopyWarning: \n",
      "A value is trying to be set on a copy of a slice from a DataFrame.\n",
      "Try using .loc[row_indexer,col_indexer] = value instead\n",
      "\n",
      "See the caveats in the documentation: https://pandas.pydata.org/pandas-docs/stable/user_guide/indexing.html#returning-a-view-versus-a-copy\n",
      "  ratio_data['total_acres'] = gdd_added['Total IN Corn Acres (Thousands of acres)']\n",
      "<ipython-input-81-a35bcfb4713b>:5: SettingWithCopyWarning: \n",
      "A value is trying to be set on a copy of a slice from a DataFrame.\n",
      "Try using .loc[row_indexer,col_indexer] = value instead\n",
      "\n",
      "See the caveats in the documentation: https://pandas.pydata.org/pandas-docs/stable/user_guide/indexing.html#returning-a-view-versus-a-copy\n",
      "  ratio_data['emissions'] = gdd_added['Per Acre Emissions']\n",
      "<ipython-input-81-a35bcfb4713b>:6: SettingWithCopyWarning: \n",
      "A value is trying to be set on a copy of a slice from a DataFrame.\n",
      "Try using .loc[row_indexer,col_indexer] = value instead\n",
      "\n",
      "See the caveats in the documentation: https://pandas.pydata.org/pandas-docs/stable/user_guide/indexing.html#returning-a-view-versus-a-copy\n",
      "  ratio_data['yield'] = gdd_added['IN Corn Yield per Acre']\n"
     ]
    }
   ],
   "source": [
    "ratio_data = gdd_added[['Year', 'Nitrogen', 'Phosphate', 'Potash', 'Precipitation', \\\n",
    "                     'Average Temperature', 'Accumulated GDD',\\\n",
    "                     'full_till_ratio', 'cover_crop_ratio', 'efficiency']]\n",
    "ratio_data['total_acres'] = gdd_added['Total IN Corn Acres (Thousands of acres)']\n",
    "ratio_data['emissions'] = gdd_added['Per Acre Emissions']\n",
    "ratio_data['yield'] = gdd_added['IN Corn Yield per Acre']"
   ]
  },
  {
   "cell_type": "code",
   "execution_count": 82,
   "metadata": {},
   "outputs": [],
   "source": [
    "ratio_data.columns = ratio_data.columns.str.replace(' ', '_')\n",
    "ratio_data.columns = ratio_data.columns.str.lower()"
   ]
  },
  {
   "cell_type": "code",
   "execution_count": 83,
   "metadata": {
    "scrolled": true
   },
   "outputs": [
    {
     "name": "stdout",
     "output_type": "stream",
     "text": [
      "<class 'pandas.core.frame.DataFrame'>\n",
      "Int64Index: 28 entries, 0 to 27\n",
      "Data columns (total 13 columns):\n",
      " #   Column               Non-Null Count  Dtype  \n",
      "---  ------               --------------  -----  \n",
      " 0   year                 28 non-null     object \n",
      " 1   nitrogen             28 non-null     object \n",
      " 2   phosphate            28 non-null     object \n",
      " 3   potash               28 non-null     object \n",
      " 4   precipitation        28 non-null     float64\n",
      " 5   average_temperature  28 non-null     float64\n",
      " 6   accumulated_gdd      28 non-null     float64\n",
      " 7   full_till_ratio      28 non-null     float64\n",
      " 8   cover_crop_ratio     28 non-null     float64\n",
      " 9   efficiency           28 non-null     float64\n",
      " 10  total_acres          28 non-null     float64\n",
      " 11  emissions            28 non-null     float64\n",
      " 12  yield                28 non-null     int64  \n",
      "dtypes: float64(8), int64(1), object(4)\n",
      "memory usage: 3.1+ KB\n"
     ]
    }
   ],
   "source": [
    "ratio_data.info()"
   ]
  },
  {
   "cell_type": "markdown",
   "metadata": {},
   "source": [
    "Save the ratio_data df as wrangled_data.csv"
   ]
  },
  {
   "cell_type": "code",
   "execution_count": 84,
   "metadata": {},
   "outputs": [],
   "source": [
    "ratio_data.to_csv('/Users/coleromanyk/Documents/GitHub/Capstone-2/Data/wrangled_data.csv', index=False)"
   ]
  }
 ],
 "metadata": {
  "kernelspec": {
   "display_name": "Python 3",
   "language": "python",
   "name": "python3"
  },
  "language_info": {
   "codemirror_mode": {
    "name": "ipython",
    "version": 3
   },
   "file_extension": ".py",
   "mimetype": "text/x-python",
   "name": "python",
   "nbconvert_exporter": "python",
   "pygments_lexer": "ipython3",
   "version": "3.8.5"
  }
 },
 "nbformat": 4,
 "nbformat_minor": 4
}
